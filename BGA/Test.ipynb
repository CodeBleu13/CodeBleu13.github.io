{
 "metadata": {
  "language_info": {
   "codemirror_mode": {
    "name": "ipython",
    "version": 3
   },
   "file_extension": ".py",
   "mimetype": "text/x-python",
   "name": "python",
   "nbconvert_exporter": "python",
   "pygments_lexer": "ipython3",
   "version": "3.8.6-final"
  },
  "orig_nbformat": 2,
  "kernelspec": {
   "name": "Python 3.8.6 32-bit",
   "display_name": "Python 3.8.6 32-bit",
   "metadata": {
    "interpreter": {
     "hash": "7a542ca580817fc4dd55327026e074e2fa0cd470fc5dee9350c2d8b13822db8d"
    }
   }
  }
 },
 "nbformat": 4,
 "nbformat_minor": 2,
 "cells": [
  {
   "source": [
    "# TEST OF THE `PYRANKVOTE` plugin\n",
    "\n",
    "using the test data from the sample stuff, we have data that needs to be converted into appropriate DF\n"
   ],
   "cell_type": "markdown",
   "metadata": {}
  },
  {
   "cell_type": "code",
   "execution_count": 1,
   "metadata": {
    "tags": []
   },
   "outputs": [],
   "source": [
    "import pyrankvote as prv\n",
    "from pyrankvote import Candidate, Ballot\n",
    "import pandas as pd\n",
    "\n",
    "%matplotlib inline"
   ]
  },
  {
   "cell_type": "code",
   "execution_count": 11,
   "metadata": {},
   "outputs": [],
   "source": [
    "test = pd.read_csv(\"Ranked Voting Test.csv\", index_col=\"Timestamp\", parse_dates=True)"
   ]
  },
  {
   "cell_type": "code",
   "execution_count": 12,
   "metadata": {},
   "outputs": [
    {
     "output_type": "execute_result",
     "data": {
      "text/plain": "                    Best Mobile Phone Company [Choice 1]  \\\nTimestamp                                                  \n2020-10-04 15:35:56                                Apple   \n2020-10-04 22:18:19                                Apple   \n2020-10-05 12:26:36                                Apple   \n2020-10-05 12:27:21                             Motorola   \n2020-10-05 14:01:47                              Samsung   \n2020-10-05 15:15:21                                Apple   \n\n                    Best Mobile Phone Company [Choice 2]  \\\nTimestamp                                                  \n2020-10-04 15:35:56                              Samsung   \n2020-10-04 22:18:19                              Samsung   \n2020-10-05 12:26:36                              Samsung   \n2020-10-05 12:27:21                                   LG   \n2020-10-05 14:01:47                                   LG   \n2020-10-05 15:15:21                              Samsung   \n\n                    Best Mobile Phone Company [Choice 3]  \\\nTimestamp                                                  \n2020-10-04 15:35:56                                   LG   \n2020-10-04 22:18:19                                   LG   \n2020-10-05 12:26:36                                   LG   \n2020-10-05 12:27:21                              Samsung   \n2020-10-05 14:01:47                                Apple   \n2020-10-05 15:15:21                                   LG   \n\n                    Best Mobile Phone Company [Choice 4]  \nTimestamp                                                 \n2020-10-04 15:35:56                             Motorola  \n2020-10-04 22:18:19                             Motorola  \n2020-10-05 12:26:36                             Motorola  \n2020-10-05 12:27:21                                Apple  \n2020-10-05 14:01:47                             Motorola  \n2020-10-05 15:15:21                             Motorola  ",
      "text/html": "<div>\n<style scoped>\n    .dataframe tbody tr th:only-of-type {\n        vertical-align: middle;\n    }\n\n    .dataframe tbody tr th {\n        vertical-align: top;\n    }\n\n    .dataframe thead th {\n        text-align: right;\n    }\n</style>\n<table border=\"1\" class=\"dataframe\">\n  <thead>\n    <tr style=\"text-align: right;\">\n      <th></th>\n      <th>Best Mobile Phone Company [Choice 1]</th>\n      <th>Best Mobile Phone Company [Choice 2]</th>\n      <th>Best Mobile Phone Company [Choice 3]</th>\n      <th>Best Mobile Phone Company [Choice 4]</th>\n    </tr>\n    <tr>\n      <th>Timestamp</th>\n      <th></th>\n      <th></th>\n      <th></th>\n      <th></th>\n    </tr>\n  </thead>\n  <tbody>\n    <tr>\n      <th>2020-10-04 15:35:56</th>\n      <td>Apple</td>\n      <td>Samsung</td>\n      <td>LG</td>\n      <td>Motorola</td>\n    </tr>\n    <tr>\n      <th>2020-10-04 22:18:19</th>\n      <td>Apple</td>\n      <td>Samsung</td>\n      <td>LG</td>\n      <td>Motorola</td>\n    </tr>\n    <tr>\n      <th>2020-10-05 12:26:36</th>\n      <td>Apple</td>\n      <td>Samsung</td>\n      <td>LG</td>\n      <td>Motorola</td>\n    </tr>\n    <tr>\n      <th>2020-10-05 12:27:21</th>\n      <td>Motorola</td>\n      <td>LG</td>\n      <td>Samsung</td>\n      <td>Apple</td>\n    </tr>\n    <tr>\n      <th>2020-10-05 14:01:47</th>\n      <td>Samsung</td>\n      <td>LG</td>\n      <td>Apple</td>\n      <td>Motorola</td>\n    </tr>\n    <tr>\n      <th>2020-10-05 15:15:21</th>\n      <td>Apple</td>\n      <td>Samsung</td>\n      <td>LG</td>\n      <td>Motorola</td>\n    </tr>\n  </tbody>\n</table>\n</div>"
     },
     "metadata": {},
     "execution_count": 12
    }
   ],
   "source": [
    "tDrink = test.iloc[:,0:6]\n",
    "tPhone = test.iloc[:,6:10]\n",
    "tBM = test.iloc[:,10:22]\n",
    "tFM = test.iloc[:,22:34]\n",
    "tMedia = test.iloc[:,39:]\n",
    "tCup = test.iloc[:,39:]\n",
    "\n",
    "tPhone"
   ]
  },
  {
   "cell_type": "code",
   "execution_count": 13,
   "metadata": {},
   "outputs": [
    {
     "output_type": "execute_result",
     "data": {
      "text/plain": "                    Best cup [Choice 1] Best cup [Choice 2]  \\\nTimestamp                                                     \n2020-10-04 15:35:56                 Mug             Tankard   \n2020-10-04 22:18:19               Stein        A SIMPLE CUP   \n2020-10-05 12:26:36             Tankard               Stein   \n2020-10-05 12:27:21        A SIMPLE CUP                 Mug   \n2020-10-05 14:01:47          Pint Glass             Tankard   \n2020-10-05 15:15:21        A SIMPLE CUP          Pint Glass   \n\n                    Best cup [Choice 3] Best cup [Choice 4]  \\\nTimestamp                                                     \n2020-10-04 15:35:56              Beaker               Stein   \n2020-10-04 22:18:19                 Mug         Tulip Glass   \n2020-10-05 12:26:36         Tulip Glass          Pint Glass   \n2020-10-05 12:27:21              Beaker          Pint Glass   \n2020-10-05 14:01:47        A SIMPLE CUP                 Mug   \n2020-10-05 15:15:21                 Mug               Stein   \n\n                    Best cup [Choice 5] Best cup [Choice 6]  \\\nTimestamp                                                     \n2020-10-04 15:35:56          Pint Glass         Tulip Glass   \n2020-10-04 22:18:19          Pint Glass              Beaker   \n2020-10-05 12:26:36              Beaker                 Mug   \n2020-10-05 12:27:21         Tulip Glass               Stein   \n2020-10-05 14:01:47               Stein              Beaker   \n2020-10-05 15:15:21             Tankard         Tulip Glass   \n\n                    Best cup [Choice 7]  \nTimestamp                                \n2020-10-04 15:35:56        A SIMPLE CUP  \n2020-10-04 22:18:19             Tankard  \n2020-10-05 12:26:36        A SIMPLE CUP  \n2020-10-05 12:27:21             Tankard  \n2020-10-05 14:01:47         Tulip Glass  \n2020-10-05 15:15:21              Beaker  ",
      "text/html": "<div>\n<style scoped>\n    .dataframe tbody tr th:only-of-type {\n        vertical-align: middle;\n    }\n\n    .dataframe tbody tr th {\n        vertical-align: top;\n    }\n\n    .dataframe thead th {\n        text-align: right;\n    }\n</style>\n<table border=\"1\" class=\"dataframe\">\n  <thead>\n    <tr style=\"text-align: right;\">\n      <th></th>\n      <th>Best cup [Choice 1]</th>\n      <th>Best cup [Choice 2]</th>\n      <th>Best cup [Choice 3]</th>\n      <th>Best cup [Choice 4]</th>\n      <th>Best cup [Choice 5]</th>\n      <th>Best cup [Choice 6]</th>\n      <th>Best cup [Choice 7]</th>\n    </tr>\n    <tr>\n      <th>Timestamp</th>\n      <th></th>\n      <th></th>\n      <th></th>\n      <th></th>\n      <th></th>\n      <th></th>\n      <th></th>\n    </tr>\n  </thead>\n  <tbody>\n    <tr>\n      <th>2020-10-04 15:35:56</th>\n      <td>Mug</td>\n      <td>Tankard</td>\n      <td>Beaker</td>\n      <td>Stein</td>\n      <td>Pint Glass</td>\n      <td>Tulip Glass</td>\n      <td>A SIMPLE CUP</td>\n    </tr>\n    <tr>\n      <th>2020-10-04 22:18:19</th>\n      <td>Stein</td>\n      <td>A SIMPLE CUP</td>\n      <td>Mug</td>\n      <td>Tulip Glass</td>\n      <td>Pint Glass</td>\n      <td>Beaker</td>\n      <td>Tankard</td>\n    </tr>\n    <tr>\n      <th>2020-10-05 12:26:36</th>\n      <td>Tankard</td>\n      <td>Stein</td>\n      <td>Tulip Glass</td>\n      <td>Pint Glass</td>\n      <td>Beaker</td>\n      <td>Mug</td>\n      <td>A SIMPLE CUP</td>\n    </tr>\n    <tr>\n      <th>2020-10-05 12:27:21</th>\n      <td>A SIMPLE CUP</td>\n      <td>Mug</td>\n      <td>Beaker</td>\n      <td>Pint Glass</td>\n      <td>Tulip Glass</td>\n      <td>Stein</td>\n      <td>Tankard</td>\n    </tr>\n    <tr>\n      <th>2020-10-05 14:01:47</th>\n      <td>Pint Glass</td>\n      <td>Tankard</td>\n      <td>A SIMPLE CUP</td>\n      <td>Mug</td>\n      <td>Stein</td>\n      <td>Beaker</td>\n      <td>Tulip Glass</td>\n    </tr>\n    <tr>\n      <th>2020-10-05 15:15:21</th>\n      <td>A SIMPLE CUP</td>\n      <td>Pint Glass</td>\n      <td>Mug</td>\n      <td>Stein</td>\n      <td>Tankard</td>\n      <td>Tulip Glass</td>\n      <td>Beaker</td>\n    </tr>\n  </tbody>\n</table>\n</div>"
     },
     "metadata": {},
     "execution_count": 13
    }
   ],
   "source": [
    "\n",
    "tCup"
   ]
  },
  {
   "cell_type": "code",
   "execution_count": 14,
   "metadata": {
    "tags": []
   },
   "outputs": [
    {
     "output_type": "stream",
     "name": "stdout",
     "text": "\nROUND 1\nCandidate      Votes  Status\n-----------  -------  --------\nTea                2  Hopeful\nCoffee             1  Hopeful\nMonster            1  Hopeful\nRedbull            1  Hopeful\nGFuel              1  Rejected\nRockstar           0  Rejected\n\nROUND 2\nCandidate      Votes  Status\n-----------  -------  --------\nTea                2  Hopeful\nRedbull            2  Hopeful\nCoffee             1  Rejected\nMonster            1  Rejected\nGFuel              0  Rejected\nRockstar           0  Rejected\n\nFINAL RESULT\nCandidate      Votes  Status\n-----------  -------  --------\nTea                4  Elected\nRedbull            2  Rejected\nCoffee             0  Rejected\nMonster            0  Rejected\nGFuel              0  Rejected\nRockstar           0  Rejected\n\n[&lt;Candidate(&#39;Tea&#39;)&gt;]\n"
    }
   ],
   "source": [
    "cans = {'Tea':Candidate('Tea'),\n",
    "        'Coffee':Candidate('Coffee'),\n",
    "        'Monster':Candidate('Monster'),\n",
    "        'Rockstar':Candidate('Rockstar'),\n",
    "        'Redbull':Candidate('Redbull'),\n",
    "        'GFuel':Candidate('GFuel')}\n",
    "tDrink.replace(cans, inplace=True)\n",
    "\n",
    "drinks = [Candidate('Tea'),Candidate('Coffee'),Candidate('Monster'),Candidate('Rockstar'),Candidate('Redbull'),Candidate('GFuel')]\n",
    "dBallots = []\n",
    "i=0\n",
    "while (i < len(tDrink)) :\n",
    "    dBallots.append(Ballot(ranked_candidates=tDrink.iloc[i].tolist()))\n",
    "    i += 1\n",
    "\n",
    "result = prv.instant_runoff_voting(drinks,dBallots)\n",
    "print()\n",
    "print(result)\n",
    "print(result.get_winners())"
   ]
  },
  {
   "cell_type": "code",
   "execution_count": 15,
   "metadata": {
    "tags": []
   },
   "outputs": [
    {
     "output_type": "stream",
     "name": "stdout",
     "text": "FINAL RESULT\nCandidate      Votes  Status\n-----------  -------  --------\nApple              4  Elected\nSamsung            1  Rejected\nMotorola           1  Rejected\nLG                 0  Rejected\n\n"
    }
   ],
   "source": [
    "ph = {'Apple':Candidate('Apple'),\n",
    "        'Samsung':Candidate('Samsung'),\n",
    "        'LG':Candidate('LG'),\n",
    "        'Motorola':Candidate('Motorola')}\n",
    "tPhone.replace(ph, inplace=True)\n",
    "\n",
    "phcomp = [Candidate('Apple'),Candidate('Samsung'),Candidate('LG'),Candidate('Motorola')]\n",
    "phBallots = []\n",
    "i=0\n",
    "while (i < len(tPhone)) :\n",
    "    phBallots.append(Ballot(ranked_candidates=tPhone.iloc[i].tolist()))\n",
    "    i += 1\n",
    "\n",
    "result = prv.instant_runoff_voting(phcomp,phBallots)\n",
    "print(result)"
   ]
  },
  {
   "cell_type": "code",
   "execution_count": null,
   "metadata": {},
   "outputs": [],
   "source": [
    "tBM = test.iloc[:,10:22]\n",
    "tFM = test.iloc[:,22:34]\n",
    "\n",
    "months = {'January':Candidate('Jan'),\n",
    "        'February':Candidate('Feb'),\n",
    "        'March':Candidate('Mar'),\n",
    "        'April':Candidate('Apr'),\n",
    "        'May':Candidate('May'),\n",
    "        'June':Candidate('Jun'),\n",
    "        'July':Candidate('Jul'),\n",
    "        'August':Candidate('Aug'),\n",
    "        'September':Candidate('Sep'),\n",
    "        'October':Candidate('Oct'),\n",
    "        'November':Candidate('Nov'),\n",
    "        'December':Candidate('Dec') }\n",
    "tBM.replace(months, inplace=True)\n",
    "tFM.replace(months, inplace=True)\n",
    "\n",
    "moncomp = [Candidate('Jan'),Candidate('Feb'),Candidate('Mar'),Candidate('Apr'),Candidate('May'),Candidate('Jun'),Candidate('Jul'),Candidate('Aug'),Candidate('Sep'),Candidate('Oct'),Candidate('Nov'),Candidate('Dec')]\n",
    "\n",
    "BMBallots = []\n",
    "FMBallots = []\n",
    "i=0\n",
    "while (i < len(tPhone)) :\n",
    "    phBallots.append(Ballot(ranked_candidates=tPhone.iloc[i].tolist()))\n",
    "    i += 1\n",
    "\n",
    "result = prv.instant_runoff_voting(phcomp,phBallots)\n",
    "print(result)"
   ]
  }
 ]
}