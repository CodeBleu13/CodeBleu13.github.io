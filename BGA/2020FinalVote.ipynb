{
 "cells": [
  {
   "cell_type": "markdown",
   "metadata": {},
   "source": [
    "# The Bleu Game Awards 2020 Final\n",
    "\n",
    "The votes have been Cast. Let's see the results\n"
   ]
  },
  {
   "cell_type": "code",
   "execution_count": 1,
   "metadata": {
    "tags": []
   },
   "outputs": [],
   "source": [
    "import pyrankvote as prv\n",
    "from pyrankvote import Candidate, Ballot\n",
    "import pandas as pd\n",
    "\n",
    "%matplotlib inline"
   ]
  },
  {
   "cell_type": "code",
   "execution_count": 2,
   "metadata": {},
   "outputs": [],
   "source": [
    "votes = pd.read_csv(\"BGAs.csv\", index_col=\"Timestamp\", parse_dates=True)"
   ]
  },
  {
   "cell_type": "code",
   "execution_count": 3,
   "metadata": {},
   "outputs": [],
   "source": [
    "GOTY2020 = votes.iloc[:,0:6]\n",
    "PERF2020 = votes.iloc[:,6:9]\n",
    "MUSI2020 = votes.iloc[:,9:13]\n",
    "ARTS2020 = votes.iloc[:,13:17]\n",
    "NARR2020 = votes.iloc[:,17:21]\n",
    "COOP2020 = votes.iloc[:,21:25]\n",
    "MULT2020 = votes.iloc[:,25:28]\n",
    "ONGO2020 = votes.iloc[:,28:33]\n",
    "DLCS2020 = votes.iloc[:,33:41]\n",
    "OPWO2020 = votes.iloc[:,41:43]\n",
    "ACTI2020 = votes.iloc[:,43:46]\n",
    "ACAD2020 = votes.iloc[:,46:48]\n",
    "STRA2020 = votes.iloc[:,48:50]\n",
    "RPGS2020 = votes.iloc[:,50:59]\n",
    "SPOR2020 = votes.iloc[:,59:63]\n",
    "FAMI2020 = votes.iloc[:,63:66]\n",
    "REMA2020 = votes.iloc[:,66:71]\n",
    "INDI2020 = votes.iloc[:,71:75]\n",
    "CONT2020 = votes.iloc[:,75:79]\n",
    "\n",
    "GOTYqq = votes.iloc[:,79:82]\n",
    "PERFqq = votes.iloc[:,82:86]\n",
    "MUSIqq = votes.iloc[:,86:88]\n",
    "ARTSqq = votes.iloc[:,88:90]\n",
    "NARRqq = votes.iloc[:,90:93]\n",
    "COOPqq = votes.iloc[:,93:99]\n",
    "OPWOqq = votes.iloc[:,99:102]\n",
    "ACTIqq = votes.iloc[:,102:109]\n",
    "ACADqq = votes.iloc[:,109:111]\n",
    "STRAqq = votes.iloc[:,111:117]\n",
    "RPGSqq = votes.iloc[:,117:122]\n",
    "SPORqq = votes.iloc[:,122:126]\n",
    "FAMIqq = votes.iloc[:,126:133]\n",
    "INDIqq = votes.iloc[:,133:143]"
   ]
  },
  {
   "cell_type": "markdown",
   "metadata": {},
   "source": [
    "## Quinquo Games"
   ]
  },
  {
   "cell_type": "markdown",
   "metadata": {},
   "source": [
    "### Best Performance"
   ]
  },
  {
   "cell_type": "code",
   "execution_count": 4,
   "metadata": {
    "tags": []
   },
   "outputs": [
    {
     "name": "stdout",
     "output_type": "stream",
     "text": [
      "[<Candidate('Ashley Johnson as Ellie from The Last of Us Part 1')>]\n"
     ]
    }
   ],
   "source": [
    "cans = {'Ashley Johnson as Ellie from The Last of Us Part 1':Candidate('Ashley Johnson as Ellie from The Last of Us Part 1'),\n",
    "        'Laura Bailey as Kait Diaz from Gears 5':Candidate('Laura Bailey as Kait Diaz from Gears 5'),\n",
    "        'Andrew Lackey as Ori from Ori and the Blind Forest':Candidate('Andrew Lackey as Ori from Ori and the Blind Forest'),\n",
    "        'Troy Baker as Joel from The Last of Us Part 1':Candidate('Troy Baker as Joel from The Last of Us Part 1')}\n",
    "PERFqq.replace(cans, inplace=True)\n",
    "\n",
    "canidates = [Candidate('Ashley Johnson as Ellie from The Last of Us Part 1'),Candidate('Laura Bailey as Kait Diaz from Gears 5'),\n",
    "            Candidate('Andrew Lackey as Ori from Ori and the Blind Forest'),Candidate('Troy Baker as Joel from The Last of Us Part 1')]\n",
    "ballots = []\n",
    "i=0\n",
    "while (i < len(PERFqq)) :\n",
    "    ballots.append(Ballot(ranked_candidates=PERFqq.iloc[i].tolist()))\n",
    "    i += 1\n",
    "\n",
    "result = prv.instant_runoff_voting(canidates,ballots)\n",
    "# print(result)\n",
    "print(result.get_winners())"
   ]
  },
  {
   "cell_type": "markdown",
   "metadata": {},
   "source": [
    "### Best Musical Score"
   ]
  },
  {
   "cell_type": "code",
   "execution_count": 5,
   "metadata": {},
   "outputs": [
    {
     "name": "stdout",
     "output_type": "stream",
     "text": [
      "[<Candidate('Ori and the Blind Forest')>]\n"
     ]
    }
   ],
   "source": [
    "# MUSIqq\n",
    "\n",
    "cans = {'Ori and the Blind Forest':Candidate('Ori and the Blind Forest'),\n",
    "        \"Marvel's Spider-Man\":Candidate(\"Marvel's Spider-Man\")}\n",
    "MUSIqq.replace(cans, inplace=True)\n",
    "\n",
    "canidates = [Candidate('Ori and the Blind Forest'),Candidate(\"Marvel's Spider-Man\")]\n",
    "ballots = []\n",
    "i=0\n",
    "while (i < len(MUSIqq)) :\n",
    "    ballots.append(Ballot(ranked_candidates=MUSIqq.iloc[i].tolist()))\n",
    "    i += 1\n",
    "\n",
    "result = prv.instant_runoff_voting(canidates,ballots)\n",
    "# print(result)\n",
    "print(result.get_winners())"
   ]
  },
  {
   "cell_type": "markdown",
   "metadata": {},
   "source": [
    "### Best Art Direction"
   ]
  },
  {
   "cell_type": "code",
   "execution_count": 6,
   "metadata": {},
   "outputs": [
    {
     "name": "stdout",
     "output_type": "stream",
     "text": [
      "[<Candidate('Ori and the Blind Forest')>]\n"
     ]
    }
   ],
   "source": [
    "# ARTSqq\n",
    "\n",
    "cans = {'Ori and the Blind Forest':Candidate('Ori and the Blind Forest'),\n",
    "        \"Marvel's Spider-Man\":Candidate(\"Marvel's Spider-Man\")}\n",
    "ARTSqq.replace(cans, inplace=True)\n",
    "\n",
    "canidates = [Candidate('Ori and the Blind Forest'),Candidate(\"Marvel's Spider-Man\")]\n",
    "ballots = []\n",
    "i=0\n",
    "while (i < len(ARTSqq)) :\n",
    "    ballots.append(Ballot(ranked_candidates=ARTSqq.iloc[i].tolist()))\n",
    "    i += 1\n",
    "\n",
    "result = prv.instant_runoff_voting(canidates,ballots)\n",
    "# print(result)\n",
    "print(result.get_winners())"
   ]
  },
  {
   "cell_type": "markdown",
   "metadata": {},
   "source": [
    "### Best Narrative"
   ]
  },
  {
   "cell_type": "code",
   "execution_count": 7,
   "metadata": {},
   "outputs": [
    {
     "name": "stdout",
     "output_type": "stream",
     "text": [
      "[<Candidate('The Last of Us Part 1')>]\n"
     ]
    }
   ],
   "source": [
    "#NARRqq\n",
    "\n",
    "cans = {'Ori and the Blind Forest':Candidate('Ori and the Blind Forest'),\n",
    "        \"Hellblade: Senua's Sacrifice\":Candidate(\"Hellblade: Senua's Sacrifice\"),\n",
    "        'The Last of Us Part 1':Candidate('The Last of Us Part 1')}\n",
    "NARRqq.replace(cans, inplace=True)\n",
    "\n",
    "canidates = [Candidate('Ori and the Blind Forest'),Candidate(\"Hellblade: Senua's Sacrifice\"),\n",
    "            Candidate('The Last of Us Part 1')]\n",
    "ballots = []\n",
    "i=0\n",
    "while (i < len(NARRqq)) :\n",
    "    ballots.append(Ballot(ranked_candidates=NARRqq.iloc[i].tolist()))\n",
    "    i += 1\n",
    "\n",
    "result = prv.instant_runoff_voting(canidates,ballots)\n",
    "# print(result)\n",
    "print(result.get_winners())\n"
   ]
  },
  {
   "cell_type": "markdown",
   "metadata": {},
   "source": [
    "### Best Co-op Game"
   ]
  },
  {
   "cell_type": "code",
   "execution_count": 8,
   "metadata": {},
   "outputs": [
    {
     "name": "stdout",
     "output_type": "stream",
     "text": [
      "[<Candidate('Minecraft')>]\n",
      "\\l\\l\n",
      "ROUND 1\n",
      "Candidate          Votes  Status\n",
      "---------------  -------  --------\n",
      "Destiny 2              4  Hopeful\n",
      "Minecraft              3  Hopeful\n",
      "Gears 5                2  Hopeful\n",
      "Stardew Valley         2  Rejected\n",
      "World War Z            0  Rejected\n",
      "Killing floor 2        0  Rejected\n",
      "\n",
      "ROUND 2\n",
      "Candidate          Votes  Status\n",
      "---------------  -------  --------\n",
      "Minecraft              5  Hopeful\n",
      "Destiny 2              4  Hopeful\n",
      "Gears 5                2  Rejected\n",
      "Stardew Valley         0  Rejected\n",
      "World War Z            0  Rejected\n",
      "Killing floor 2        0  Rejected\n",
      "\n",
      "FINAL RESULT\n",
      "Candidate          Votes  Status\n",
      "---------------  -------  --------\n",
      "Minecraft              6  Elected\n",
      "Destiny 2              5  Rejected\n",
      "Gears 5                0  Rejected\n",
      "Stardew Valley         0  Rejected\n",
      "World War Z            0  Rejected\n",
      "Killing floor 2        0  Rejected\n",
      "\n"
     ]
    }
   ],
   "source": [
    "#COOPqq\n",
    "\n",
    "cans = {'Gears 5':Candidate('Gears 5'),\n",
    "        'Destiny 2':Candidate('Destiny 2'),\n",
    "        'Killing floor 2':Candidate('Killing floor 2'),\n",
    "        'Minecraft':Candidate('Minecraft'),\n",
    "        'Stardew Valley':Candidate('Stardew Valley'),\n",
    "        'World War Z':Candidate('World War Z'),}\n",
    "COOPqq.replace(cans, inplace=True)\n",
    "\n",
    "canidates = [Candidate('Gears 5'),Candidate('Destiny 2'), Candidate('Minecraft'), Candidate('Stardew Valley'),\n",
    "            Candidate('Killing floor 2'), Candidate('World War Z')]\n",
    "ballots = []\n",
    "i=0\n",
    "while (i < len(COOPqq)) :\n",
    "    ballots.append(Ballot(ranked_candidates=COOPqq.iloc[i].tolist()))\n",
    "    i += 1\n",
    "\n",
    "result = prv.instant_runoff_voting(canidates,ballots)\n",
    "print(result.get_winners())\n",
    "print('\\l\\l')\n",
    "print(result)\n",
    "\n"
   ]
  },
  {
   "cell_type": "markdown",
   "metadata": {},
   "source": [
    "### Best Open World Game"
   ]
  },
  {
   "cell_type": "code",
   "execution_count": 9,
   "metadata": {},
   "outputs": [
    {
     "name": "stdout",
     "output_type": "stream",
     "text": [
      "[<Candidate('Marvel's Spider-Man')>]\n",
      "\\l\\l\n",
      "FINAL RESULT\n",
      "Candidate                   Votes  Status\n",
      "------------------------  -------  --------\n",
      "Marvel's Spider-Man             8  Elected\n",
      "Assassin's Creed Odyssey        3  Rejected\n",
      "Ori and the Blind Forest        0  Rejected\n",
      "\n"
     ]
    }
   ],
   "source": [
    "# OPWOqq\n",
    "\n",
    "cans = {\"Assassin's Creed Odyssey\":Candidate(\"Assassin's Creed Odyssey\"),\n",
    "        \"Marvel's Spider-Man\":Candidate(\"Marvel's Spider-Man\"),\n",
    "        'Ori and the Blind Forest':Candidate('Ori and the Blind Forest')}\n",
    "OPWOqq.replace(cans, inplace=True)\n",
    "\n",
    "canidates = [Candidate(\"Assassin's Creed Odyssey\"),Candidate(\"Marvel's Spider-Man\"), Candidate('Ori and the Blind Forest')]\n",
    "ballots = []\n",
    "i=0\n",
    "while (i < len(OPWOqq)) :\n",
    "    ballots.append(Ballot(ranked_candidates=OPWOqq.iloc[i].tolist()))\n",
    "    i += 1\n",
    "\n",
    "result = prv.instant_runoff_voting(canidates,ballots)\n",
    "print(result.get_winners())\n",
    "print('\\l\\l')\n",
    "print(result)\n"
   ]
  },
  {
   "cell_type": "markdown",
   "metadata": {},
   "source": [
    "### Best Action Game"
   ]
  },
  {
   "cell_type": "code",
   "execution_count": 10,
   "metadata": {},
   "outputs": [
    {
     "name": "stdout",
     "output_type": "stream",
     "text": [
      "[<Candidate('Marvel's Spider-Man')>]\n",
      "\\l\\l\n",
      "FINAL RESULT\n",
      "Candidate                         Votes  Status\n",
      "------------------------------  -------  --------\n",
      "Marvel's Spider-Man                   9  Elected\n",
      "Gears 5                               2  Rejected\n",
      "Metro Exodus                          0  Rejected\n",
      "My Friend Pedro                       0  Rejected\n",
      "Apex: Legends                         0  Rejected\n",
      "Bulletstorm: Full Clip Edition        0  Rejected\n",
      "Rage 2                                0  Rejected\n",
      "\n"
     ]
    }
   ],
   "source": [
    "# ACTIqq\n",
    "\n",
    "cans = {'Gears 5':Candidate('Gears 5'),\n",
    "        'Apex: Legends':Candidate('Apex: Legends'),\n",
    "        'Bulletstorm: Full Clip Edition':Candidate('Bulletstorm: Full Clip Edition'),\n",
    "        \"Marvel's Spider-Man\":Candidate(\"Marvel's Spider-Man\"),\n",
    "        'Metro Exodus':Candidate('Metro Exodus'),\n",
    "        'My Friend Pedro':Candidate('My Friend Pedro'),\n",
    "        'Rage 2':Candidate('Rage 2'),}\n",
    "ACTIqq.replace(cans, inplace=True)\n",
    "\n",
    "canidates = [Candidate('Gears 5'),Candidate('Apex: Legends'), Candidate('Bulletstorm: Full Clip Edition'), Candidate(\"Marvel's Spider-Man\"),\n",
    "            Candidate('Metro Exodus'), Candidate('My Friend Pedro'),Candidate('Rage 2')]\n",
    "ballots = []\n",
    "i=0\n",
    "while (i < len(ACTIqq)) :\n",
    "    ballots.append(Ballot(ranked_candidates=ACTIqq.iloc[i].tolist()))\n",
    "    i += 1\n",
    "\n",
    "result = prv.instant_runoff_voting(canidates,ballots)\n",
    "print(result.get_winners())\n",
    "print('\\l\\l')\n",
    "print(result)\n"
   ]
  },
  {
   "cell_type": "markdown",
   "metadata": {},
   "source": [
    "### Best Action Adventure Game"
   ]
  },
  {
   "cell_type": "code",
   "execution_count": 11,
   "metadata": {},
   "outputs": [
    {
     "name": "stdout",
     "output_type": "stream",
     "text": [
      "[<Candidate('Assassin's Creed Odyssey')>]\n",
      "\\l\\l\n",
      "FINAL RESULT\n",
      "Candidate                   Votes  Status\n",
      "------------------------  -------  --------\n",
      "Assassin's Creed Odyssey        8  Elected\n",
      "Ori and the Blind Forest        3  Rejected\n",
      "\n"
     ]
    }
   ],
   "source": [
    "# ACADqq\n",
    "\n",
    "cans = {\"Assassin's Creed Odyssey\":Candidate(\"Assassin's Creed Odyssey\"),\n",
    "        'Ori and the Blind Forest':Candidate('Ori and the Blind Forest'),}\n",
    "ACADqq.replace(cans, inplace=True)\n",
    "\n",
    "canidates = [Candidate(\"Assassin's Creed Odyssey\"),Candidate('Ori and the Blind Forest')]\n",
    "ballots = []\n",
    "i=0\n",
    "while (i < len(ACADqq)) :\n",
    "    ballots.append(Ballot(ranked_candidates=ACADqq.iloc[i].tolist()))\n",
    "    i += 1\n",
    "\n",
    "result = prv.instant_runoff_voting(canidates,ballots)\n",
    "print(result.get_winners())\n",
    "print('\\l\\l')\n",
    "print(result)\n"
   ]
  },
  {
   "cell_type": "markdown",
   "metadata": {},
   "source": [
    "### Best Strategy Game"
   ]
  },
  {
   "cell_type": "code",
   "execution_count": 12,
   "metadata": {},
   "outputs": [
    {
     "name": "stdout",
     "output_type": "stream",
     "text": [
      "[<Candidate('Gears Tactics')>]\n",
      "\\l\\l\n",
      "ROUND 1\n",
      "Candidate                     Votes  Status\n",
      "--------------------------  -------  --------\n",
      "Fire Emblem: Three Houses         3  Hopeful\n",
      "Gears Tactics                     3  Hopeful\n",
      "Rimworld                          3  Hopeful\n",
      "Crusader Kings III                2  Rejected\n",
      "Sins of a Solar Empire            0  Rejected\n",
      "Microsoft Flight Simulator        0  Rejected\n",
      "\n",
      "ROUND 2\n",
      "Candidate                     Votes  Status\n",
      "--------------------------  -------  --------\n",
      "Fire Emblem: Three Houses         5  Hopeful\n",
      "Gears Tactics                     3  Hopeful\n",
      "Rimworld                          3  Rejected\n",
      "Crusader Kings III                0  Rejected\n",
      "Sins of a Solar Empire            0  Rejected\n",
      "Microsoft Flight Simulator        0  Rejected\n",
      "\n",
      "FINAL RESULT\n",
      "Candidate                     Votes  Status\n",
      "--------------------------  -------  --------\n",
      "Gears Tactics                     6  Elected\n",
      "Fire Emblem: Three Houses         5  Rejected\n",
      "Rimworld                          0  Rejected\n",
      "Crusader Kings III                0  Rejected\n",
      "Sins of a Solar Empire            0  Rejected\n",
      "Microsoft Flight Simulator        0  Rejected\n",
      "\n"
     ]
    }
   ],
   "source": [
    "# STRAqq\n",
    "\n",
    "cans = {'Microsoft Flight Simulator':Candidate('Microsoft Flight Simulator'),\n",
    "        'Crusader Kings III':Candidate('Crusader Kings III'),\n",
    "        'Fire Emblem: Three Houses':Candidate('Fire Emblem: Three Houses'),\n",
    "        \"Gears Tactics\":Candidate(\"Gears Tactics\"),\n",
    "        'Rimworld':Candidate('Rimworld'),\n",
    "        'Sins of a Solar Empire':Candidate('Sins of a Solar Empire')}\n",
    "STRAqq.replace(cans, inplace=True)\n",
    "\n",
    "canidates = [Candidate('Microsoft Flight Simulator'),Candidate('Crusader Kings III'), Candidate('Fire Emblem: Three Houses'), Candidate(\"Gears Tactics\"),\n",
    "            Candidate('Rimworld'), Candidate('Sins of a Solar Empire')]\n",
    "ballots = []\n",
    "i=0\n",
    "while (i < len(STRAqq)) :\n",
    "    ballots.append(Ballot(ranked_candidates=STRAqq.iloc[i].tolist()))\n",
    "    i += 1\n",
    "\n",
    "result = prv.instant_runoff_voting(canidates,ballots)\n",
    "print(result.get_winners())\n",
    "print('\\l\\l')\n",
    "print(result)\n"
   ]
  },
  {
   "cell_type": "markdown",
   "metadata": {},
   "source": [
    "As it turns out, Gears Tactics was a 2020 game, and the BGA coordinators didn't catch it. As a result, Fire Emblem: Three Houses wins"
   ]
  },
  {
   "cell_type": "markdown",
   "metadata": {},
   "source": [
    "### Best RPG"
   ]
  },
  {
   "cell_type": "code",
   "execution_count": 13,
   "metadata": {},
   "outputs": [
    {
     "name": "stdout",
     "output_type": "stream",
     "text": [
      "[<Candidate('Assassin's Creed Odyssey')>]\n",
      "\\l\\l\n",
      "ROUND 1\n",
      "Candidate                   Votes  Status\n",
      "------------------------  -------  --------\n",
      "Assassin's Creed Odyssey        5  Hopeful\n",
      "Nier: Automata                  3  Hopeful\n",
      "Metro Exodus                    3  Rejected\n",
      "Borderlands 2                   0  Rejected\n",
      "Kingdom Hearts III              0  Rejected\n",
      "\n",
      "FINAL RESULT\n",
      "Candidate                   Votes  Status\n",
      "------------------------  -------  --------\n",
      "Assassin's Creed Odyssey        7  Elected\n",
      "Nier: Automata                  4  Rejected\n",
      "Metro Exodus                    0  Rejected\n",
      "Borderlands 2                   0  Rejected\n",
      "Kingdom Hearts III              0  Rejected\n",
      "\n"
     ]
    }
   ],
   "source": [
    "# RPGSqq\n",
    "\n",
    "cans = {'Kingdom Hearts III':Candidate('Kingdom Hearts III'),\n",
    "        'Borderlands 2':Candidate('Borderlands 2'),\n",
    "        'Metro Exodus':Candidate('Metro Exodus'),\n",
    "        \"Assassin's Creed Odyssey\":Candidate(\"Assassin's Creed Odyssey\"),\n",
    "        'Nier: Automata':Candidate('Nier: Automata')}\n",
    "RPGSqq.replace(cans, inplace=True)\n",
    "\n",
    "canidates = [Candidate('Kingdom Hearts III'),Candidate('Borderlands 2'), Candidate('Metro Exodus'), Candidate(\"Assassin's Creed Odyssey\"),\n",
    "            Candidate('Nier: Automata')]\n",
    "ballots = []\n",
    "i=0\n",
    "while (i < len(RPGSqq)) :\n",
    "    ballots.append(Ballot(ranked_candidates=RPGSqq.iloc[i].tolist()))\n",
    "    i += 1\n",
    "\n",
    "result = prv.instant_runoff_voting(canidates,ballots)\n",
    "print(result.get_winners())\n",
    "print('\\l\\l')\n",
    "print(result)"
   ]
  },
  {
   "cell_type": "markdown",
   "metadata": {},
   "source": [
    "### Best Sports Game"
   ]
  },
  {
   "cell_type": "code",
   "execution_count": 14,
   "metadata": {},
   "outputs": [
    {
     "name": "stdout",
     "output_type": "stream",
     "text": [
      "[<Candidate('Mortal Kombat 11')>]\n",
      "\\l\\l\n",
      "ROUND 1\n",
      "Candidate               Votes  Status\n",
      "--------------------  -------  --------\n",
      "Mortal Kombat 11            4  Hopeful\n",
      "Super Smash Ultimate        3  Hopeful\n",
      "FIFA 20                     3  Hopeful\n",
      "Dirt Rally 2                1  Rejected\n",
      "\n",
      "ROUND 2\n",
      "Candidate               Votes  Status\n",
      "--------------------  -------  --------\n",
      "Mortal Kombat 11            5  Hopeful\n",
      "Super Smash Ultimate        3  Hopeful\n",
      "FIFA 20                     3  Rejected\n",
      "Dirt Rally 2                0  Rejected\n",
      "\n",
      "FINAL RESULT\n",
      "Candidate               Votes  Status\n",
      "--------------------  -------  --------\n",
      "Mortal Kombat 11            6  Elected\n",
      "Super Smash Ultimate        5  Rejected\n",
      "FIFA 20                     0  Rejected\n",
      "Dirt Rally 2                0  Rejected\n",
      "\n"
     ]
    }
   ],
   "source": [
    "# SPORqq\n",
    "\n",
    "cans = {'FIFA 20':Candidate('FIFA 20'),\n",
    "        'Dirt Rally 2':Candidate('Dirt Rally 2'),\n",
    "        'Mortal Kombat 11':Candidate('Mortal Kombat 11'),\n",
    "        \"Super Smash Ultimate\":Candidate(\"Super Smash Ultimate\")}\n",
    "SPORqq.replace(cans, inplace=True)\n",
    "\n",
    "canidates = [Candidate('FIFA 20'),Candidate('Dirt Rally 2'), Candidate('Mortal Kombat 11'), Candidate(\"Super Smash Ultimate\")]\n",
    "ballots = []\n",
    "i=0\n",
    "while (i < len(SPORqq)) :\n",
    "    ballots.append(Ballot(ranked_candidates=SPORqq.iloc[i].tolist()))\n",
    "    i += 1\n",
    "\n",
    "result = prv.instant_runoff_voting(canidates,ballots)\n",
    "print(result.get_winners())\n",
    "print('\\l\\l')\n",
    "print(result)"
   ]
  },
  {
   "cell_type": "markdown",
   "metadata": {},
   "source": [
    "### Best Family/E10+ Game"
   ]
  },
  {
   "cell_type": "code",
   "execution_count": 15,
   "metadata": {},
   "outputs": [
    {
     "name": "stdout",
     "output_type": "stream",
     "text": [
      "[<Candidate('Minecraft')>]\n",
      "\\l\\l\n",
      "ROUND 1\n",
      "Candidate                   Votes  Status\n",
      "------------------------  -------  --------\n",
      "Minecraft                       3  Hopeful\n",
      "Super Mario Maker 2             3  Hopeful\n",
      "Ori and the Blind Forest        2  Hopeful\n",
      "Spyro Reignited                 1  Hopeful\n",
      "House Flipper                   1  Hopeful\n",
      "Luigi's Mansion 3               1  Rejected\n",
      "Stardew Valley                  0  Rejected\n",
      "\n",
      "ROUND 2\n",
      "Candidate                   Votes  Status\n",
      "------------------------  -------  --------\n",
      "Minecraft                       3  Hopeful\n",
      "Super Mario Maker 2             3  Hopeful\n",
      "Spyro Reignited                 2  Hopeful\n",
      "Ori and the Blind Forest        2  Hopeful\n",
      "House Flipper                   1  Rejected\n",
      "Luigi's Mansion 3               0  Rejected\n",
      "Stardew Valley                  0  Rejected\n",
      "\n",
      "ROUND 3\n",
      "Candidate                   Votes  Status\n",
      "------------------------  -------  --------\n",
      "Minecraft                       4  Hopeful\n",
      "Super Mario Maker 2             3  Hopeful\n",
      "Spyro Reignited                 2  Hopeful\n",
      "Ori and the Blind Forest        2  Rejected\n",
      "House Flipper                   0  Rejected\n",
      "Luigi's Mansion 3               0  Rejected\n",
      "Stardew Valley                  0  Rejected\n",
      "\n",
      "ROUND 4\n",
      "Candidate                   Votes  Status\n",
      "------------------------  -------  --------\n",
      "Minecraft                       5  Hopeful\n",
      "Spyro Reignited                 3  Hopeful\n",
      "Super Mario Maker 2             3  Rejected\n",
      "Ori and the Blind Forest        0  Rejected\n",
      "House Flipper                   0  Rejected\n",
      "Luigi's Mansion 3               0  Rejected\n",
      "Stardew Valley                  0  Rejected\n",
      "\n",
      "FINAL RESULT\n",
      "Candidate                   Votes  Status\n",
      "------------------------  -------  --------\n",
      "Minecraft                       7  Elected\n",
      "Spyro Reignited                 4  Rejected\n",
      "Super Mario Maker 2             0  Rejected\n",
      "Ori and the Blind Forest        0  Rejected\n",
      "House Flipper                   0  Rejected\n",
      "Luigi's Mansion 3               0  Rejected\n",
      "Stardew Valley                  0  Rejected\n",
      "\n"
     ]
    }
   ],
   "source": [
    "# FAMIqq\n",
    "\n",
    "cans = {'House Flipper':Candidate('House Flipper'),\n",
    "        \"Luigi's Mansion 3\":Candidate(\"Luigi's Mansion 3\"),\n",
    "        'Minecraft':Candidate('Minecraft'),\n",
    "        \"Ori and the Blind Forest\":Candidate(\"Ori and the Blind Forest\"),\n",
    "        \"Spyro Reignited\":Candidate(\"Spyro Reignited\"),\n",
    "        \"Stardew Valley\":Candidate(\"Stardew Valley\"),\n",
    "        \"Super Mario Maker 2\":Candidate(\"Super Mario Maker 2\")}\n",
    "FAMIqq.replace(cans, inplace=True)\n",
    "\n",
    "canidates = [Candidate('House Flipper'),Candidate(\"Luigi's Mansion 3\"), Candidate('Minecraft'), Candidate(\"Ori and the Blind Forest\")\n",
    "                        , Candidate(\"Spyro Reignited\"), Candidate(\"Stardew Valley\"), Candidate(\"Super Mario Maker 2\")]\n",
    "ballots = []\n",
    "i=0\n",
    "while (i < len(FAMIqq)) :\n",
    "    ballots.append(Ballot(ranked_candidates=FAMIqq.iloc[i].tolist()))\n",
    "    i += 1\n",
    "\n",
    "result = prv.instant_runoff_voting(canidates,ballots)\n",
    "print(result.get_winners())\n",
    "print('\\l\\l')\n",
    "print(result)"
   ]
  },
  {
   "cell_type": "markdown",
   "metadata": {},
   "source": [
    "### Best Game by an Indie Game Studio"
   ]
  },
  {
   "cell_type": "code",
   "execution_count": 16,
   "metadata": {},
   "outputs": [
    {
     "name": "stdout",
     "output_type": "stream",
     "text": [
      "[<Candidate('Among Us')>]\n",
      "\\l\\l\n",
      "FINAL RESULT\n",
      "Candidate              Votes  Status\n",
      "-------------------  -------  --------\n",
      "Among Us                   7  Elected\n",
      "House Flipper              2  Rejected\n",
      "Untitled Goose Game        1  Rejected\n",
      "Little Missfortune         1  Rejected\n",
      "My Friend Pedro            0  Rejected\n",
      "Dead Cells                 0  Rejected\n",
      "Afterparty                 0  Rejected\n",
      "What the Golf              0  Rejected\n",
      "Devious Dungeon            0  Rejected\n",
      "Sally Face                 0  Rejected\n",
      "\n"
     ]
    }
   ],
   "source": [
    "# INDIqq\n",
    "\n",
    "cans = {'House Flipper':Candidate('House Flipper'),\n",
    "        \"Among Us\":Candidate(\"Among Us\"),\n",
    "        'Afterparty':Candidate('Afterparty'),\n",
    "        \"Dead Cells\":Candidate(\"Dead Cells\"),\n",
    "        \"Devious Dungeon\":Candidate(\"Devious Dungeon\"),\n",
    "        \"Little Missfortune\":Candidate(\"Little Missfortune\"),\n",
    "        \"My Friend Pedro\":Candidate(\"My Friend Pedro\"),\n",
    "        \"Sally Face\":Candidate(\"Sally Face\"),\n",
    "        \"Untitled Goose Game\":Candidate(\"Untitled Goose Game\"),\n",
    "        \"What the Golf\":Candidate(\"What the Golf\")}\n",
    "INDIqq.replace(cans, inplace=True)\n",
    "\n",
    "canidates = [Candidate('House Flipper'),Candidate(\"Among Us\"), Candidate('Afterparty'), Candidate(\"Dead Cells\")\n",
    "                        , Candidate(\"Devious Dungeon\"), Candidate(\"Little Missfortune\"), Candidate(\"My Friend Pedro\")\n",
    "                        , Candidate(\"Sally Face\"), Candidate(\"Untitled Goose Game\"), Candidate(\"What the Golf\")]\n",
    "ballots = []\n",
    "i=0\n",
    "while (i < len(INDIqq)) :\n",
    "    ballots.append(Ballot(ranked_candidates=INDIqq.iloc[i].tolist()))\n",
    "    i += 1\n",
    "\n",
    "result = prv.instant_runoff_voting(canidates,ballots)\n",
    "print(result.get_winners())\n",
    "print('\\l\\l')\n",
    "print(result)"
   ]
  },
  {
   "cell_type": "markdown",
   "metadata": {},
   "source": [
    "### Game of the Year"
   ]
  },
  {
   "cell_type": "code",
   "execution_count": 17,
   "metadata": {},
   "outputs": [
    {
     "name": "stdout",
     "output_type": "stream",
     "text": [
      "[<Candidate('Marvel's Spider-Man')>]\n",
      "\\l\\l\n",
      "FINAL RESULT\n",
      "Candidate                Votes  Status\n",
      "---------------------  -------  --------\n",
      "Marvel's Spider-Man          7  Elected\n",
      "The Last of Us Part 1        2  Rejected\n",
      "Gears 5                      2  Rejected\n",
      "\n"
     ]
    }
   ],
   "source": [
    "# GOTYqq\n",
    "\n",
    "cans = {\"Marvel's Spider-Man\":Candidate(\"Marvel's Spider-Man\"),\n",
    "        \"The Last of Us Part 1\":Candidate(\"The Last of Us Part 1\"),\n",
    "        'Gears 5':Candidate('Gears 5'),\n",
    "        }\n",
    "GOTYqq.replace(cans, inplace=True)\n",
    "\n",
    "canidates = [Candidate(\"Marvel's Spider-Man\"),Candidate(\"The Last of Us Part 1\"), Candidate('Gears 5')]\n",
    "ballots = []\n",
    "i=0\n",
    "while (i < len(GOTYqq)) :\n",
    "    ballots.append(Ballot(ranked_candidates=GOTYqq.iloc[i].tolist()))\n",
    "    i += 1\n",
    "\n",
    "result = prv.instant_runoff_voting(canidates,ballots)\n",
    "print(result.get_winners())\n",
    "print('\\l\\l')\n",
    "print(result)"
   ]
  },
  {
   "cell_type": "markdown",
   "metadata": {},
   "source": [
    "## 2020 Winners"
   ]
  },
  {
   "cell_type": "markdown",
   "metadata": {},
   "source": [
    "### Best Performance"
   ]
  },
  {
   "cell_type": "code",
   "execution_count": 18,
   "metadata": {},
   "outputs": [
    {
     "name": "stdout",
     "output_type": "stream",
     "text": [
      "[<Candidate('Cameron Monaghan as Cal Kestis from Star Wars Jedi: Fallen Order')>]\n",
      "ROUND 1\n",
      "Candidate                                                           Votes  Status\n",
      "----------------------------------------------------------------  -------  --------\n",
      "Cameron Monaghan as Cal Kestis from Star Wars Jedi: Fallen Order        5  Hopeful\n",
      "Ashley Johnson as Ellie from The Last of Us Part 2                      5  Hopeful\n",
      "Elizabeth Grullon as Trilla from Star Wars Jedi: Fallen Order           1  Rejected\n",
      "\n",
      "FINAL RESULT\n",
      "Candidate                                                           Votes  Status\n",
      "----------------------------------------------------------------  -------  --------\n",
      "Cameron Monaghan as Cal Kestis from Star Wars Jedi: Fallen Order        6  Elected\n",
      "Ashley Johnson as Ellie from The Last of Us Part 2                      5  Rejected\n",
      "Elizabeth Grullon as Trilla from Star Wars Jedi: Fallen Order           0  Rejected\n",
      "\n"
     ]
    }
   ],
   "source": [
    "# PERF2020\n",
    "\n",
    "cans = {'Ashley Johnson as Ellie from The Last of Us Part 2':Candidate('Ashley Johnson as Ellie from The Last of Us Part 2'),\n",
    "        'Cameron Monaghan as Cal Kestis from Star Wars Jedi: Fallen Order':Candidate('Cameron Monaghan as Cal Kestis from Star Wars Jedi: Fallen Order'),\n",
    "        'Elizabeth Grullon as Trilla from Star Wars Jedi: Fallen Order':Candidate('Elizabeth Grullon as Trilla from Star Wars Jedi: Fallen Order')}\n",
    "PERF2020.replace(cans, inplace=True)\n",
    "\n",
    "canidates = [Candidate('Ashley Johnson as Ellie from The Last of Us Part 2'),Candidate('Cameron Monaghan as Cal Kestis from Star Wars Jedi: Fallen Order'),\n",
    "            Candidate('Elizabeth Grullon as Trilla from Star Wars Jedi: Fallen Order')]\n",
    "ballots = []\n",
    "i=0\n",
    "while (i < len(PERF2020)) :\n",
    "    ballots.append(Ballot(ranked_candidates=PERF2020.iloc[i].tolist()))\n",
    "    i += 1\n",
    "\n",
    "result = prv.instant_runoff_voting(canidates,ballots)\n",
    "print(result.get_winners())\n",
    "\n",
    "print(result)"
   ]
  },
  {
   "cell_type": "markdown",
   "metadata": {},
   "source": [
    "### Best Musical Score"
   ]
  },
  {
   "cell_type": "code",
   "execution_count": 19,
   "metadata": {},
   "outputs": [
    {
     "name": "stdout",
     "output_type": "stream",
     "text": [
      "[<Candidate('Ori and the Will of the Wisps')>]\n",
      "ROUND 1\n",
      "Candidate                        Votes  Status\n",
      "-----------------------------  -------  --------\n",
      "Ori and the Will of the Wisps        4  Hopeful\n",
      "Star Wars Jedi: Fallen Order         4  Hopeful\n",
      "Hades                                3  Rejected\n",
      "Pokemon Sword/Shield                 0  Rejected\n",
      "\n",
      "FINAL RESULT\n",
      "Candidate                        Votes  Status\n",
      "-----------------------------  -------  --------\n",
      "Ori and the Will of the Wisps        6  Elected\n",
      "Star Wars Jedi: Fallen Order         5  Rejected\n",
      "Hades                                0  Rejected\n",
      "Pokemon Sword/Shield                 0  Rejected\n",
      "\n"
     ]
    }
   ],
   "source": [
    "# MUSI2020\n",
    "\n",
    "cans = {\"Hades\":Candidate(\"Hades\"),\n",
    "        \"Ori and the Will of the Wisps\":Candidate(\"Ori and the Will of the Wisps\"),\n",
    "        \"Pokemon Sword/Shield\":Candidate(\"Pokemon Sword/Shield\"),\n",
    "        \"Star Wars Jedi: Fallen Order\":Candidate(\"Star Wars Jedi: Fallen Order\")}\n",
    "MUSI2020.replace(cans, inplace=True)\n",
    "\n",
    "canidates = [Candidate(\"Hades\"),Candidate(\"Ori and the Will of the Wisps\"), Candidate(\"Pokemon Sword/Shield\"),Candidate(\"Star Wars Jedi: Fallen Order\")]\n",
    "ballots = []\n",
    "i=0\n",
    "while (i < len(MUSI2020)) :\n",
    "    ballots.append(Ballot(ranked_candidates=MUSI2020.iloc[i].tolist()))\n",
    "    i += 1\n",
    "\n",
    "result = prv.instant_runoff_voting(canidates,ballots)\n",
    "print(result.get_winners())\n",
    "\n",
    "print(result)"
   ]
  },
  {
   "cell_type": "markdown",
   "metadata": {},
   "source": [
    "### Best Art Direction"
   ]
  },
  {
   "cell_type": "code",
   "execution_count": 20,
   "metadata": {},
   "outputs": [
    {
     "name": "stdout",
     "output_type": "stream",
     "text": [
      "[<Candidate('Hades')>]\n",
      "ROUND 1\n",
      "Candidate                        Votes  Status\n",
      "-----------------------------  -------  --------\n",
      "Hades                                3  Hopeful\n",
      "Ori and the Will of the Wisps        3  Hopeful\n",
      "Star Wars Jedi: Fallen Order         3  Hopeful\n",
      "Ghost of Tsushima                    2  Rejected\n",
      "\n",
      "ROUND 2\n",
      "Candidate                        Votes  Status\n",
      "-----------------------------  -------  --------\n",
      "Hades                                4  Hopeful\n",
      "Ori and the Will of the Wisps        4  Hopeful\n",
      "Star Wars Jedi: Fallen Order         3  Rejected\n",
      "Ghost of Tsushima                    0  Rejected\n",
      "\n",
      "FINAL RESULT\n",
      "Candidate                        Votes  Status\n",
      "-----------------------------  -------  --------\n",
      "Hades                                6  Elected\n",
      "Ori and the Will of the Wisps        5  Rejected\n",
      "Star Wars Jedi: Fallen Order         0  Rejected\n",
      "Ghost of Tsushima                    0  Rejected\n",
      "\n"
     ]
    }
   ],
   "source": [
    "# ARTS2020\n",
    "\n",
    "cans = {\"Hades\":Candidate(\"Hades\"),\n",
    "        \"Ori and the Will of the Wisps\":Candidate(\"Ori and the Will of the Wisps\"),\n",
    "        \"Ghost of Tsushima\":Candidate(\"Ghost of Tsushima\"),\n",
    "        \"Star Wars Jedi: Fallen Order\":Candidate(\"Star Wars Jedi: Fallen Order\")}\n",
    "ARTS2020.replace(cans, inplace=True)\n",
    "\n",
    "canidates = [Candidate(\"Hades\"),Candidate(\"Ori and the Will of the Wisps\"), Candidate(\"Ghost of Tsushima\"),Candidate(\"Star Wars Jedi: Fallen Order\")]\n",
    "ballots = []\n",
    "i=0\n",
    "while (i < len(ARTS2020)) :\n",
    "    ballots.append(Ballot(ranked_candidates=ARTS2020.iloc[i].tolist()))\n",
    "    i += 1\n",
    "\n",
    "result = prv.instant_runoff_voting(canidates,ballots)\n",
    "print(result.get_winners())\n",
    "\n",
    "print(result)"
   ]
  },
  {
   "cell_type": "markdown",
   "metadata": {},
   "source": [
    "### Best Narrative"
   ]
  },
  {
   "cell_type": "code",
   "execution_count": 21,
   "metadata": {},
   "outputs": [
    {
     "name": "stdout",
     "output_type": "stream",
     "text": [
      "[<Candidate('Star Wars Jedi: Fallen Order')>]\n",
      "ROUND 1\n",
      "Candidate                        Votes  Status\n",
      "-----------------------------  -------  --------\n",
      "Star Wars Jedi: Fallen Order         5  Hopeful\n",
      "The Last of Us Part 2                4  Hopeful\n",
      "Hades                                2  Rejected\n",
      "Ori and the Will of the Wisps        0  Rejected\n",
      "\n",
      "FINAL RESULT\n",
      "Candidate                        Votes  Status\n",
      "-----------------------------  -------  --------\n",
      "Star Wars Jedi: Fallen Order         7  Elected\n",
      "The Last of Us Part 2                4  Rejected\n",
      "Hades                                0  Rejected\n",
      "Ori and the Will of the Wisps        0  Rejected\n",
      "\n"
     ]
    }
   ],
   "source": [
    "# NARR2020\n",
    "\n",
    "cans = {\"Hades\":Candidate(\"Hades\"),\n",
    "        \"Ori and the Will of the Wisps\":Candidate(\"Ori and the Will of the Wisps\"),\n",
    "        \"The Last of Us Part 2\":Candidate(\"The Last of Us Part 2\"),\n",
    "        \"Star Wars Jedi: Fallen Order\":Candidate(\"Star Wars Jedi: Fallen Order\")}\n",
    "NARR2020.replace(cans, inplace=True)\n",
    "\n",
    "canidates = [Candidate(\"Hades\"),Candidate(\"Ori and the Will of the Wisps\"), Candidate(\"The Last of Us Part 2\"),Candidate(\"Star Wars Jedi: Fallen Order\")]\n",
    "ballots = []\n",
    "i=0\n",
    "while (i < len(NARR2020)) :\n",
    "    ballots.append(Ballot(ranked_candidates=NARR2020.iloc[i].tolist()))\n",
    "    i += 1\n",
    "\n",
    "result = prv.instant_runoff_voting(canidates,ballots)\n",
    "print(result.get_winners())\n",
    "\n",
    "print(result)"
   ]
  },
  {
   "cell_type": "markdown",
   "metadata": {},
   "source": [
    "### Best Co-op Game"
   ]
  },
  {
   "cell_type": "code",
   "execution_count": 22,
   "metadata": {},
   "outputs": [
    {
     "name": "stdout",
     "output_type": "stream",
     "text": [
      "[<Candidate('Phasmaphobia')>]\n",
      "ROUND 1\n",
      "Candidate                        Votes  Status\n",
      "-----------------------------  -------  --------\n",
      "Fall Guys                            4  Hopeful\n",
      "Animal Crossing: New Horizons        3  Hopeful\n",
      "Phasmaphobia                         2  Hopeful\n",
      "Grounded                             2  Rejected\n",
      "\n",
      "ROUND 2\n",
      "Candidate                        Votes  Status\n",
      "-----------------------------  -------  --------\n",
      "Phasmaphobia                         4  Hopeful\n",
      "Fall Guys                            4  Hopeful\n",
      "Animal Crossing: New Horizons        3  Rejected\n",
      "Grounded                             0  Rejected\n",
      "\n",
      "FINAL RESULT\n",
      "Candidate                        Votes  Status\n",
      "-----------------------------  -------  --------\n",
      "Phasmaphobia                         7  Elected\n",
      "Fall Guys                            4  Rejected\n",
      "Animal Crossing: New Horizons        0  Rejected\n",
      "Grounded                             0  Rejected\n",
      "\n"
     ]
    }
   ],
   "source": [
    "# COOP2020 \n",
    "\n",
    "cans = {\"Phasmaphobia\":Candidate(\"Phasmaphobia\"),\n",
    "        \"Grounded\":Candidate(\"Grounded\"),\n",
    "        \"Animal Crossing: New Horizons\":Candidate(\"Animal Crossing: New Horizons\"),\n",
    "        \"Fall Guys\":Candidate(\"Fall Guys\")}\n",
    "COOP2020.replace(cans, inplace=True)\n",
    "\n",
    "canidates = [Candidate(\"Phasmaphobia\"),Candidate(\"Grounded\"), Candidate(\"Animal Crossing: New Horizons\"),Candidate(\"Fall Guys\")]\n",
    "ballots = []\n",
    "i=0\n",
    "while (i < len(COOP2020)) :\n",
    "    ballots.append(Ballot(ranked_candidates=COOP2020.iloc[i].tolist()))\n",
    "    i += 1\n",
    "\n",
    "result = prv.instant_runoff_voting(canidates,ballots)\n",
    "print(result.get_winners())\n",
    "\n",
    "print(result)"
   ]
  },
  {
   "cell_type": "markdown",
   "metadata": {},
   "source": [
    "### Best Multiplayer (PvP) Game"
   ]
  },
  {
   "cell_type": "code",
   "execution_count": 23,
   "metadata": {},
   "outputs": [
    {
     "name": "stdout",
     "output_type": "stream",
     "text": [
      "[<Candidate('Fall Guys')>]\n",
      "FINAL RESULT\n",
      "Candidate                       Votes  Status\n",
      "----------------------------  -------  --------\n",
      "Fall Guys                           7  Elected\n",
      "Call of Duty: Modern Warfare        4  Rejected\n",
      "Rogue Company                       0  Rejected\n",
      "\n"
     ]
    }
   ],
   "source": [
    "# MULT2020 \n",
    "\n",
    "cans = {\"Call of Duty: Modern Warfare\":Candidate(\"Call of Duty: Modern Warfare\"),\n",
    "        \"Rogue Company\":Candidate(\"Rogue Company\"),\n",
    "        \"Fall Guys\":Candidate(\"Fall Guys\")}\n",
    "MULT2020.replace(cans, inplace=True)\n",
    "\n",
    "canidates = [Candidate(\"Call of Duty: Modern Warfare\"),Candidate(\"Rogue Company\"),Candidate(\"Fall Guys\")]\n",
    "ballots = []\n",
    "i=0\n",
    "while (i < len(MULT2020)) :\n",
    "    ballots.append(Ballot(ranked_candidates=MULT2020.iloc[i].tolist()))\n",
    "    i += 1\n",
    "\n",
    "result = prv.instant_runoff_voting(canidates,ballots)\n",
    "print(result.get_winners())\n",
    "\n",
    "print(result)"
   ]
  },
  {
   "cell_type": "markdown",
   "metadata": {},
   "source": [
    "### Best Ongoing Game"
   ]
  },
  {
   "cell_type": "code",
   "execution_count": 24,
   "metadata": {},
   "outputs": [
    {
     "name": "stdout",
     "output_type": "stream",
     "text": [
      "[<Candidate('Destiny 2')>]\n",
      "ROUND 1\n",
      "Candidate       Votes  Status\n",
      "------------  -------  --------\n",
      "Minecraft           4  Hopeful\n",
      "Destiny 2           4  Hopeful\n",
      "Among Us            2  Rejected\n",
      "Apex Legends        1  Rejected\n",
      "Fortnite            0  Rejected\n",
      "\n",
      "FINAL RESULT\n",
      "Candidate       Votes  Status\n",
      "------------  -------  --------\n",
      "Destiny 2           6  Elected\n",
      "Minecraft           5  Rejected\n",
      "Among Us            0  Rejected\n",
      "Apex Legends        0  Rejected\n",
      "Fortnite            0  Rejected\n",
      "\n"
     ]
    }
   ],
   "source": [
    "# ONGO2020 \n",
    "\n",
    "cans = {\"Destiny 2\":Candidate(\"Destiny 2\"),\n",
    "        \"Fortnite\":Candidate(\"Fortnite\"),\n",
    "        \"Among Us\":Candidate(\"Among Us\"),\n",
    "        \"Apex Legends\":Candidate(\"Apex Legends\"),\n",
    "        \"Minecraft\":Candidate(\"Minecraft\")}\n",
    "ONGO2020.replace(cans, inplace=True)\n",
    "\n",
    "canidates = [Candidate(\"Destiny 2\"),Candidate(\"Fortnite\"), Candidate(\"Among Us\"),\n",
    "                Candidate(\"Apex Legends\"),Candidate(\"Minecraft\")]\n",
    "ballots = []\n",
    "i=0\n",
    "while (i < len(ONGO2020)) :\n",
    "    ballots.append(Ballot(ranked_candidates=ONGO2020.iloc[i].tolist()))\n",
    "    i += 1\n",
    "\n",
    "result = prv.instant_runoff_voting(canidates,ballots)\n",
    "print(result.get_winners())\n",
    "\n",
    "print(result)"
   ]
  },
  {
   "cell_type": "markdown",
   "metadata": {},
   "source": [
    "### Best DLC for a Game"
   ]
  },
  {
   "cell_type": "code",
   "execution_count": 25,
   "metadata": {},
   "outputs": [
    {
     "name": "stdout",
     "output_type": "stream",
     "text": [
      "[<Candidate('Minecraft')>]\n",
      "ROUND 1\n",
      "Candidate                            Votes  Status\n",
      "---------------------------------  -------  --------\n",
      "Minecraft                                3  Hopeful\n",
      "Pokemon Sword/Shield                     2  Hopeful\n",
      "House Flipper: Garden Flipper DLC        2  Hopeful\n",
      "Raft                                     1  Hopeful\n",
      "Super Smash Bros                         1  Hopeful\n",
      "Control: AWE                             1  Hopeful\n",
      "Island Saver: Dinosaur Island            1  Rejected\n",
      "Kingdom Hearts III Re:Mind               0  Rejected\n",
      "\n",
      "ROUND 2\n",
      "Candidate                            Votes  Status\n",
      "---------------------------------  -------  --------\n",
      "Pokemon Sword/Shield                     3  Hopeful\n",
      "Minecraft                                3  Hopeful\n",
      "House Flipper: Garden Flipper DLC        2  Hopeful\n",
      "Raft                                     1  Hopeful\n",
      "Super Smash Bros                         1  Hopeful\n",
      "Control: AWE                             1  Rejected\n",
      "Island Saver: Dinosaur Island            0  Rejected\n",
      "Kingdom Hearts III Re:Mind               0  Rejected\n",
      "\n",
      "ROUND 3\n",
      "Candidate                            Votes  Status\n",
      "---------------------------------  -------  --------\n",
      "Pokemon Sword/Shield                     3  Hopeful\n",
      "Minecraft                                3  Hopeful\n",
      "House Flipper: Garden Flipper DLC        3  Hopeful\n",
      "Raft                                     1  Rejected\n",
      "Super Smash Bros                         1  Rejected\n",
      "Control: AWE                             0  Rejected\n",
      "Island Saver: Dinosaur Island            0  Rejected\n",
      "Kingdom Hearts III Re:Mind               0  Rejected\n",
      "\n",
      "ROUND 4\n",
      "Candidate                            Votes  Status\n",
      "---------------------------------  -------  --------\n",
      "Minecraft                                4  Hopeful\n",
      "Pokemon Sword/Shield                     4  Hopeful\n",
      "House Flipper: Garden Flipper DLC        3  Rejected\n",
      "Raft                                     0  Rejected\n",
      "Super Smash Bros                         0  Rejected\n",
      "Control: AWE                             0  Rejected\n",
      "Island Saver: Dinosaur Island            0  Rejected\n",
      "Kingdom Hearts III Re:Mind               0  Rejected\n",
      "\n",
      "FINAL RESULT\n",
      "Candidate                            Votes  Status\n",
      "---------------------------------  -------  --------\n",
      "Minecraft                                6  Elected\n",
      "Pokemon Sword/Shield                     5  Rejected\n",
      "House Flipper: Garden Flipper DLC        0  Rejected\n",
      "Raft                                     0  Rejected\n",
      "Super Smash Bros                         0  Rejected\n",
      "Control: AWE                             0  Rejected\n",
      "Island Saver: Dinosaur Island            0  Rejected\n",
      "Kingdom Hearts III Re:Mind               0  Rejected\n",
      "\n"
     ]
    }
   ],
   "source": [
    "# DLCS2020 \n",
    "\n",
    "cans = {\"Control: AWE\":Candidate(\"Control: AWE\"),\n",
    "        \"House Flipper: Garden Flipper DLC\":Candidate(\"House Flipper: Garden Flipper DLC\"),\n",
    "        \"Island Saver: Dinosaur Island\":Candidate(\"Island Saver: Dinosaur Island\"),\n",
    "        \"Kingdom Hearts III Re:Mind\":Candidate(\"Kingdom Hearts III Re:Mind\"),\n",
    "        \"Minecraft\":Candidate(\"Minecraft\"),\n",
    "        \"Pokemon Sword/Shield\":Candidate(\"Pokemon Sword/Shield\"),\n",
    "        \"Raft\":Candidate(\"Raft\"),\n",
    "        \"Super Smash Bros\":Candidate(\"Super Smash Bros\")}\n",
    "DLCS2020.replace(cans, inplace=True)\n",
    "\n",
    "canidates = [Candidate(\"Control: AWE\"),Candidate(\"House Flipper: Garden Flipper DLC\"), Candidate(\"Island Saver: Dinosaur Island\"),\n",
    "                Candidate(\"Kingdom Hearts III Re:Mind\"),Candidate(\"Minecraft\"),Candidate(\"Pokemon Sword/Shield\"),Candidate(\"Raft\"),\n",
    "                Candidate(\"Super Smash Bros\")]\n",
    "ballots = []\n",
    "i=0\n",
    "while (i < len(DLCS2020)) :\n",
    "    ballots.append(Ballot(ranked_candidates=DLCS2020.iloc[i].tolist()))\n",
    "    i += 1\n",
    "\n",
    "result = prv.instant_runoff_voting(canidates,ballots)\n",
    "print(result.get_winners())\n",
    "\n",
    "print(result)"
   ]
  },
  {
   "cell_type": "markdown",
   "metadata": {},
   "source": [
    "### Best Open World Game"
   ]
  },
  {
   "cell_type": "code",
   "execution_count": 26,
   "metadata": {},
   "outputs": [
    {
     "name": "stdout",
     "output_type": "stream",
     "text": [
      "[<Candidate('Pokemon Sword/Shield')>]\n",
      "FINAL RESULT\n",
      "Candidate               Votes  Status\n",
      "--------------------  -------  --------\n",
      "Pokemon Sword/Shield        6  Elected\n",
      "Death Stranding             5  Rejected\n",
      "\n"
     ]
    }
   ],
   "source": [
    "# OPWO2020\n",
    "\n",
    "cans = {\"Death Stranding\":Candidate(\"Death Stranding\"),\n",
    "        \"Pokemon Sword/Shield\":Candidate(\"Pokemon Sword/Shield\")}\n",
    "OPWO2020.replace(cans, inplace=True)\n",
    "\n",
    "canidates = [Candidate(\"Death Stranding\"),Candidate(\"Pokemon Sword/Shield\")]\n",
    "ballots = []\n",
    "i=0\n",
    "while (i < len(OPWO2020)) :\n",
    "    ballots.append(Ballot(ranked_candidates=OPWO2020.iloc[i].tolist()))\n",
    "    i += 1\n",
    "\n",
    "result = prv.instant_runoff_voting(canidates,ballots)\n",
    "print(result.get_winners())\n",
    "\n",
    "print(result)"
   ]
  },
  {
   "cell_type": "markdown",
   "metadata": {},
   "source": [
    "### Best Action Game"
   ]
  },
  {
   "cell_type": "code",
   "execution_count": 27,
   "metadata": {},
   "outputs": [
    {
     "name": "stdout",
     "output_type": "stream",
     "text": [
      "[<Candidate('Hades')>]\n",
      "FINAL RESULT\n",
      "Candidate       Votes  Status\n",
      "------------  -------  --------\n",
      "Hades               6  Elected\n",
      "Doom Eternal        5  Rejected\n",
      "Maneater            0  Rejected\n",
      "\n"
     ]
    }
   ],
   "source": [
    "# ACTI2020 \n",
    "\n",
    "cans = {\"Doom Eternal\":Candidate(\"Doom Eternal\"),\n",
    "        \"Hades\":Candidate(\"Hades\"),\n",
    "        \"Maneater\":Candidate(\"Maneater\")}\n",
    "ACTI2020.replace(cans, inplace=True)\n",
    "\n",
    "canidates = [Candidate(\"Doom Eternal\"),Candidate(\"Hades\"), Candidate(\"Maneater\")]\n",
    "ballots = []\n",
    "i=0\n",
    "while (i < len(ACTI2020)) :\n",
    "    ballots.append(Ballot(ranked_candidates=ACTI2020.iloc[i].tolist()))\n",
    "    i += 1\n",
    "\n",
    "result = prv.instant_runoff_voting(canidates,ballots)\n",
    "print(result.get_winners())\n",
    "\n",
    "print(result)"
   ]
  },
  {
   "cell_type": "markdown",
   "metadata": {},
   "source": [
    "### Best Action Adventure Game"
   ]
  },
  {
   "cell_type": "code",
   "execution_count": 28,
   "metadata": {},
   "outputs": [
    {
     "name": "stdout",
     "output_type": "stream",
     "text": [
      "[<Candidate('Star Wars Jedi: Fallen Order')>]\n",
      "FINAL RESULT\n",
      "Candidate                        Votes  Status\n",
      "-----------------------------  -------  --------\n",
      "Star Wars Jedi: Fallen Order         9  Elected\n",
      "Ori and the Will of the Wisps        2  Rejected\n",
      "\n"
     ]
    }
   ],
   "source": [
    "# ACAD2020 \n",
    "\n",
    "cans = {\"Star Wars Jedi: Fallen Order\":Candidate(\"Star Wars Jedi: Fallen Order\"),\n",
    "        \"Ori and the Will of the Wisps\":Candidate(\"Ori and the Will of the Wisps\")}\n",
    "ACAD2020.replace(cans, inplace=True)\n",
    "\n",
    "canidates = [Candidate(\"Star Wars Jedi: Fallen Order\"),Candidate(\"Ori and the Will of the Wisps\")]\n",
    "ballots = []\n",
    "i=0\n",
    "while (i < len(ACAD2020)) :\n",
    "    ballots.append(Ballot(ranked_candidates=ACAD2020.iloc[i].tolist()))\n",
    "    i += 1\n",
    "\n",
    "result = prv.instant_runoff_voting(canidates,ballots)\n",
    "print(result.get_winners())\n",
    "\n",
    "print(result)"
   ]
  },
  {
   "cell_type": "markdown",
   "metadata": {},
   "source": [
    "### Best Strategy Game"
   ]
  },
  {
   "cell_type": "code",
   "execution_count": 29,
   "metadata": {},
   "outputs": [
    {
     "name": "stdout",
     "output_type": "stream",
     "text": [
      "[<Candidate('Gears Tactics')>]\n",
      "FINAL RESULT\n",
      "Candidate                     Votes  Status\n",
      "--------------------------  -------  --------\n",
      "Gears Tactics                    10  Elected\n",
      "Microsoft Flight Simulator        1  Rejected\n",
      "\n"
     ]
    }
   ],
   "source": [
    "# STRA2020 \n",
    "\n",
    "cans = {\"Gears Tactics\":Candidate(\"Gears Tactics\"),\n",
    "        \"Microsoft Flight Simulator\":Candidate(\"Microsoft Flight Simulator\")}\n",
    "STRA2020.replace(cans, inplace=True)\n",
    "\n",
    "canidates = [Candidate(\"Gears Tactics\"),Candidate(\"Microsoft Flight Simulator\")]\n",
    "ballots = []\n",
    "i=0\n",
    "while (i < len(STRA2020)) :\n",
    "    ballots.append(Ballot(ranked_candidates=STRA2020.iloc[i].tolist()))\n",
    "    i += 1\n",
    "\n",
    "result = prv.instant_runoff_voting(canidates,ballots)\n",
    "print(result.get_winners())\n",
    "\n",
    "print(result)"
   ]
  },
  {
   "cell_type": "markdown",
   "metadata": {},
   "source": [
    "### Best RPG"
   ]
  },
  {
   "cell_type": "code",
   "execution_count": 31,
   "metadata": {},
   "outputs": [
    {
     "name": "stdout",
     "output_type": "stream",
     "text": [
      "[<Candidate('Star Wars Jedi: Fallen Order')>]\n",
      "ROUND 1\n",
      "Candidate                       Votes  Status\n",
      "----------------------------  -------  --------\n",
      "Star Wars Jedi: Fallen Order        6  Hopeful\n",
      "Genshin Impact                      2  Hopeful\n",
      "Final Fantasy VII                   2  Rejected\n",
      "Wasteland 3                         1  Rejected\n",
      "Yakuza: Like a Dragon               0  Rejected\n",
      "Maneater                            0  Rejected\n",
      "Marvel's Avengers                   0  Rejected\n",
      "Minecraft Dungeons                  0  Rejected\n",
      "Pokemon Sword/Shield                0  Rejected\n",
      "\n",
      "FINAL RESULT\n",
      "Candidate                       Votes  Status\n",
      "----------------------------  -------  --------\n",
      "Star Wars Jedi: Fallen Order        8  Elected\n",
      "Genshin Impact                      3  Rejected\n",
      "Final Fantasy VII                   0  Rejected\n",
      "Wasteland 3                         0  Rejected\n",
      "Yakuza: Like a Dragon               0  Rejected\n",
      "Maneater                            0  Rejected\n",
      "Marvel's Avengers                   0  Rejected\n",
      "Minecraft Dungeons                  0  Rejected\n",
      "Pokemon Sword/Shield                0  Rejected\n",
      "\n"
     ]
    }
   ],
   "source": [
    "# RPGS2020 \n",
    "\n",
    "cans = {\"Final Fantasy VII\":Candidate(\"Final Fantasy VII\"),\n",
    "        \"Genshin Impact\":Candidate(\"Genshin Impact\"),\n",
    "        \"Maneater\":Candidate(\"Maneater\"),\n",
    "        \"Marvel's Avengers\":Candidate(\"Marvel's Avengers\"),\n",
    "        \"Minecraft Dungeons\":Candidate(\"Minecraft Dungeons\"),\n",
    "        \"Pokemon Sword/Shield\":Candidate(\"Pokemon Sword/Shield\"),\n",
    "        \"Star Wars Jedi: Fallen Order\":Candidate(\"Star Wars Jedi: Fallen Order\"),\n",
    "        \"Wasteland 3\":Candidate(\"Wasteland 3\"),\n",
    "        \"Yakuza: Like a Dragon\":Candidate(\"Yakuza: Like a Dragon\")}\n",
    "RPGS2020.replace(cans, inplace=True)\n",
    "\n",
    "canidates = [Candidate(\"Final Fantasy VII\"),Candidate(\"Genshin Impact\"), Candidate(\"Maneater\"),\n",
    "                Candidate(\"Marvel's Avengers\"),Candidate(\"Minecraft Dungeons\"),Candidate(\"Pokemon Sword/Shield\"),Candidate(\"Star Wars Jedi: Fallen Order\"),\n",
    "                Candidate(\"Wasteland 3\"),Candidate(\"Yakuza: Like a Dragon\")]\n",
    "ballots = []\n",
    "i=0\n",
    "while (i < len(RPGS2020)) :\n",
    "    ballots.append(Ballot(ranked_candidates=RPGS2020.iloc[i].tolist()))\n",
    "    i += 1\n",
    "\n",
    "result = prv.instant_runoff_voting(canidates,ballots)\n",
    "print(result.get_winners())\n",
    "\n",
    "print(result)"
   ]
  },
  {
   "cell_type": "markdown",
   "metadata": {},
   "source": [
    "### Best Sports Game"
   ]
  },
  {
   "cell_type": "code",
   "execution_count": 32,
   "metadata": {},
   "outputs": [
    {
     "name": "stdout",
     "output_type": "stream",
     "text": [
      "[<Candidate('Tony Hawk Pro Skater 1 + 2')>]\n",
      "FINAL RESULT\n",
      "Candidate                     Votes  Status\n",
      "--------------------------  -------  --------\n",
      "Tony Hawk Pro Skater 1 + 2        6  Elected\n",
      "FIFA 21                           5  Rejected\n",
      "Dirt 5                            0  Rejected\n",
      "Madden NFL 21                     0  Rejected\n",
      "\n"
     ]
    }
   ],
   "source": [
    "# SPOR2020 \n",
    "\n",
    "cans = {\"FIFA 21\":Candidate(\"FIFA 21\"),\n",
    "        \"Dirt 5\":Candidate(\"Dirt 5\"),\n",
    "        \"Madden NFL 21\":Candidate(\"Madden NFL 21\"),\n",
    "        \"Tony Hawk Pro Skater 1 + 2\":Candidate(\"Tony Hawk Pro Skater 1 + 2\")}\n",
    "SPOR2020.replace(cans, inplace=True)\n",
    "\n",
    "canidates = [Candidate(\"FIFA 21\"),Candidate(\"Dirt 5\"), Candidate(\"Madden NFL 21\"),\n",
    "                Candidate(\"Tony Hawk Pro Skater 1 + 2\")]\n",
    "ballots = []\n",
    "i=0\n",
    "while (i < len(SPOR2020)) :\n",
    "    ballots.append(Ballot(ranked_candidates=SPOR2020.iloc[i].tolist()))\n",
    "    i += 1\n",
    "\n",
    "result = prv.instant_runoff_voting(canidates,ballots)\n",
    "print(result.get_winners())\n",
    "\n",
    "print(result)"
   ]
  },
  {
   "cell_type": "markdown",
   "metadata": {},
   "source": [
    "### Best Family/E 10+ Game"
   ]
  },
  {
   "cell_type": "code",
   "execution_count": 33,
   "metadata": {},
   "outputs": [
    {
     "name": "stdout",
     "output_type": "stream",
     "text": [
      "[<Candidate('Animal Crossing: New Horizons')>]\n",
      "ROUND 1\n",
      "Candidate                        Votes  Status\n",
      "-----------------------------  -------  --------\n",
      "Animal Crossing: New Horizons        5  Hopeful\n",
      "Fall Guys                            3  Hopeful\n",
      "Ori and the Will of the Wisps        3  Rejected\n",
      "\n",
      "FINAL RESULT\n",
      "Candidate                        Votes  Status\n",
      "-----------------------------  -------  --------\n",
      "Animal Crossing: New Horizons        7  Elected\n",
      "Fall Guys                            4  Rejected\n",
      "Ori and the Will of the Wisps        0  Rejected\n",
      "\n"
     ]
    }
   ],
   "source": [
    "# FAMI2020\n",
    "\n",
    "cans = {\"Animal Crossing: New Horizons\":Candidate(\"Animal Crossing: New Horizons\"),\n",
    "        \"Fall Guys\":Candidate(\"Fall Guys\"),\n",
    "        \"Ori and the Will of the Wisps\":Candidate(\"Ori and the Will of the Wisps\")}\n",
    "FAMI2020.replace(cans, inplace=True)\n",
    "\n",
    "canidates = [Candidate(\"Animal Crossing: New Horizons\"),Candidate(\"Fall Guys\"), Candidate(\"Ori and the Will of the Wisps\")]\n",
    "ballots = []\n",
    "i=0\n",
    "while (i < len(FAMI2020)) :\n",
    "    ballots.append(Ballot(ranked_candidates=FAMI2020.iloc[i].tolist()))\n",
    "    i += 1\n",
    "\n",
    "result = prv.instant_runoff_voting(canidates,ballots)\n",
    "print(result.get_winners())\n",
    "\n",
    "print(result)"
   ]
  },
  {
   "cell_type": "markdown",
   "metadata": {},
   "source": [
    "### Best Remaster/Remake"
   ]
  },
  {
   "cell_type": "code",
   "execution_count": 35,
   "metadata": {},
   "outputs": [
    {
     "name": "stdout",
     "output_type": "stream",
     "text": [
      "[<Candidate('Final Fantasy VII')>]\n",
      "ROUND 1\n",
      "Candidate                          Votes  Status\n",
      "-------------------------------  -------  --------\n",
      "Final Fantasy VII                      5  Hopeful\n",
      "Resident Evil 3                        5  Hopeful\n",
      "Mafia 2                                1  Rejected\n",
      "Kingdoms of Amalur Re-Reckoning        0  Rejected\n",
      "Destroy All Humans                     0  Rejected\n",
      "\n",
      "FINAL RESULT\n",
      "Candidate                          Votes  Status\n",
      "-------------------------------  -------  --------\n",
      "Final Fantasy VII                      6  Elected\n",
      "Resident Evil 3                        5  Rejected\n",
      "Mafia 2                                0  Rejected\n",
      "Kingdoms of Amalur Re-Reckoning        0  Rejected\n",
      "Destroy All Humans                     0  Rejected\n",
      "\n"
     ]
    }
   ],
   "source": [
    "# REMA2020 \n",
    "\n",
    "cans = {\"Destroy All Humans\":Candidate(\"Destroy All Humans\"),\n",
    "        \"Final Fantasy VII\":Candidate(\"Final Fantasy VII\"),\n",
    "        \"Kingdoms of Amalur Re-Reckoning\":Candidate(\"Kingdoms of Amalur Re-Reckoning\"),\n",
    "        \"Mafia 2\":Candidate(\"Mafia 2\"),\n",
    "        \"Resident Evil 3\":Candidate(\"Resident Evil 3\")}\n",
    "REMA2020.replace(cans, inplace=True)\n",
    "\n",
    "canidates = [Candidate(\"Destroy All Humans\"),Candidate(\"Final Fantasy VII\"), Candidate(\"Kingdoms of Amalur Re-Reckoning\"),\n",
    "                Candidate(\"Resident Evil 3\"),Candidate(\"Mafia 2\")]\n",
    "ballots = []\n",
    "i=0\n",
    "while (i < len(REMA2020)) :\n",
    "    ballots.append(Ballot(ranked_candidates=REMA2020.iloc[i].tolist()))\n",
    "    i += 1\n",
    "\n",
    "result = prv.instant_runoff_voting(canidates,ballots)\n",
    "print(result.get_winners())\n",
    "\n",
    "print(result)"
   ]
  },
  {
   "cell_type": "markdown",
   "metadata": {},
   "source": [
    "### Best Game Made by an Indie Studio"
   ]
  },
  {
   "cell_type": "code",
   "execution_count": 36,
   "metadata": {},
   "outputs": [
    {
     "name": "stdout",
     "output_type": "stream",
     "text": [
      "[<Candidate('Hades')>]\n",
      "FINAL RESULT\n",
      "Candidate       Votes  Status\n",
      "------------  -------  --------\n",
      "Hades               6  Elected\n",
      "Phasmaphobia        3  Rejected\n",
      "Fall Guys           2  Rejected\n",
      "Carrion 2           0  Rejected\n",
      "\n"
     ]
    }
   ],
   "source": [
    "# INDI2020 \n",
    "\n",
    "cans = {\"Fall Guys\":Candidate(\"Fall Guys\"),\n",
    "        \"Hades\":Candidate(\"Hades\"),\n",
    "        \"Carrion 2\":Candidate(\"Carrion 2\"),\n",
    "        \"Phasmaphobia\":Candidate(\"Phasmaphobia\")}\n",
    "INDI2020.replace(cans, inplace=True)\n",
    "\n",
    "canidates = [Candidate(\"Fall Guys\"),Candidate(\"Hades\"), Candidate(\"Carrion 2\"),\n",
    "                Candidate(\"Phasmaphobia\")]\n",
    "ballots = []\n",
    "i=0\n",
    "while (i < len(INDI2020)) :\n",
    "    ballots.append(Ballot(ranked_candidates=INDI2020.iloc[i].tolist()))\n",
    "    i += 1\n",
    "\n",
    "result = prv.instant_runoff_voting(canidates,ballots)\n",
    "print(result.get_winners())\n",
    "\n",
    "print(result)"
   ]
  },
  {
   "cell_type": "markdown",
   "metadata": {},
   "source": [
    "### Content Creator of the Year"
   ]
  },
  {
   "cell_type": "code",
   "execution_count": 37,
   "metadata": {},
   "outputs": [
    {
     "name": "stdout",
     "output_type": "stream",
     "text": [
      "[<Candidate('TimTheTatman')>]\n",
      "ROUND 1\n",
      "Candidate                                      Votes  Status\n",
      "-------------------------------------------  -------  --------\n",
      "TimTheTatman                                       3  Hopeful\n",
      "Anthony_Kongphan                                   3  Hopeful\n",
      "Unus Annus by Markiplier and CrankGamePlays        3  Hopeful\n",
      "DrLupo                                             2  Rejected\n",
      "\n",
      "ROUND 2\n",
      "Candidate                                      Votes  Status\n",
      "-------------------------------------------  -------  --------\n",
      "Anthony_Kongphan                                   5  Hopeful\n",
      "TimTheTatman                                       3  Hopeful\n",
      "Unus Annus by Markiplier and CrankGamePlays        3  Rejected\n",
      "DrLupo                                             0  Rejected\n",
      "\n",
      "FINAL RESULT\n",
      "Candidate                                      Votes  Status\n",
      "-------------------------------------------  -------  --------\n",
      "TimTheTatman                                       6  Elected\n",
      "Anthony_Kongphan                                   5  Rejected\n",
      "Unus Annus by Markiplier and CrankGamePlays        0  Rejected\n",
      "DrLupo                                             0  Rejected\n",
      "\n"
     ]
    }
   ],
   "source": [
    "# CONT2020 \n",
    "\n",
    "cans = {\"Unus Annus by Markiplier and CrankGamePlays\":Candidate(\"Unus Annus by Markiplier and CrankGamePlays\"),\n",
    "        \"TimTheTatman\":Candidate(\"TimTheTatman\"),\n",
    "        \"DrLupo\":Candidate(\"DrLupo\"),\n",
    "        \"Anthony_Kongphan\":Candidate(\"Anthony_Kongphan\")}\n",
    "CONT2020.replace(cans, inplace=True)\n",
    "\n",
    "canidates = [Candidate(\"Unus Annus by Markiplier and CrankGamePlays\"),Candidate(\"TimTheTatman\"), Candidate(\"DrLupo\"),\n",
    "                Candidate(\"Anthony_Kongphan\")]\n",
    "ballots = []\n",
    "i=0\n",
    "while (i < len(CONT2020)) :\n",
    "    ballots.append(Ballot(ranked_candidates=CONT2020.iloc[i].tolist()))\n",
    "    i += 1\n",
    "\n",
    "result = prv.instant_runoff_voting(canidates,ballots)\n",
    "print(result.get_winners())\n",
    "\n",
    "print(result)"
   ]
  },
  {
   "cell_type": "markdown",
   "metadata": {},
   "source": [
    "### Game of the Year"
   ]
  },
  {
   "cell_type": "code",
   "execution_count": 40,
   "metadata": {
    "tags": []
   },
   "outputs": [
    {
     "name": "stdout",
     "output_type": "stream",
     "text": [
      "[<Candidate('Star Wars Jedi: Fallen Order')>]\n",
      "\n",
      "ROUND 1\n",
      "Candidate                        Votes  Status\n",
      "-----------------------------  -------  --------\n",
      "Star Wars Jedi: Fallen Order         5  Hopeful\n",
      "Hades                                3  Hopeful\n",
      "Ori and the Will of the Wisps        1  Hopeful\n",
      "Animal Crossing: New Horizons        1  Rejected\n",
      "The Last of Us Part 2                1  Rejected\n",
      "Doom Eternal                         0  Rejected\n",
      "\n",
      "FINAL RESULT\n",
      "Candidate                        Votes  Status\n",
      "-----------------------------  -------  --------\n",
      "Star Wars Jedi: Fallen Order         6  Elected\n",
      "Hades                                4  Rejected\n",
      "Ori and the Will of the Wisps        1  Rejected\n",
      "Animal Crossing: New Horizons        0  Rejected\n",
      "The Last of Us Part 2                0  Rejected\n",
      "Doom Eternal                         0  Rejected\n",
      "\n"
     ]
    }
   ],
   "source": [
    "cans = {'Star Wars Jedi: Fallen Order':Candidate('Star Wars Jedi: Fallen Order'),\n",
    "        'Hades':Candidate('Hades'),\n",
    "        'Ori and the Will of the Wisps':Candidate('Ori and the Will of the Wisps'),\n",
    "        'Animal Crossing: New Horizons':Candidate('Animal Crossing: New Horizons'),\n",
    "        'The Last of Us Part 2':Candidate('The Last of Us Part 2'),\n",
    "        'Doom Eternal':Candidate('Doom Eternal')}\n",
    "# GOTY2020.replace(cans, inplace=True)\n",
    "\n",
    "canidates = [Candidate('Star Wars Jedi: Fallen Order'),Candidate('Hades'),Candidate('Ori and the Will of the Wisps'),\n",
    "                    Candidate('Animal Crossing: New Horizons'),Candidate('The Last of Us Part 2'),Candidate('Doom Eternal')]\n",
    "dBallots = []\n",
    "i=0\n",
    "while (i < len(GOTY2020)) :\n",
    "    dBallots.append(Ballot(ranked_candidates=GOTY2020.iloc[i].tolist()))\n",
    "    i += 1\n",
    "\n",
    "result = prv.instant_runoff_voting(canidates,dBallots)\n",
    "print(result.get_winners())\n",
    "print()\n",
    "print(result)"
   ]
  },
  {
   "cell_type": "code",
   "execution_count": 41,
   "metadata": {},
   "outputs": [
    {
     "data": {
      "text/html": [
       "<div>\n",
       "<style scoped>\n",
       "    .dataframe tbody tr th:only-of-type {\n",
       "        vertical-align: middle;\n",
       "    }\n",
       "\n",
       "    .dataframe tbody tr th {\n",
       "        vertical-align: top;\n",
       "    }\n",
       "\n",
       "    .dataframe thead th {\n",
       "        text-align: right;\n",
       "    }\n",
       "</style>\n",
       "<table border=\"1\" class=\"dataframe\">\n",
       "  <thead>\n",
       "    <tr style=\"text-align: right;\">\n",
       "      <th></th>\n",
       "      <th>Game of the Year 2020 [Choice 1]</th>\n",
       "      <th>Game of the Year 2020 [Choice 2]</th>\n",
       "      <th>Game of the Year 2020 [Choice 3]</th>\n",
       "      <th>Game of the Year 2020 [Choice 4]</th>\n",
       "      <th>Game of the Year 2020 [Choice 5]</th>\n",
       "      <th>Game of the Year 2020 [Choice 6]</th>\n",
       "    </tr>\n",
       "    <tr>\n",
       "      <th>Timestamp</th>\n",
       "      <th></th>\n",
       "      <th></th>\n",
       "      <th></th>\n",
       "      <th></th>\n",
       "      <th></th>\n",
       "      <th></th>\n",
       "    </tr>\n",
       "  </thead>\n",
       "  <tbody>\n",
       "    <tr>\n",
       "      <th>2020-12-07 17:44:53</th>\n",
       "      <td>Star Wars Jedi: Fallen Order</td>\n",
       "      <td>Ori and the Will of the Wisps</td>\n",
       "      <td>Hades</td>\n",
       "      <td>Doom Eternal</td>\n",
       "      <td>The Last of Us Part 2</td>\n",
       "      <td>Animal Crossing: New Horizons</td>\n",
       "    </tr>\n",
       "    <tr>\n",
       "      <th>2020-12-07 17:53:37</th>\n",
       "      <td>Star Wars Jedi: Fallen Order</td>\n",
       "      <td>Ori and the Will of the Wisps</td>\n",
       "      <td>Doom Eternal</td>\n",
       "      <td>Animal Crossing: New Horizons</td>\n",
       "      <td>Hades</td>\n",
       "      <td>The Last of Us Part 2</td>\n",
       "    </tr>\n",
       "    <tr>\n",
       "      <th>2020-12-08 20:16:38</th>\n",
       "      <td>Ori and the Will of the Wisps</td>\n",
       "      <td>Animal Crossing: New Horizons</td>\n",
       "      <td>The Last of Us Part 2</td>\n",
       "      <td>Star Wars Jedi: Fallen Order</td>\n",
       "      <td>Hades</td>\n",
       "      <td>Doom Eternal</td>\n",
       "    </tr>\n",
       "    <tr>\n",
       "      <th>2020-12-08 20:18:55</th>\n",
       "      <td>Star Wars Jedi: Fallen Order</td>\n",
       "      <td>Animal Crossing: New Horizons</td>\n",
       "      <td>The Last of Us Part 2</td>\n",
       "      <td>Ori and the Will of the Wisps</td>\n",
       "      <td>Doom Eternal</td>\n",
       "      <td>Hades</td>\n",
       "    </tr>\n",
       "    <tr>\n",
       "      <th>2020-12-10 20:07:31</th>\n",
       "      <td>Animal Crossing: New Horizons</td>\n",
       "      <td>Hades</td>\n",
       "      <td>Star Wars Jedi: Fallen Order</td>\n",
       "      <td>Ori and the Will of the Wisps</td>\n",
       "      <td>Doom Eternal</td>\n",
       "      <td>The Last of Us Part 2</td>\n",
       "    </tr>\n",
       "    <tr>\n",
       "      <th>2020-12-11 22:36:17</th>\n",
       "      <td>Hades</td>\n",
       "      <td>Star Wars Jedi: Fallen Order</td>\n",
       "      <td>Doom Eternal</td>\n",
       "      <td>Ori and the Will of the Wisps</td>\n",
       "      <td>Animal Crossing: New Horizons</td>\n",
       "      <td>The Last of Us Part 2</td>\n",
       "    </tr>\n",
       "    <tr>\n",
       "      <th>2020-12-12 04:53:10</th>\n",
       "      <td>Hades</td>\n",
       "      <td>Animal Crossing: New Horizons</td>\n",
       "      <td>The Last of Us Part 2</td>\n",
       "      <td>Ori and the Will of the Wisps</td>\n",
       "      <td>Doom Eternal</td>\n",
       "      <td>Star Wars Jedi: Fallen Order</td>\n",
       "    </tr>\n",
       "    <tr>\n",
       "      <th>2020-12-12 13:57:23</th>\n",
       "      <td>Star Wars Jedi: Fallen Order</td>\n",
       "      <td>Hades</td>\n",
       "      <td>Ori and the Will of the Wisps</td>\n",
       "      <td>Doom Eternal</td>\n",
       "      <td>The Last of Us Part 2</td>\n",
       "      <td>Animal Crossing: New Horizons</td>\n",
       "    </tr>\n",
       "    <tr>\n",
       "      <th>2020-12-12 14:31:30</th>\n",
       "      <td>Star Wars Jedi: Fallen Order</td>\n",
       "      <td>Hades</td>\n",
       "      <td>Doom Eternal</td>\n",
       "      <td>Ori and the Will of the Wisps</td>\n",
       "      <td>Animal Crossing: New Horizons</td>\n",
       "      <td>The Last of Us Part 2</td>\n",
       "    </tr>\n",
       "    <tr>\n",
       "      <th>2020-12-12 18:53:24</th>\n",
       "      <td>Hades</td>\n",
       "      <td>The Last of Us Part 2</td>\n",
       "      <td>Doom Eternal</td>\n",
       "      <td>Animal Crossing: New Horizons</td>\n",
       "      <td>Ori and the Will of the Wisps</td>\n",
       "      <td>Star Wars Jedi: Fallen Order</td>\n",
       "    </tr>\n",
       "    <tr>\n",
       "      <th>2020-12-12 19:36:41</th>\n",
       "      <td>The Last of Us Part 2</td>\n",
       "      <td>Star Wars Jedi: Fallen Order</td>\n",
       "      <td>Hades</td>\n",
       "      <td>Ori and the Will of the Wisps</td>\n",
       "      <td>Doom Eternal</td>\n",
       "      <td>Animal Crossing: New Horizons</td>\n",
       "    </tr>\n",
       "  </tbody>\n",
       "</table>\n",
       "</div>"
      ],
      "text/plain": [
       "                    Game of the Year 2020 [Choice 1]  \\\n",
       "Timestamp                                              \n",
       "2020-12-07 17:44:53     Star Wars Jedi: Fallen Order   \n",
       "2020-12-07 17:53:37     Star Wars Jedi: Fallen Order   \n",
       "2020-12-08 20:16:38    Ori and the Will of the Wisps   \n",
       "2020-12-08 20:18:55     Star Wars Jedi: Fallen Order   \n",
       "2020-12-10 20:07:31    Animal Crossing: New Horizons   \n",
       "2020-12-11 22:36:17                            Hades   \n",
       "2020-12-12 04:53:10                            Hades   \n",
       "2020-12-12 13:57:23     Star Wars Jedi: Fallen Order   \n",
       "2020-12-12 14:31:30     Star Wars Jedi: Fallen Order   \n",
       "2020-12-12 18:53:24                            Hades   \n",
       "2020-12-12 19:36:41            The Last of Us Part 2   \n",
       "\n",
       "                    Game of the Year 2020 [Choice 2]  \\\n",
       "Timestamp                                              \n",
       "2020-12-07 17:44:53    Ori and the Will of the Wisps   \n",
       "2020-12-07 17:53:37    Ori and the Will of the Wisps   \n",
       "2020-12-08 20:16:38    Animal Crossing: New Horizons   \n",
       "2020-12-08 20:18:55    Animal Crossing: New Horizons   \n",
       "2020-12-10 20:07:31                            Hades   \n",
       "2020-12-11 22:36:17     Star Wars Jedi: Fallen Order   \n",
       "2020-12-12 04:53:10    Animal Crossing: New Horizons   \n",
       "2020-12-12 13:57:23                            Hades   \n",
       "2020-12-12 14:31:30                            Hades   \n",
       "2020-12-12 18:53:24            The Last of Us Part 2   \n",
       "2020-12-12 19:36:41     Star Wars Jedi: Fallen Order   \n",
       "\n",
       "                    Game of the Year 2020 [Choice 3]  \\\n",
       "Timestamp                                              \n",
       "2020-12-07 17:44:53                            Hades   \n",
       "2020-12-07 17:53:37                     Doom Eternal   \n",
       "2020-12-08 20:16:38            The Last of Us Part 2   \n",
       "2020-12-08 20:18:55            The Last of Us Part 2   \n",
       "2020-12-10 20:07:31     Star Wars Jedi: Fallen Order   \n",
       "2020-12-11 22:36:17                     Doom Eternal   \n",
       "2020-12-12 04:53:10            The Last of Us Part 2   \n",
       "2020-12-12 13:57:23    Ori and the Will of the Wisps   \n",
       "2020-12-12 14:31:30                     Doom Eternal   \n",
       "2020-12-12 18:53:24                     Doom Eternal   \n",
       "2020-12-12 19:36:41                            Hades   \n",
       "\n",
       "                    Game of the Year 2020 [Choice 4]  \\\n",
       "Timestamp                                              \n",
       "2020-12-07 17:44:53                     Doom Eternal   \n",
       "2020-12-07 17:53:37    Animal Crossing: New Horizons   \n",
       "2020-12-08 20:16:38     Star Wars Jedi: Fallen Order   \n",
       "2020-12-08 20:18:55    Ori and the Will of the Wisps   \n",
       "2020-12-10 20:07:31    Ori and the Will of the Wisps   \n",
       "2020-12-11 22:36:17    Ori and the Will of the Wisps   \n",
       "2020-12-12 04:53:10    Ori and the Will of the Wisps   \n",
       "2020-12-12 13:57:23                     Doom Eternal   \n",
       "2020-12-12 14:31:30    Ori and the Will of the Wisps   \n",
       "2020-12-12 18:53:24    Animal Crossing: New Horizons   \n",
       "2020-12-12 19:36:41    Ori and the Will of the Wisps   \n",
       "\n",
       "                    Game of the Year 2020 [Choice 5]  \\\n",
       "Timestamp                                              \n",
       "2020-12-07 17:44:53            The Last of Us Part 2   \n",
       "2020-12-07 17:53:37                            Hades   \n",
       "2020-12-08 20:16:38                            Hades   \n",
       "2020-12-08 20:18:55                     Doom Eternal   \n",
       "2020-12-10 20:07:31                     Doom Eternal   \n",
       "2020-12-11 22:36:17    Animal Crossing: New Horizons   \n",
       "2020-12-12 04:53:10                     Doom Eternal   \n",
       "2020-12-12 13:57:23            The Last of Us Part 2   \n",
       "2020-12-12 14:31:30    Animal Crossing: New Horizons   \n",
       "2020-12-12 18:53:24    Ori and the Will of the Wisps   \n",
       "2020-12-12 19:36:41                     Doom Eternal   \n",
       "\n",
       "                    Game of the Year 2020 [Choice 6]  \n",
       "Timestamp                                             \n",
       "2020-12-07 17:44:53    Animal Crossing: New Horizons  \n",
       "2020-12-07 17:53:37            The Last of Us Part 2  \n",
       "2020-12-08 20:16:38                     Doom Eternal  \n",
       "2020-12-08 20:18:55                            Hades  \n",
       "2020-12-10 20:07:31            The Last of Us Part 2  \n",
       "2020-12-11 22:36:17            The Last of Us Part 2  \n",
       "2020-12-12 04:53:10     Star Wars Jedi: Fallen Order  \n",
       "2020-12-12 13:57:23    Animal Crossing: New Horizons  \n",
       "2020-12-12 14:31:30            The Last of Us Part 2  \n",
       "2020-12-12 18:53:24     Star Wars Jedi: Fallen Order  \n",
       "2020-12-12 19:36:41    Animal Crossing: New Horizons  "
      ]
     },
     "execution_count": 41,
     "metadata": {},
     "output_type": "execute_result"
    }
   ],
   "source": [
    "GOTY2020"
   ]
  }
 ],
 "metadata": {
  "kernelspec": {
   "display_name": "Python 3",
   "language": "python",
   "name": "python3"
  },
  "language_info": {
   "codemirror_mode": {
    "name": "ipython",
    "version": 3
   },
   "file_extension": ".py",
   "mimetype": "text/x-python",
   "name": "python",
   "nbconvert_exporter": "python",
   "pygments_lexer": "ipython3",
   "version": "3.8.6"
  }
 },
 "nbformat": 4,
 "nbformat_minor": 2
}
