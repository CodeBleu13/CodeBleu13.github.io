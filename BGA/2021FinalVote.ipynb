{
 "cells": [
  {
   "cell_type": "markdown",
   "metadata": {},
   "source": [
    "# The Bleu Game Awards 2021 Final\n",
    "\n",
    "The votes have been Cast. Let's see the results\n"
   ]
  },
  {
   "cell_type": "code",
   "execution_count": 1,
   "metadata": {
    "tags": []
   },
   "outputs": [],
   "source": [
    "import pyrankvote as prv\n",
    "from pyrankvote import Candidate, Ballot\n",
    "import pandas as pd\n",
    "\n",
    "%matplotlib inline"
   ]
  },
  {
   "cell_type": "code",
   "execution_count": 2,
   "metadata": {},
   "outputs": [
    {
     "name": "stderr",
     "output_type": "stream",
     "text": [
      "C:\\Users\\Dhruv\\AppData\\Roaming\\Python\\Python38\\site-packages\\dateutil\\parser\\_parser.py:1213: UnknownTimezoneWarning: tzname EST identified but not understood.  Pass `tzinfos` argument in order to correctly return a timezone-aware datetime.  In a future version, this will raise an exception.\n",
      "  warnings.warn(\"tzname {tzname} identified but not understood.  \"\n"
     ]
    }
   ],
   "source": [
    "votes = pd.read_csv(\"2021 BGAs.csv\", index_col=\"Timestamp\", parse_dates=True)"
   ]
  },
  {
   "cell_type": "code",
   "execution_count": 3,
   "metadata": {},
   "outputs": [],
   "source": [
    "GOTY2020 = votes.iloc[:,0:6]\n",
    "PERF2020 = votes.iloc[:,6:12]\n",
    "MUSI2020 = votes.iloc[:,12:18]\n",
    "ARTS2020 = votes.iloc[:,18:24]\n",
    "NARR2020 = votes.iloc[:,24:28]\n",
    "COOP2020 = votes.iloc[:,28:32]\n",
    "MULT2020 = votes.iloc[:,32:36]\n",
    "ONGO2020 = votes.iloc[:,36:40]\n",
    "DLCS2020 = votes.iloc[:,40:41]\n",
    "OPWO2020 = votes.iloc[:,41:45]\n",
    "ACTI2020 = votes.iloc[:,45:49]\n",
    "ACAD2020 = votes.iloc[:,49:55]\n",
    "STRA2020 = votes.iloc[:,55:57]\n",
    "RPGS2020 = votes.iloc[:,57:60]\n",
    "SPOR2020 = votes.iloc[:,60:64]\n",
    "FAMI2020 = votes.iloc[:,64:67]\n",
    "REMA2020 = votes.iloc[:,67:71]\n",
    "INDI2020 = votes.iloc[:,71:76]\n",
    "CONT2020 = votes.iloc[:,76:78]"
   ]
  },
  {
   "cell_type": "markdown",
   "metadata": {},
   "source": [
    "## 2021 BLEU GAME AWARDS"
   ]
  },
  {
   "cell_type": "markdown",
   "metadata": {},
   "source": [
    "### Game of the Year"
   ]
  },
  {
   "cell_type": "code",
   "execution_count": 4,
   "metadata": {},
   "outputs": [
    {
     "name": "stdout",
     "output_type": "stream",
     "text": [
      "[<Candidate('Assassins Creed Valhalla')>]\n",
      "\n",
      "ROUND 1\n",
      "Candidate                             Votes  Status\n",
      "----------------------------------  -------  --------\n",
      "Life is Strange: True Colors              2  Hopeful\n",
      "Kena: Bridge of Spirits                   2  Hopeful\n",
      "Resident Evil Villiage                    1  Hopeful\n",
      "Assassins Creed Valhalla                  1  Hopeful\n",
      "Marvel's Spider Man: Miles Morales        1  Rejected\n",
      "Immortals Fenyx Rising                    0  Rejected\n",
      "\n",
      "ROUND 2\n",
      "Candidate                             Votes  Status\n",
      "----------------------------------  -------  --------\n",
      "Assassins Creed Valhalla                  2  Hopeful\n",
      "Life is Strange: True Colors              2  Hopeful\n",
      "Kena: Bridge of Spirits                   2  Hopeful\n",
      "Resident Evil Villiage                    1  Rejected\n",
      "Marvel's Spider Man: Miles Morales        0  Rejected\n",
      "Immortals Fenyx Rising                    0  Rejected\n",
      "\n",
      "ROUND 3\n",
      "Candidate                             Votes  Status\n",
      "----------------------------------  -------  --------\n",
      "Assassins Creed Valhalla                  3  Hopeful\n",
      "Kena: Bridge of Spirits                   2  Hopeful\n",
      "Life is Strange: True Colors              2  Rejected\n",
      "Resident Evil Villiage                    0  Rejected\n",
      "Marvel's Spider Man: Miles Morales        0  Rejected\n",
      "Immortals Fenyx Rising                    0  Rejected\n",
      "\n",
      "FINAL RESULT\n",
      "Candidate                             Votes  Status\n",
      "----------------------------------  -------  --------\n",
      "Assassins Creed Valhalla                  4  Elected\n",
      "Kena: Bridge of Spirits                   3  Rejected\n",
      "Life is Strange: True Colors              0  Rejected\n",
      "Resident Evil Villiage                    0  Rejected\n",
      "Marvel's Spider Man: Miles Morales        0  Rejected\n",
      "Immortals Fenyx Rising                    0  Rejected\n",
      "\n"
     ]
    }
   ],
   "source": [
    "\n",
    "cans = {\"Assassins Creed Valhalla\":Candidate(\"Assassins Creed Valhalla\"),\n",
    "        \"Life is Strange: True Colors\":Candidate(\"Life is Strange: True Colors\"),\n",
    "        \"Immortals Fenyx Rising\":Candidate(\"Immortals Fenyx Rising\"),\n",
    "        \"Marvel's Spider Man: Miles Morales\":Candidate(\"Marvel's Spider Man: Miles Morales\"),\n",
    "        \"Kena: Bridge of Spirits\":Candidate(\"Kena: Bridge of Spirits\"),\n",
    "        \"Resident Evil Villiage\":Candidate(\"Resident Evil Villiage\")}\n",
    "GOTY21 = GOTY2020.replace(cans)\n",
    "\n",
    "canidates = [Candidate(\"Assassins Creed Valhalla\"),Candidate(\"Life is Strange: True Colors\"),Candidate(\"Immortals Fenyx Rising\"),\n",
    "            Candidate(\"Marvel's Spider Man: Miles Morales\"),Candidate(\"Kena: Bridge of Spirits\"),Candidate(\"Resident Evil Villiage\")]\n",
    "ballots = []\n",
    "i=0\n",
    "while (i < len(GOTY21)) :\n",
    "    ballots.append(Ballot(ranked_candidates=GOTY21.iloc[i].tolist()))\n",
    "    i += 1\n",
    "\n",
    "result = prv.instant_runoff_voting(canidates,ballots)\n",
    "print(result.get_winners())\n",
    "print()\n",
    "print(result)"
   ]
  },
  {
   "cell_type": "markdown",
   "metadata": {},
   "source": [
    "### Best Performance"
   ]
  },
  {
   "cell_type": "code",
   "execution_count": 5,
   "metadata": {},
   "outputs": [
    {
     "name": "stdout",
     "output_type": "stream",
     "text": [
      "[<Candidate('Magnus Bruun/Cecilie Stenspil as Eivor from Assassins Creed Valhalla')>]\n",
      "ROUND 1\n",
      "Candidate                                                               Votes  Status\n",
      "--------------------------------------------------------------------  -------  --------\n",
      "Magnus Bruun/Cecilie Stenspil as Eivor from Assassins Creed Valhalla        3  Hopeful\n",
      "Giancarlo Esposito as Anton Castillo from Far Cry 6                         3  Hopeful\n",
      "Cherami Leigh/Gavin Drea as V from Cyberpunk 2077                           1  Rejected\n",
      "Carlo Rota as Basim/Loki from Assassins Creed Valhalla                      0  Rejected\n",
      "Dewa Ayu Dewi Larassanti as Kena from Kena: Bridge of Spirits               0  Rejected\n",
      "Elana Dunkelman/Tyrone Savage as Fenyx from Immortals Fenyx Rising          0  Rejected\n",
      "\n",
      "FINAL RESULT\n",
      "Candidate                                                               Votes  Status\n",
      "--------------------------------------------------------------------  -------  --------\n",
      "Magnus Bruun/Cecilie Stenspil as Eivor from Assassins Creed Valhalla        4  Elected\n",
      "Giancarlo Esposito as Anton Castillo from Far Cry 6                         3  Rejected\n",
      "Cherami Leigh/Gavin Drea as V from Cyberpunk 2077                           0  Rejected\n",
      "Carlo Rota as Basim/Loki from Assassins Creed Valhalla                      0  Rejected\n",
      "Dewa Ayu Dewi Larassanti as Kena from Kena: Bridge of Spirits               0  Rejected\n",
      "Elana Dunkelman/Tyrone Savage as Fenyx from Immortals Fenyx Rising          0  Rejected\n",
      "\n"
     ]
    },
    {
     "name": "stderr",
     "output_type": "stream",
     "text": [
      "C:\\Users\\Dhruv\\AppData\\Local\\Programs\\Python\\Python38-32\\lib\\site-packages\\pandas\\core\\frame.py:4383: SettingWithCopyWarning: \n",
      "A value is trying to be set on a copy of a slice from a DataFrame\n",
      "\n",
      "See the caveats in the documentation: https://pandas.pydata.org/pandas-docs/stable/user_guide/indexing.html#returning-a-view-versus-a-copy\n",
      "  return super().replace(\n"
     ]
    }
   ],
   "source": [
    "# PERF2020\n",
    "cans = {'Magnus Bruun/Cecilie Stenspil as Eivor from Assassins Creed Valhalla':Candidate('Magnus Bruun/Cecilie Stenspil as Eivor from Assassins Creed Valhalla'),\n",
    "        'Cherami Leigh/Gavin Drea as V from Cyberpunk 2077':Candidate('Cherami Leigh/Gavin Drea as V from Cyberpunk 2077'),\n",
    "        'Carlo Rota as Basim/Loki from Assassins Creed Valhalla':Candidate('Carlo Rota as Basim/Loki from Assassins Creed Valhalla'),\n",
    "        'Dewa Ayu Dewi Larassanti as Kena from Kena: Bridge of Spirits':Candidate('Dewa Ayu Dewi Larassanti as Kena from Kena: Bridge of Spirits'),\n",
    "        'Giancarlo Esposito as Anton Castillo from Far Cry 6':Candidate('Giancarlo Esposito as Anton Castillo from Far Cry 6'),\n",
    "        'Elana Dunkelman/Tyrone Savage as Fenyx from Immortals Fenyx Rising':Candidate('Elana Dunkelman/Tyrone Savage as Fenyx from Immortals Fenyx Rising')}\n",
    "PERF2020.replace(cans, inplace=True)\n",
    "\n",
    "canidates = [Candidate('Magnus Bruun/Cecilie Stenspil as Eivor from Assassins Creed Valhalla'),Candidate('Cherami Leigh/Gavin Drea as V from Cyberpunk 2077'),\n",
    "            Candidate('Carlo Rota as Basim/Loki from Assassins Creed Valhalla'),Candidate('Dewa Ayu Dewi Larassanti as Kena from Kena: Bridge of Spirits'),\n",
    "            Candidate('Giancarlo Esposito as Anton Castillo from Far Cry 6'),Candidate('Elana Dunkelman/Tyrone Savage as Fenyx from Immortals Fenyx Rising')]\n",
    "ballots = []\n",
    "i=0\n",
    "while (i < len(PERF2020)) :\n",
    "    ballots.append(Ballot(ranked_candidates=PERF2020.iloc[i].tolist()))\n",
    "    i += 1\n",
    "\n",
    "result = prv.instant_runoff_voting(canidates,ballots)\n",
    "print(result.get_winners())\n",
    "\n",
    "print(result)"
   ]
  },
  {
   "cell_type": "markdown",
   "metadata": {},
   "source": [
    "### Best Musical Score"
   ]
  },
  {
   "cell_type": "code",
   "execution_count": 6,
   "metadata": {},
   "outputs": [
    {
     "name": "stdout",
     "output_type": "stream",
     "text": [
      "[<Candidate('Life is Strange: True Colors')>]\n",
      "ROUND 1\n",
      "Candidate                       Votes  Status\n",
      "----------------------------  -------  --------\n",
      "Life is Strange: True Colors        3  Hopeful\n",
      "Assassins Creed Valhalla            2  Hopeful\n",
      "Far Cry 6                           1  Rejected\n",
      "Resident Evil Village               1  Rejected\n",
      "Kena: Bridge of Spirits             0  Rejected\n",
      "Immortals Fenyx Rising              0  Rejected\n",
      "\n",
      "FINAL RESULT\n",
      "Candidate                       Votes  Status\n",
      "----------------------------  -------  --------\n",
      "Life is Strange: True Colors        4  Elected\n",
      "Assassins Creed Valhalla            3  Rejected\n",
      "Far Cry 6                           0  Rejected\n",
      "Resident Evil Village               0  Rejected\n",
      "Kena: Bridge of Spirits             0  Rejected\n",
      "Immortals Fenyx Rising              0  Rejected\n",
      "\n"
     ]
    }
   ],
   "source": [
    "# MUSI2020\n",
    "cans = {\"Assassins Creed Valhalla\":Candidate(\"Assassins Creed Valhalla\"),\n",
    "        \"Far Cry 6\":Candidate(\"Far Cry 6\"),\n",
    "        \"Immortals Fenyx Rising\":Candidate(\"Immortals Fenyx Rising\"),\n",
    "        \"Kena: Bridge of Spirits\":Candidate(\"Kena: Bridge of Spirits\"),\n",
    "        \"Life is Strange: True Colors\":Candidate(\"Life is Strange: True Colors\"),\n",
    "        \"Resident Evil Village\":Candidate(\"Resident Evil Village\")}\n",
    "MUSI2020.replace(cans, inplace=True)\n",
    "\n",
    "canidates = [Candidate(\"Assassins Creed Valhalla\"),Candidate(\"Far Cry 6\"), Candidate(\"Immortals Fenyx Rising\"),\n",
    "            Candidate(\"Kena: Bridge of Spirits\"),Candidate(\"Life is Strange: True Colors\"),Candidate(\"Resident Evil Village\")]\n",
    "ballots = []\n",
    "i=0\n",
    "while (i < len(MUSI2020)) :\n",
    "    ballots.append(Ballot(ranked_candidates=MUSI2020.iloc[i].tolist()))\n",
    "    i += 1\n",
    "\n",
    "result = prv.instant_runoff_voting(canidates,ballots)\n",
    "print(result.get_winners())\n",
    "\n",
    "print(result)"
   ]
  },
  {
   "cell_type": "markdown",
   "metadata": {},
   "source": [
    "### Best Art Direction"
   ]
  },
  {
   "cell_type": "code",
   "execution_count": 7,
   "metadata": {},
   "outputs": [
    {
     "name": "stdout",
     "output_type": "stream",
     "text": [
      "[<Candidate('Assassins Creed Valhalla')>]\n",
      "ROUND 1\n",
      "Candidate                       Votes  Status\n",
      "----------------------------  -------  --------\n",
      "Assassins Creed Valhalla            2  Hopeful\n",
      "Life is Strange: True Colors        2  Hopeful\n",
      "Far Cry 6                           2  Hopeful\n",
      "Resident Evil Village               1  Rejected\n",
      "Immortals Fenyx Rising              0  Rejected\n",
      "Kena: Bridge of Spirits             0  Rejected\n",
      "\n",
      "ROUND 2\n",
      "Candidate                       Votes  Status\n",
      "----------------------------  -------  --------\n",
      "Assassins Creed Valhalla            3  Hopeful\n",
      "Far Cry 6                           2  Hopeful\n",
      "Life is Strange: True Colors        2  Rejected\n",
      "Resident Evil Village               0  Rejected\n",
      "Immortals Fenyx Rising              0  Rejected\n",
      "Kena: Bridge of Spirits             0  Rejected\n",
      "\n",
      "FINAL RESULT\n",
      "Candidate                       Votes  Status\n",
      "----------------------------  -------  --------\n",
      "Assassins Creed Valhalla            4  Elected\n",
      "Far Cry 6                           3  Rejected\n",
      "Life is Strange: True Colors        0  Rejected\n",
      "Resident Evil Village               0  Rejected\n",
      "Immortals Fenyx Rising              0  Rejected\n",
      "Kena: Bridge of Spirits             0  Rejected\n",
      "\n"
     ]
    }
   ],
   "source": [
    "# ARTS2020\n",
    "\n",
    "cans = {\"Far Cry 6\":Candidate(\"Far Cry 6\"),\n",
    "        \"Kena: Bridge of Spirits\":Candidate(\"Kena: Bridge of Spirits\"),\n",
    "        \"Assassins Creed Valhalla\":Candidate(\"Assassins Creed Valhalla\"),\n",
    "        \"Immortals Fenyx Rising\":Candidate(\"Immortals Fenyx Rising\"),\n",
    "        \"Life is Strange: True Colors\":Candidate(\"Life is Strange: True Colors\"),\n",
    "        \"Resident Evil Village\":Candidate(\"Resident Evil Village\")}\n",
    "ARTS2020.replace(cans, inplace=True)\n",
    "\n",
    "canidates = [Candidate(\"Far Cry 6\"),Candidate(\"Kena: Bridge of Spirits\"), Candidate(\"Assassins Creed Valhalla\"),\n",
    "            Candidate(\"Immortals Fenyx Rising\"),Candidate(\"Life is Strange: True Colors\"),Candidate(\"Resident Evil Village\")]\n",
    "ballots = []\n",
    "i=0\n",
    "while (i < len(ARTS2020)) :\n",
    "    ballots.append(Ballot(ranked_candidates=ARTS2020.iloc[i].tolist()))\n",
    "    i += 1\n",
    "\n",
    "result = prv.instant_runoff_voting(canidates,ballots)\n",
    "print(result.get_winners())\n",
    "\n",
    "print(result)"
   ]
  },
  {
   "cell_type": "markdown",
   "metadata": {},
   "source": [
    "### Best Narrative"
   ]
  },
  {
   "cell_type": "code",
   "execution_count": 8,
   "metadata": {},
   "outputs": [
    {
     "name": "stdout",
     "output_type": "stream",
     "text": [
      "[<Candidate('Life is Strange: True Colors')>]\n",
      "FINAL RESULT\n",
      "Candidate                       Votes  Status\n",
      "----------------------------  -------  --------\n",
      "Life is Strange: True Colors        4  Elected\n",
      "Assassins Creed Valhalla            2  Rejected\n",
      "Resident Evil Village               1  Rejected\n",
      "Far Cry 6                           0  Rejected\n",
      "\n"
     ]
    }
   ],
   "source": [
    "# NARR2020\n",
    "\n",
    "cans = {\"Life is Strange: True Colors\":Candidate(\"Life is Strange: True Colors\"),\n",
    "        \"Assassins Creed Valhalla\":Candidate(\"Assassins Creed Valhalla\"),\n",
    "        \"Far Cry 6\":Candidate(\"Far Cry 6\"),\n",
    "        \"Resident Evil Village\":Candidate(\"Resident Evil Village\")}\n",
    "NARR2020.replace(cans, inplace=True)\n",
    "\n",
    "canidates = [Candidate(\"Life is Strange: True Colors\"),Candidate(\"Assassins Creed Valhalla\"), Candidate(\"Far Cry 6\"),Candidate(\"Resident Evil Village\")]\n",
    "ballots = []\n",
    "i=0\n",
    "while (i < len(NARR2020)) :\n",
    "    ballots.append(Ballot(ranked_candidates=NARR2020.iloc[i].tolist()))\n",
    "    i += 1\n",
    "\n",
    "result = prv.instant_runoff_voting(canidates,ballots)\n",
    "print(result.get_winners())\n",
    "\n",
    "print(result)"
   ]
  },
  {
   "cell_type": "markdown",
   "metadata": {},
   "source": [
    "### Best Co-op Game"
   ]
  },
  {
   "cell_type": "code",
   "execution_count": 9,
   "metadata": {},
   "outputs": [
    {
     "name": "stdout",
     "output_type": "stream",
     "text": [
      "[<Candidate('It Takes Two')>]\n",
      "ROUND 1\n",
      "Candidate       Votes  Status\n",
      "------------  -------  --------\n",
      "It Takes Two        4  Hopeful\n",
      "Outriders           1  Hopeful\n",
      "Valheim             1  Rejected\n",
      "Back 4 Blood        1  Rejected\n",
      "\n",
      "FINAL RESULT\n",
      "Candidate       Votes  Status\n",
      "------------  -------  --------\n",
      "It Takes Two        5  Elected\n",
      "Outriders           2  Rejected\n",
      "Valheim             0  Rejected\n",
      "Back 4 Blood        0  Rejected\n",
      "\n"
     ]
    }
   ],
   "source": [
    "# COOP2020 \n",
    "\n",
    "cans = {\"It Takes Two\":Candidate(\"It Takes Two\"),\n",
    "        \"Back 4 Blood\":Candidate(\"Back 4 Blood\"),\n",
    "        \"Outriders\":Candidate(\"Outriders\"),\n",
    "        \"Valheim\":Candidate(\"Valheim\")}\n",
    "COOP2020.replace(cans, inplace=True)\n",
    "\n",
    "canidates = [Candidate(\"It Takes Two\"),Candidate(\"Back 4 Blood\"), Candidate(\"Outriders\"),Candidate(\"Valheim\")]\n",
    "ballots = []\n",
    "i=0\n",
    "while (i < len(COOP2020)) :\n",
    "    ballots.append(Ballot(ranked_candidates=COOP2020.iloc[i].tolist()))\n",
    "    i += 1\n",
    "\n",
    "result = prv.instant_runoff_voting(canidates,ballots)\n",
    "print(result.get_winners())\n",
    "\n",
    "print(result)"
   ]
  },
  {
   "cell_type": "markdown",
   "metadata": {},
   "source": [
    "### Best Multiplayer (PvP) Game"
   ]
  },
  {
   "cell_type": "code",
   "execution_count": 10,
   "metadata": {},
   "outputs": [
    {
     "name": "stdout",
     "output_type": "stream",
     "text": [
      "[<Candidate('New World')>]\n",
      "ROUND 1\n",
      "Candidate                    Votes  Status\n",
      "-------------------------  -------  --------\n",
      "New World                        3  Hopeful\n",
      "Pokemon Unite                    2  Hopeful\n",
      "Packman99                        1  Rejected\n",
      "Hood: Outlaws and Legends        1  Rejected\n",
      "\n",
      "FINAL RESULT\n",
      "Candidate                    Votes  Status\n",
      "-------------------------  -------  --------\n",
      "New World                        4  Elected\n",
      "Pokemon Unite                    3  Rejected\n",
      "Packman99                        0  Rejected\n",
      "Hood: Outlaws and Legends        0  Rejected\n",
      "\n"
     ]
    }
   ],
   "source": [
    "# MULT2020 \n",
    "\n",
    "cans = {\"Pokemon Unite\":Candidate(\"Pokemon Unite\"),\n",
    "        \"Packman99\":Candidate(\"Packman99\"),\n",
    "        \"New World\":Candidate(\"New World\"),\n",
    "        \"Hood: Outlaws and Legends\":Candidate(\"Hood: Outlaws and Legends\")}\n",
    "MULT2020.replace(cans, inplace=True)\n",
    "\n",
    "canidates = [Candidate(\"Pokemon Unite\"),Candidate(\"Packman99\"),Candidate(\"New World\"),Candidate(\"Hood: Outlaws and Legends\")]\n",
    "ballots = []\n",
    "i=0\n",
    "while (i < len(MULT2020)) :\n",
    "    ballots.append(Ballot(ranked_candidates=MULT2020.iloc[i].tolist()))\n",
    "    i += 1\n",
    "\n",
    "result = prv.instant_runoff_voting(canidates,ballots)\n",
    "print(result.get_winners())\n",
    "\n",
    "print(result)"
   ]
  },
  {
   "cell_type": "markdown",
   "metadata": {},
   "source": [
    "### Best Ongoing Game"
   ]
  },
  {
   "cell_type": "code",
   "execution_count": 11,
   "metadata": {},
   "outputs": [
    {
     "name": "stdout",
     "output_type": "stream",
     "text": [
      "[<Candidate('Destiny 2')>]\n",
      "ROUND 1\n",
      "Candidate               Votes  Status\n",
      "--------------------  -------  --------\n",
      "Destiny 2                   3  Hopeful\n",
      "Apex Legends                2  Hopeful\n",
      "Final Fantasy XIV           1  Rejected\n",
      "Elder Scrolls Online        1  Rejected\n",
      "\n",
      "FINAL RESULT\n",
      "Candidate               Votes  Status\n",
      "--------------------  -------  --------\n",
      "Destiny 2                   5  Elected\n",
      "Apex Legends                2  Rejected\n",
      "Final Fantasy XIV           0  Rejected\n",
      "Elder Scrolls Online        0  Rejected\n",
      "\n"
     ]
    }
   ],
   "source": [
    "# ONGO2020 \n",
    "\n",
    "cans = {\"Destiny 2\":Candidate(\"Destiny 2\"),\n",
    "        \"Final Fantasy XIV\":Candidate(\"Final Fantasy XIV\"),\n",
    "        \"Elder Scrolls Online\":Candidate(\"Elder Scrolls Online\"),\n",
    "        \"Apex Legends\":Candidate(\"Apex Legends\")}\n",
    "ONGO2020.replace(cans, inplace=True)\n",
    "\n",
    "canidates = [Candidate(\"Destiny 2\"),Candidate(\"Final Fantasy XIV\"), Candidate(\"Elder Scrolls Online\"),\n",
    "            Candidate(\"Apex Legends\")]\n",
    "ballots = []\n",
    "i=0\n",
    "while (i < len(ONGO2020)) :\n",
    "    ballots.append(Ballot(ranked_candidates=ONGO2020.iloc[i].tolist()))\n",
    "    i += 1\n",
    "\n",
    "result = prv.instant_runoff_voting(canidates,ballots)\n",
    "print(result.get_winners())\n",
    "\n",
    "print(result)"
   ]
  },
  {
   "cell_type": "markdown",
   "metadata": {},
   "source": [
    "### Best DLC for a Game"
   ]
  },
  {
   "cell_type": "code",
   "execution_count": 12,
   "metadata": {},
   "outputs": [
    {
     "name": "stdout",
     "output_type": "stream",
     "text": [
      "[<Candidate('Doom Eternal: The Ancient Gods - Part 2')>]\n",
      "FINAL RESULT\n",
      "Candidate                                  Votes  Status\n",
      "---------------------------------------  -------  --------\n",
      "Doom Eternal: The Ancient Gods - Part 2        7  Elected\n",
      "\n"
     ]
    }
   ],
   "source": [
    "# DLCS2020 \n",
    "\n",
    "cans = {\"Doom Eternal: The Ancient Gods - Part 2\":Candidate(\"Doom Eternal: The Ancient Gods - Part 2\")\n",
    "        }\n",
    "DLCS2020.replace(cans, inplace=True)\n",
    "\n",
    "canidates = [Candidate(\"Doom Eternal: The Ancient Gods - Part 2\")]\n",
    "ballots = []\n",
    "i=0\n",
    "while (i < len(DLCS2020)) :\n",
    "    ballots.append(Ballot(ranked_candidates=DLCS2020.iloc[i].tolist()))\n",
    "    i += 1\n",
    "\n",
    "result = prv.instant_runoff_voting(canidates,ballots)\n",
    "print(result.get_winners())\n",
    "\n",
    "print(result)"
   ]
  },
  {
   "cell_type": "markdown",
   "metadata": {},
   "source": [
    "### Best Open World Game"
   ]
  },
  {
   "cell_type": "code",
   "execution_count": 13,
   "metadata": {},
   "outputs": [
    {
     "name": "stdout",
     "output_type": "stream",
     "text": [
      "[<Candidate('Assassins Creed Valhalla')>]\n",
      "ROUND 1\n",
      "Candidate                              Votes  Status\n",
      "-----------------------------------  -------  --------\n",
      "Assassins Creed Valhalla                   3  Hopeful\n",
      "Far Cry 6                                  3  Hopeful\n",
      "NieR Replicant ver.1.22474487139...        1  Rejected\n",
      "Immortals Fenyx Rising                     0  Rejected\n",
      "\n",
      "FINAL RESULT\n",
      "Candidate                              Votes  Status\n",
      "-----------------------------------  -------  --------\n",
      "Assassins Creed Valhalla                   4  Elected\n",
      "Far Cry 6                                  3  Rejected\n",
      "NieR Replicant ver.1.22474487139...        0  Rejected\n",
      "Immortals Fenyx Rising                     0  Rejected\n",
      "\n"
     ]
    }
   ],
   "source": [
    "# OPWO2020\n",
    "\n",
    "cans = {\"NieR Replicant ver.1.22474487139...\":Candidate(\"NieR Replicant ver.1.22474487139...\"),\n",
    "        \"Assassins Creed Valhalla\":Candidate(\"Assassins Creed Valhalla\"),\n",
    "        \"Far Cry 6\":Candidate(\"Far Cry 6\"),\n",
    "        \"Immortals Fenyx Rising\":Candidate(\"Immortals Fenyx Rising\")}\n",
    "OPWO2020.replace(cans, inplace=True)\n",
    "\n",
    "canidates = [Candidate(\"NieR Replicant ver.1.22474487139...\"),Candidate(\"Assassins Creed Valhalla\"),Candidate(\"Far Cry 6\"),Candidate(\"Immortals Fenyx Rising\")]\n",
    "ballots = []\n",
    "i=0\n",
    "while (i < len(OPWO2020)) :\n",
    "    ballots.append(Ballot(ranked_candidates=OPWO2020.iloc[i].tolist()))\n",
    "    i += 1\n",
    "\n",
    "result = prv.instant_runoff_voting(canidates,ballots)\n",
    "print(result.get_winners())\n",
    "\n",
    "print(result)"
   ]
  },
  {
   "cell_type": "markdown",
   "metadata": {},
   "source": [
    "### Best Action Game"
   ]
  },
  {
   "cell_type": "code",
   "execution_count": 14,
   "metadata": {},
   "outputs": [
    {
     "name": "stdout",
     "output_type": "stream",
     "text": [
      "[<Candidate('Assassins Creed Valhalla')>]\n",
      "FINAL RESULT\n",
      "Candidate                   Votes  Status\n",
      "------------------------  -------  --------\n",
      "Assassins Creed Valhalla        4  Elected\n",
      "Resident Evil Village           2  Rejected\n",
      "It Takes Two                    1  Rejected\n",
      "Immortals Fenyx Rising          0  Rejected\n",
      "\n"
     ]
    }
   ],
   "source": [
    "# ACTI2020 \n",
    "\n",
    "cans = {\"Assassins Creed Valhalla\":Candidate(\"Assassins Creed Valhalla\"),\n",
    "        \"Immortals Fenyx Rising\":Candidate(\"Immortals Fenyx Rising\"),\n",
    "        \"It Takes Two\":Candidate(\"It Takes Two\"),\n",
    "        \"Resident Evil Village\":Candidate(\"Resident Evil Village\")}\n",
    "ACTI2020.replace(cans, inplace=True)\n",
    "\n",
    "canidates = [Candidate(\"Assassins Creed Valhalla\"),Candidate(\"Immortals Fenyx Rising\"), Candidate(\"It Takes Two\"),Candidate(\"Resident Evil Village\")]\n",
    "ballots = []\n",
    "i=0\n",
    "while (i < len(ACTI2020)) :\n",
    "    ballots.append(Ballot(ranked_candidates=ACTI2020.iloc[i].tolist()))\n",
    "    i += 1\n",
    "\n",
    "result = prv.instant_runoff_voting(canidates,ballots)\n",
    "print(result.get_winners())\n",
    "\n",
    "print(result)"
   ]
  },
  {
   "cell_type": "markdown",
   "metadata": {},
   "source": [
    "### Best Action Adventure Game"
   ]
  },
  {
   "cell_type": "code",
   "execution_count": 15,
   "metadata": {},
   "outputs": [
    {
     "name": "stdout",
     "output_type": "stream",
     "text": [
      "[<Candidate('Assassins Creed Valhalla')>]\n",
      "ROUND 1\n",
      "Candidate                   Votes  Status\n",
      "------------------------  -------  --------\n",
      "Assassins Creed Valhalla        3  Hopeful\n",
      "Resident Evil Village           2  Hopeful\n",
      "Scarlet Nexus                   1  Rejected\n",
      "It Takes Two                    1  Rejected\n",
      "Kena: Bridge of Spirits         0  Rejected\n",
      "Immortals Fenyx Rising          0  Rejected\n",
      "\n",
      "FINAL RESULT\n",
      "Candidate                   Votes  Status\n",
      "------------------------  -------  --------\n",
      "Assassins Creed Valhalla        5  Elected\n",
      "Resident Evil Village           2  Rejected\n",
      "Scarlet Nexus                   0  Rejected\n",
      "It Takes Two                    0  Rejected\n",
      "Kena: Bridge of Spirits         0  Rejected\n",
      "Immortals Fenyx Rising          0  Rejected\n",
      "\n"
     ]
    }
   ],
   "source": [
    "# ACAD2020 \n",
    "\n",
    "cans = {\"Assassins Creed Valhalla\":Candidate(\"Assassins Creed Valhalla\"),\n",
    "        \"It Takes Two\":Candidate(\"It Takes Two\"),\n",
    "        \"Immortals Fenyx Rising\":Candidate(\"Immortals Fenyx Rising\"),\n",
    "        \"Scarlet Nexus\":Candidate(\"Scarlet Nexus\"),\n",
    "        \"Kena: Bridge of Spirits\":Candidate(\"Kena: Bridge of Spirits\"),\n",
    "        \"Resident Evil Village\":Candidate(\"Resident Evil Village\")}\n",
    "ACAD2020.replace(cans, inplace=True)\n",
    "\n",
    "canidates = [Candidate(\"Assassins Creed Valhalla\"),Candidate(\"It Takes Two\"),\n",
    "            Candidate(\"Immortals Fenyx Rising\"),Candidate(\"Scarlet Nexus\"),\n",
    "            Candidate(\"Kena: Bridge of Spirits\"),Candidate(\"Resident Evil Village\")]\n",
    "ballots = []\n",
    "i=0\n",
    "while (i < len(ACAD2020)) :\n",
    "    ballots.append(Ballot(ranked_candidates=ACAD2020.iloc[i].tolist()))\n",
    "    i += 1\n",
    "\n",
    "result = prv.instant_runoff_voting(canidates,ballots)\n",
    "print(result.get_winners())\n",
    "\n",
    "print(result)"
   ]
  },
  {
   "cell_type": "markdown",
   "metadata": {},
   "source": [
    "### Best Strategy Game"
   ]
  },
  {
   "cell_type": "code",
   "execution_count": 16,
   "metadata": {},
   "outputs": [
    {
     "name": "stdout",
     "output_type": "stream",
     "text": [
      "[<Candidate('Warhammer Age of Sigmar: Storm Ground')>]\n",
      "FINAL RESULT\n",
      "Candidate                                Votes  Status\n",
      "-------------------------------------  -------  --------\n",
      "Warhammer Age of Sigmar: Storm Ground        4  Elected\n",
      "Age of Empires IV                            3  Rejected\n",
      "\n"
     ]
    }
   ],
   "source": [
    "# STRA2020 \n",
    "\n",
    "cans = {\"Age of Empires IV\":Candidate(\"Age of Empires IV\"),\n",
    "        \"Warhammer Age of Sigmar: Storm Ground\":Candidate(\"Warhammer Age of Sigmar: Storm Ground\")}\n",
    "STRA2020.replace(cans, inplace=True)\n",
    "\n",
    "canidates = [Candidate(\"Age of Empires IV\"),Candidate(\"Warhammer Age of Sigmar: Storm Ground\")]\n",
    "ballots = []\n",
    "i=0\n",
    "while (i < len(STRA2020)) :\n",
    "    ballots.append(Ballot(ranked_candidates=STRA2020.iloc[i].tolist()))\n",
    "    i += 1\n",
    "\n",
    "result = prv.instant_runoff_voting(canidates,ballots)\n",
    "print(result.get_winners())\n",
    "\n",
    "print(result)"
   ]
  },
  {
   "cell_type": "markdown",
   "metadata": {},
   "source": [
    "### Best RPG"
   ]
  },
  {
   "cell_type": "code",
   "execution_count": 17,
   "metadata": {},
   "outputs": [
    {
     "name": "stdout",
     "output_type": "stream",
     "text": [
      "[<Candidate('Assassins Creed Valhalla')>]\n",
      "FINAL RESULT\n",
      "Candidate                   Votes  Status\n",
      "------------------------  -------  --------\n",
      "Assassins Creed Valhalla        4  Elected\n",
      "Kena: Bridge of Spirits         2  Rejected\n",
      "Scarlet Nexus                   1  Rejected\n",
      "\n"
     ]
    }
   ],
   "source": [
    "# RPGS2020 \n",
    "\n",
    "cans = {\"Assassins Creed Valhalla\":Candidate(\"Assassins Creed Valhalla\"),\n",
    "        \"Kena: Bridge of Spirits\":Candidate(\"Kena: Bridge of Spirits\"),\n",
    "        \"Scarlet Nexus\":Candidate(\"Scarlet Nexus\")}\n",
    "RPGS2020.replace(cans, inplace=True)\n",
    "\n",
    "canidates = [Candidate(\"Assassins Creed Valhalla\"),Candidate(\"Kena: Bridge of Spirits\"), Candidate(\"Scarlet Nexus\")]\n",
    "ballots = []\n",
    "i=0\n",
    "while (i < len(RPGS2020)) :\n",
    "    ballots.append(Ballot(ranked_candidates=RPGS2020.iloc[i].tolist()))\n",
    "    i += 1\n",
    "\n",
    "result = prv.instant_runoff_voting(canidates,ballots)\n",
    "print(result.get_winners())\n",
    "\n",
    "print(result)"
   ]
  },
  {
   "cell_type": "markdown",
   "metadata": {},
   "source": [
    "### Best Sports Game"
   ]
  },
  {
   "cell_type": "code",
   "execution_count": 18,
   "metadata": {},
   "outputs": [
    {
     "name": "stdout",
     "output_type": "stream",
     "text": [
      "[<Candidate('Mario Golf: Super Rush')>]\n",
      "ROUND 1\n",
      "Candidate                 Votes  Status\n",
      "----------------------  -------  --------\n",
      "Mario Golf: Super Rush        3  Hopeful\n",
      "MLB: The Show 21              2  Hopeful\n",
      "FIFA 22                       2  Rejected\n",
      "F1 2021                       0  Rejected\n",
      "\n",
      "FINAL RESULT\n",
      "Candidate                 Votes  Status\n",
      "----------------------  -------  --------\n",
      "Mario Golf: Super Rush        5  Elected\n",
      "MLB: The Show 21              2  Rejected\n",
      "FIFA 22                       0  Rejected\n",
      "F1 2021                       0  Rejected\n",
      "\n"
     ]
    }
   ],
   "source": [
    "# SPOR2020 \n",
    "\n",
    "cans = {\"FIFA 22\":Candidate(\"FIFA 22\"),\n",
    "        \"MLB: The Show 21\":Candidate(\"MLB: The Show 21\"),\n",
    "        \"Mario Golf: Super Rush\":Candidate(\"Mario Golf: Super Rush\"),\n",
    "        \"F1 2021\":Candidate(\"F1 2021\")}\n",
    "SPOR2020.replace(cans, inplace=True)\n",
    "\n",
    "canidates = [Candidate(\"FIFA 22\"),Candidate(\"MLB: The Show 21\"), Candidate(\"Mario Golf: Super Rush\"),\n",
    "                Candidate(\"F1 2021\")]\n",
    "ballots = []\n",
    "i=0\n",
    "while (i < len(SPOR2020)) :\n",
    "    ballots.append(Ballot(ranked_candidates=SPOR2020.iloc[i].tolist()))\n",
    "    i += 1\n",
    "\n",
    "result = prv.instant_runoff_voting(canidates,ballots)\n",
    "print(result.get_winners())\n",
    "\n",
    "print(result)"
   ]
  },
  {
   "cell_type": "markdown",
   "metadata": {},
   "source": [
    "### Best Family/E 10+ Game"
   ]
  },
  {
   "cell_type": "code",
   "execution_count": 19,
   "metadata": {},
   "outputs": [
    {
     "name": "stdout",
     "output_type": "stream",
     "text": [
      "[<Candidate('Ratchet & Clank: Rift Apart')>]\n",
      "FINAL RESULT\n",
      "Candidate                      Votes  Status\n",
      "---------------------------  -------  --------\n",
      "Ratchet & Clank: Rift Apart        4  Elected\n",
      "Pokemon Snap                       2  Rejected\n",
      "Packman99                          1  Rejected\n",
      "\n"
     ]
    }
   ],
   "source": [
    "# FAMI2020\n",
    "\n",
    "cans = {\"Ratchet & Clank: Rift Apart\":Candidate(\"Ratchet & Clank: Rift Apart\"),\n",
    "        \"Pokemon Snap\":Candidate(\"Pokemon Snap\"),\n",
    "        \"Packman99\":Candidate(\"Packman99\")}\n",
    "FAMI2020.replace(cans, inplace=True)\n",
    "\n",
    "canidates = [Candidate(\"Ratchet & Clank: Rift Apart\"),Candidate(\"Pokemon Snap\"), Candidate(\"Packman99\")]\n",
    "ballots = []\n",
    "i=0\n",
    "while (i < len(FAMI2020)) :\n",
    "    ballots.append(Ballot(ranked_candidates=FAMI2020.iloc[i].tolist()))\n",
    "    i += 1\n",
    "\n",
    "result = prv.instant_runoff_voting(canidates,ballots)\n",
    "print(result.get_winners())\n",
    "\n",
    "print(result)"
   ]
  },
  {
   "cell_type": "markdown",
   "metadata": {},
   "source": [
    "### Best Remaster/Remake"
   ]
  },
  {
   "cell_type": "code",
   "execution_count": 20,
   "metadata": {},
   "outputs": [
    {
     "name": "stdout",
     "output_type": "stream",
     "text": [
      "[<Candidate('Mass Effect')>]\n",
      "ROUND 1\n",
      "Candidate                            Votes  Status\n",
      "---------------------------------  -------  --------\n",
      "Mass Effect                              4  Hopeful\n",
      "Kingdom Hearts                           1  Hopeful\n",
      "Nier Replicant                           1  Rejected\n",
      "The Great Ace Attorney Chronicles        1  Rejected\n",
      "\n",
      "FINAL RESULT\n",
      "Candidate                            Votes  Status\n",
      "---------------------------------  -------  --------\n",
      "Mass Effect                              5  Elected\n",
      "Kingdom Hearts                           2  Rejected\n",
      "Nier Replicant                           0  Rejected\n",
      "The Great Ace Attorney Chronicles        0  Rejected\n",
      "\n"
     ]
    }
   ],
   "source": [
    "# REMA2020 \n",
    "\n",
    "cans = {\"Nier Replicant\":Candidate(\"Nier Replicant\"),\n",
    "        \"Mass Effect\":Candidate(\"Mass Effect\"),\n",
    "        \"The Great Ace Attorney Chronicles\":Candidate(\"The Great Ace Attorney Chronicles\"),\n",
    "        \"Kingdom Hearts\":Candidate(\"Kingdom Hearts\")}\n",
    "REMA2020.replace(cans, inplace=True)\n",
    "\n",
    "canidates = [Candidate(\"Nier Replicant\"),Candidate(\"Mass Effect\"), Candidate(\"The Great Ace Attorney Chronicles\"),\n",
    "                Candidate(\"Kingdom Hearts\")]\n",
    "ballots = []\n",
    "i=0\n",
    "while (i < len(REMA2020)) :\n",
    "    ballots.append(Ballot(ranked_candidates=REMA2020.iloc[i].tolist()))\n",
    "    i += 1\n",
    "\n",
    "result = prv.instant_runoff_voting(canidates,ballots)\n",
    "print(result.get_winners())\n",
    "\n",
    "print(result)"
   ]
  },
  {
   "cell_type": "markdown",
   "metadata": {},
   "source": [
    "### Best Game Made by an Indie Studio"
   ]
  },
  {
   "cell_type": "code",
   "execution_count": 21,
   "metadata": {},
   "outputs": [
    {
     "name": "stdout",
     "output_type": "stream",
     "text": [
      "[<Candidate('Kena: Bridge of Spirits')>]\n",
      "FINAL RESULT\n",
      "Candidate                  Votes  Status\n",
      "-----------------------  -------  --------\n",
      "Kena: Bridge of Spirits        4  Elected\n",
      "Valheim                        3  Rejected\n",
      "12 Minutes                     0  Rejected\n",
      "Boyfriend Dungeon              0  Rejected\n",
      "Genesis Noir                   0  Rejected\n",
      "\n"
     ]
    }
   ],
   "source": [
    "# INDI2020 \n",
    "\n",
    "cans = {\"Kena: Bridge of Spirits\":Candidate(\"Kena: Bridge of Spirits\"),\n",
    "        \"Valheim\":Candidate(\"Valheim\"),\n",
    "        \"Boyfriend Dungeon\":Candidate(\"Boyfriend Dungeon\"),\n",
    "        \"12 Minutes\":Candidate(\"12 Minutes\"),\n",
    "        \"Genesis Noir\":Candidate(\"Genesis Noir\")}\n",
    "INDI21 = INDI2020.replace(cans)\n",
    "\n",
    "canidates = [Candidate(\"Kena: Bridge of Spirits\"),Candidate(\"Valheim\"), Candidate(\"Boyfriend Dungeon\"),\n",
    "                Candidate(\"12 Minutes\"), Candidate(\"Genesis Noir\")]\n",
    "ballots = []\n",
    "i=0\n",
    "while (i < len(INDI21)) :\n",
    "    ballots.append(Ballot(ranked_candidates=INDI21.iloc[i].tolist()))\n",
    "    i += 1\n",
    "\n",
    "result = prv.instant_runoff_voting(canidates,ballots)\n",
    "print(result.get_winners())\n",
    "\n",
    "print(result)"
   ]
  },
  {
   "cell_type": "markdown",
   "metadata": {},
   "source": [
    "### Content Creator of the Year"
   ]
  },
  {
   "cell_type": "code",
   "execution_count": 22,
   "metadata": {},
   "outputs": [
    {
     "name": "stdout",
     "output_type": "stream",
     "text": [
      "[<Candidate('Critical Role')>]\n",
      "FINAL RESULT\n",
      "Candidate        Votes  Status\n",
      "-------------  -------  --------\n",
      "Critical Role        6  Elected\n",
      "DrLupo               1  Rejected\n",
      "\n"
     ]
    }
   ],
   "source": [
    "# CONT2020 \n",
    "\n",
    "cans = {\"Critical Role\":Candidate(\"Critical Role\"), \"DrLupo\":Candidate(\"DrLupo\")}\n",
    "CONT2020.replace(cans, inplace=True)\n",
    "\n",
    "canidates = [Candidate(\"Critical Role\"), Candidate(\"DrLupo\")]\n",
    "ballots = []\n",
    "i=0\n",
    "while (i < len(CONT2020)) :\n",
    "    ballots.append(Ballot(ranked_candidates=CONT2020.iloc[i].tolist()))\n",
    "    i += 1\n",
    "\n",
    "result = prv.instant_runoff_voting(canidates,ballots)\n",
    "print(result.get_winners())\n",
    "\n",
    "print(result)"
   ]
  },
  {
   "cell_type": "markdown",
   "metadata": {},
   "source": [
    "# Point Rank Vote (And top 3 voting)"
   ]
  },
  {
   "cell_type": "markdown",
   "metadata": {},
   "source": [
    "## 3 Rank Voting"
   ]
  },
  {
   "cell_type": "markdown",
   "metadata": {},
   "source": [
    "## Point Rank Voting"
   ]
  },
  {
   "cell_type": "markdown",
   "metadata": {},
   "source": [
    "Point Rank Voting is where each choice is given a point value as follows:\n",
    " - 1st Choice = 5 Points\n",
    " - 2nd Choice = 3 Points\n",
    " - 3rd Choice = 1 Point\n"
   ]
  },
  {
   "cell_type": "code",
   "execution_count": 23,
   "metadata": {},
   "outputs": [],
   "source": [
    "# The Big 5\n",
    "GOTY = votes.iloc[:,0:3]\n",
    "PERF = votes.iloc[:,6:9]\n",
    "MUSI = votes.iloc[:,12:15]\n",
    "ARTS = votes.iloc[:,18:21]\n",
    "NARR = votes.iloc[:,24:27]\n",
    "\n",
    "# The rest\n",
    "COOP = votes.iloc[:,28:31]\n",
    "MULT = votes.iloc[:,32:35]\n",
    "ONGO = votes.iloc[:,36:39]\n",
    "DLCS = votes.iloc[:,40:41]\n",
    "OPWO = votes.iloc[:,41:44]\n",
    "ACTI = votes.iloc[:,45:48]\n",
    "ACAD = votes.iloc[:,49:52]\n",
    "STRA = votes.iloc[:,55:57]\n",
    "RPGS = votes.iloc[:,57:60]\n",
    "SPOR = votes.iloc[:,60:63]\n",
    "FAMI = votes.iloc[:,64:67]\n",
    "REMA = votes.iloc[:,67:70]\n",
    "INDI = votes.iloc[:,71:74]\n",
    "CONT = votes.iloc[:,76:78]"
   ]
  },
  {
   "cell_type": "code",
   "execution_count": 54,
   "metadata": {},
   "outputs": [],
   "source": [
    "votes1 = GOTY.iloc[:,0].values.tolist()\n",
    "votes2 = GOTY.iloc[:,1].values.tolist()\n",
    "votes3 = GOTY.iloc[:,2].values.tolist()\n"
   ]
  },
  {
   "cell_type": "code",
   "execution_count": 55,
   "metadata": {},
   "outputs": [],
   "source": [
    "cat = {\"Assassins Creed Valhalla\":0,\n",
    "        \"Life is Strange: True Colors\":0,\n",
    "        \"Immortals Fenyx Rising\":0,\n",
    "        \"Marvel's Spider Man: Miles Morales\":0,\n",
    "        \"Kena: Bridge of Spirits\":0,\n",
    "        \"Resident Evil Villiage\":0}\n",
    "\n",
    "for game in votes1:\n",
    "    cat[game] += 5\n",
    "\n",
    "for game in votes2:\n",
    "    cat[game] += 3\n",
    "\n",
    "for game in votes3:\n",
    "    cat[game] += 1\n",
    "\n",
    "GOTY2021 = pd.DataFrame.from_dict(cat, orient='index')"
   ]
  },
  {
   "cell_type": "code",
   "execution_count": 59,
   "metadata": {},
   "outputs": [
    {
     "data": {
      "text/html": [
       "<div>\n",
       "<style scoped>\n",
       "    .dataframe tbody tr th:only-of-type {\n",
       "        vertical-align: middle;\n",
       "    }\n",
       "\n",
       "    .dataframe tbody tr th {\n",
       "        vertical-align: top;\n",
       "    }\n",
       "\n",
       "    .dataframe thead th {\n",
       "        text-align: right;\n",
       "    }\n",
       "</style>\n",
       "<table border=\"1\" class=\"dataframe\">\n",
       "  <thead>\n",
       "    <tr style=\"text-align: right;\">\n",
       "      <th></th>\n",
       "      <th>0</th>\n",
       "    </tr>\n",
       "  </thead>\n",
       "  <tbody>\n",
       "    <tr>\n",
       "      <th>Life is Strange: True Colors</th>\n",
       "      <td>13</td>\n",
       "    </tr>\n",
       "    <tr>\n",
       "      <th>Kena: Bridge of Spirits</th>\n",
       "      <td>12</td>\n",
       "    </tr>\n",
       "    <tr>\n",
       "      <th>Assassins Creed Valhalla</th>\n",
       "      <td>11</td>\n",
       "    </tr>\n",
       "    <tr>\n",
       "      <th>Resident Evil Villiage</th>\n",
       "      <td>11</td>\n",
       "    </tr>\n",
       "    <tr>\n",
       "      <th>Marvel's Spider Man: Miles Morales</th>\n",
       "      <td>9</td>\n",
       "    </tr>\n",
       "    <tr>\n",
       "      <th>Immortals Fenyx Rising</th>\n",
       "      <td>7</td>\n",
       "    </tr>\n",
       "  </tbody>\n",
       "</table>\n",
       "</div>"
      ],
      "text/plain": [
       "                                     0\n",
       "Life is Strange: True Colors        13\n",
       "Kena: Bridge of Spirits             12\n",
       "Assassins Creed Valhalla            11\n",
       "Resident Evil Villiage              11\n",
       "Marvel's Spider Man: Miles Morales   9\n",
       "Immortals Fenyx Rising               7"
      ]
     },
     "execution_count": 59,
     "metadata": {},
     "output_type": "execute_result"
    }
   ],
   "source": [
    "GOTY2021.sort_values(by=0, ascending = False)"
   ]
  },
  {
   "cell_type": "code",
   "execution_count": 60,
   "metadata": {},
   "outputs": [
    {
     "name": "stdout",
     "output_type": "stream",
     "text": [
      "[<Candidate('Assassins Creed Valhalla')>]\n",
      "\n",
      "ROUND 1\n",
      "Candidate                             Votes  Status\n",
      "----------------------------------  -------  --------\n",
      "Life is Strange: True Colors              2  Hopeful\n",
      "Kena: Bridge of Spirits                   2  Hopeful\n",
      "Resident Evil Villiage                    1  Hopeful\n",
      "Assassins Creed Valhalla                  1  Hopeful\n",
      "Marvel's Spider Man: Miles Morales        1  Rejected\n",
      "Immortals Fenyx Rising                    0  Rejected\n",
      "\n",
      "ROUND 2\n",
      "Candidate                             Votes  Status\n",
      "----------------------------------  -------  --------\n",
      "Assassins Creed Valhalla                  2  Hopeful\n",
      "Kena: Bridge of Spirits                   2  Hopeful\n",
      "Life is Strange: True Colors              2  Hopeful\n",
      "Resident Evil Villiage                    1  Rejected\n",
      "Marvel's Spider Man: Miles Morales        0  Rejected\n",
      "Immortals Fenyx Rising                    0  Rejected\n",
      "\n",
      "ROUND 3\n",
      "Candidate                             Votes  Status\n",
      "----------------------------------  -------  --------\n",
      "Assassins Creed Valhalla                  3  Hopeful\n",
      "Kena: Bridge of Spirits                   2  Hopeful\n",
      "Life is Strange: True Colors              2  Rejected\n",
      "Resident Evil Villiage                    0  Rejected\n",
      "Marvel's Spider Man: Miles Morales        0  Rejected\n",
      "Immortals Fenyx Rising                    0  Rejected\n",
      "\n",
      "FINAL RESULT\n",
      "Candidate                             Votes  Status\n",
      "----------------------------------  -------  --------\n",
      "Assassins Creed Valhalla                  3  Elected\n",
      "Kena: Bridge of Spirits                   2  Rejected\n",
      "Life is Strange: True Colors              0  Rejected\n",
      "Resident Evil Villiage                    0  Rejected\n",
      "Marvel's Spider Man: Miles Morales        0  Rejected\n",
      "Immortals Fenyx Rising                    0  Rejected\n",
      "Blank votes                               2  Rejected\n",
      "\n"
     ]
    }
   ],
   "source": [
    "\n",
    "cans = {\"Assassins Creed Valhalla\":Candidate(\"Assassins Creed Valhalla\"),\n",
    "        \"Life is Strange: True Colors\":Candidate(\"Life is Strange: True Colors\"),\n",
    "        \"Immortals Fenyx Rising\":Candidate(\"Immortals Fenyx Rising\"),\n",
    "        \"Marvel's Spider Man: Miles Morales\":Candidate(\"Marvel's Spider Man: Miles Morales\"),\n",
    "        \"Kena: Bridge of Spirits\":Candidate(\"Kena: Bridge of Spirits\"),\n",
    "        \"Resident Evil Villiage\":Candidate(\"Resident Evil Villiage\")}\n",
    "GOTY = GOTY.replace(cans)\n",
    "\n",
    "canidates = [Candidate(\"Assassins Creed Valhalla\"),Candidate(\"Life is Strange: True Colors\"),Candidate(\"Immortals Fenyx Rising\"),\n",
    "            Candidate(\"Marvel's Spider Man: Miles Morales\"),Candidate(\"Kena: Bridge of Spirits\"),Candidate(\"Resident Evil Villiage\")]\n",
    "ballots = []\n",
    "i=0\n",
    "while (i < len(GOTY)) :\n",
    "    ballots.append(Ballot(ranked_candidates=GOTY.iloc[i].tolist()))\n",
    "    i += 1\n",
    "\n",
    "result = prv.instant_runoff_voting(canidates,ballots)\n",
    "print(result.get_winners())\n",
    "print()\n",
    "print(result)"
   ]
  },
  {
   "cell_type": "code",
   "execution_count": null,
   "metadata": {},
   "outputs": [],
   "source": []
  }
 ],
 "metadata": {
  "kernelspec": {
   "display_name": "Python 3",
   "language": "python",
   "name": "python3"
  },
  "language_info": {
   "codemirror_mode": {
    "name": "ipython",
    "version": 3
   },
   "file_extension": ".py",
   "mimetype": "text/x-python",
   "name": "python",
   "nbconvert_exporter": "python",
   "pygments_lexer": "ipython3",
   "version": "3.8.6"
  }
 },
 "nbformat": 4,
 "nbformat_minor": 2
}
