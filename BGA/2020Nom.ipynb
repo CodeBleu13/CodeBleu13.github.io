{
 "cells": [
  {
   "cell_type": "markdown",
   "metadata": {},
   "source": [
    "# The BGA Nominations\r\n"
   ]
  },
  {
   "cell_type": "markdown",
   "metadata": {},
   "source": [
    "## Introduction\r\n",
    "\r\n",
    "We now have the nominations csv file -> called nominations.csv -> its the full data from the Google Forms that people submitted. Step one, we are going to import pandas to manipulate the data and then read in the .csv"
   ]
  },
  {
   "cell_type": "code",
   "execution_count": 68,
   "metadata": {},
   "outputs": [],
   "source": [
    "import pandas as pd\r\n",
    "import re\r\n",
    "from re import search\r\n",
    "%matplotlib inline"
   ]
  },
  {
   "cell_type": "code",
   "execution_count": 2,
   "metadata": {},
   "outputs": [],
   "source": [
    "nominations = pd.read_csv('nominations.csv')"
   ]
  },
  {
   "cell_type": "markdown",
   "metadata": {},
   "source": [
    "Next, let's take a look at how the data looks and split things into different groups based on categories. (there should be 4 columns per category)"
   ]
  },
  {
   "cell_type": "code",
   "execution_count": 3,
   "metadata": {},
   "outputs": [
    {
     "data": {
      "text/html": "<div>\n<style scoped>\n    .dataframe tbody tr th:only-of-type {\n        vertical-align: middle;\n    }\n\n    .dataframe tbody tr th {\n        vertical-align: top;\n    }\n\n    .dataframe thead th {\n        text-align: right;\n    }\n</style>\n<table border=\"1\" class=\"dataframe\">\n  <thead>\n    <tr style=\"text-align: right;\">\n      <th></th>\n      <th>Timestamp</th>\n      <th>GOTY 1</th>\n      <th>GOTY 2</th>\n      <th>GOTY 3</th>\n      <th>GOTY 4</th>\n      <th>Performance 1</th>\n      <th>Performance 2</th>\n      <th>Performance 3</th>\n      <th>Performance 4</th>\n      <th>Music 1</th>\n      <th>...</th>\n      <th>Sports 3.1</th>\n      <th>Sports 4.1</th>\n      <th>E 1.1</th>\n      <th>E 2.1</th>\n      <th>E 3.1</th>\n      <th>E 4.1</th>\n      <th>Indie 1.1</th>\n      <th>Indie 2.1</th>\n      <th>Indie 3.1</th>\n      <th>Indie 4.1</th>\n    </tr>\n  </thead>\n  <tbody>\n    <tr>\n      <th>0</th>\n      <td>2020/11/16 1:22:00 AM EST</td>\n      <td>Star Wars Jedi Fallen Order</td>\n      <td>Hades</td>\n      <td>Streets of Rage 4</td>\n      <td>Death Stranding</td>\n      <td>Cal Kestis (Cameron Monaghan)</td>\n      <td>Darren Korb (Zagreus)</td>\n      <td>NaN</td>\n      <td>NaN</td>\n      <td>Star Wars Jedi Fallen Order</td>\n      <td>...</td>\n      <td>NaN</td>\n      <td>NaN</td>\n      <td>NaN</td>\n      <td>NaN</td>\n      <td>NaN</td>\n      <td>NaN</td>\n      <td>My Friend Pedro</td>\n      <td>Afterparty</td>\n      <td>Sally Face</td>\n      <td>Little Misfortune</td>\n    </tr>\n    <tr>\n      <th>1</th>\n      <td>2020/11/20 10:05:12 PM EST</td>\n      <td>Ori and the Will of the Wisps</td>\n      <td>Man of Medan</td>\n      <td>Phasmophobia</td>\n      <td>Animal Crossing: New Horizons</td>\n      <td>Ori</td>\n      <td>Tom Nook</td>\n      <td>Ellie</td>\n      <td>Isabelle</td>\n      <td>Ori and the Will of the Wisps</td>\n      <td>...</td>\n      <td>NaN</td>\n      <td>NaN</td>\n      <td>Super Mario Odyssey</td>\n      <td>NaN</td>\n      <td>NaN</td>\n      <td>NaN</td>\n      <td>NaN</td>\n      <td>NaN</td>\n      <td>NaN</td>\n      <td>NaN</td>\n    </tr>\n    <tr>\n      <th>2</th>\n      <td>2020/11/20 10:39:35 PM EST</td>\n      <td>Mafia: Definitive Edition</td>\n      <td>Ori and The Will of the Wisps</td>\n      <td>Animal Crossing: New Horizons</td>\n      <td>Star Wars Jedi: Fallen Order</td>\n      <td>Captain Price from Call of Duty: Modern Warfare</td>\n      <td>Tommy Angelo from Mafia: Definitive Edition</td>\n      <td>Kamala Khan from Marvel's Avengers</td>\n      <td>Bruce Banner/Hulk from Marvel's Avengers</td>\n      <td>Ori and The Will of the Wisps</td>\n      <td>...</td>\n      <td>NaN</td>\n      <td>NaN</td>\n      <td>Spyro Reignited Trilogy</td>\n      <td>Stardew Valley</td>\n      <td>Minecraft</td>\n      <td>House Flipper</td>\n      <td>House Flipper</td>\n      <td>Among Us</td>\n      <td>Devious Dungeon</td>\n      <td>Dead Cells</td>\n    </tr>\n    <tr>\n      <th>3</th>\n      <td>2020/11/25 6:19:45 PM EST</td>\n      <td>Animal Crossing</td>\n      <td>Animal Crossing</td>\n      <td>Animal Crossing</td>\n      <td>Animal Crossing</td>\n      <td>Animal Crossing</td>\n      <td>Animal Crossing</td>\n      <td>Animal Crossing</td>\n      <td>Animal Crossing</td>\n      <td>Animal Crossing</td>\n      <td>...</td>\n      <td>NaN</td>\n      <td>NaN</td>\n      <td>NaN</td>\n      <td>NaN</td>\n      <td>NaN</td>\n      <td>NaN</td>\n      <td>NaN</td>\n      <td>NaN</td>\n      <td>NaN</td>\n      <td>NaN</td>\n    </tr>\n    <tr>\n      <th>4</th>\n      <td>2020/11/26 4:37:58 AM EST</td>\n      <td>DOOM</td>\n      <td>Fall Guys</td>\n      <td>Gears Tactics</td>\n      <td>Jedi</td>\n      <td>Debra Wilson as Cere Jedi Fallen Order</td>\n      <td>Elizabeth Grullon as Trilla Jedi FO</td>\n      <td>Debra Wilson as Mikayla Dorn Gears Tactics</td>\n      <td>NaN</td>\n      <td>DOOM</td>\n      <td>...</td>\n      <td>NaN</td>\n      <td>NaN</td>\n      <td>NaN</td>\n      <td>NaN</td>\n      <td>NaN</td>\n      <td>NaN</td>\n      <td>NaN</td>\n      <td>NaN</td>\n      <td>NaN</td>\n      <td>NaN</td>\n    </tr>\n    <tr>\n      <th>5</th>\n      <td>2020/12/01 4:58:43 PM EST</td>\n      <td>Ghost of Tsushima</td>\n      <td>Star Wars Jedi: Fallen Order</td>\n      <td>Ori and the Will of the Wisps</td>\n      <td>Hades</td>\n      <td>Ellie (Last of Us 2)</td>\n      <td>Trilla Suduri (Jedi Fallen Order)</td>\n      <td>NaN</td>\n      <td>NaN</td>\n      <td>Ori and the Will of the Wisp</td>\n      <td>...</td>\n      <td>Super Smash Ultimate</td>\n      <td>Dirt Rally 2.0</td>\n      <td>Animal Crossing New Horizons</td>\n      <td>Super Mario Maker 2</td>\n      <td>Ori and The Will of Wisp</td>\n      <td>Luigi's Mansion 3</td>\n      <td>What the Golf?</td>\n      <td>Fall Guys</td>\n      <td>Untitled Goose Game</td>\n      <td>Carrion</td>\n    </tr>\n    <tr>\n      <th>6</th>\n      <td>2020/12/04 3:41:19 PM EST</td>\n      <td>Hades</td>\n      <td>Jedi: Fallen Order</td>\n      <td>The Last of Us Part 2</td>\n      <td>ori and the will of the wisps</td>\n      <td>Ellie from Last of Us</td>\n      <td>Hades from Hades</td>\n      <td>Abby from Last of Us</td>\n      <td>Cal from Jedi: Fallen Order</td>\n      <td>Hades</td>\n      <td>...</td>\n      <td>NaN</td>\n      <td>NaN</td>\n      <td>NaN</td>\n      <td>NaN</td>\n      <td>NaN</td>\n      <td>NaN</td>\n      <td>Among Us</td>\n      <td>NaN</td>\n      <td>NaN</td>\n      <td>NaN</td>\n    </tr>\n    <tr>\n      <th>7</th>\n      <td>2020/12/04 5:59:44 PM EST</td>\n      <td>final fantasy 7 remake</td>\n      <td>assassin creed Valhalla</td>\n      <td>NaN</td>\n      <td>NaN</td>\n      <td>final fantasy 7 remake</td>\n      <td>NaN</td>\n      <td>NaN</td>\n      <td>NaN</td>\n      <td>final fantasy 7 remake</td>\n      <td>...</td>\n      <td>NaN</td>\n      <td>NaN</td>\n      <td>NaN</td>\n      <td>NaN</td>\n      <td>NaN</td>\n      <td>NaN</td>\n      <td>NaN</td>\n      <td>NaN</td>\n      <td>NaN</td>\n      <td>NaN</td>\n    </tr>\n    <tr>\n      <th>8</th>\n      <td>2020/12/05 10:33:13 PM EST</td>\n      <td>Hades</td>\n      <td>AC Valhalla</td>\n      <td>NaN</td>\n      <td>NaN</td>\n      <td>NaN</td>\n      <td>NaN</td>\n      <td>NaN</td>\n      <td>NaN</td>\n      <td>NaN</td>\n      <td>...</td>\n      <td>NaN</td>\n      <td>NaN</td>\n      <td>NaN</td>\n      <td>NaN</td>\n      <td>NaN</td>\n      <td>NaN</td>\n      <td>NaN</td>\n      <td>NaN</td>\n      <td>NaN</td>\n      <td>NaN</td>\n    </tr>\n  </tbody>\n</table>\n<p>9 rows × 133 columns</p>\n</div>",
      "text/plain": "                    Timestamp                         GOTY 1  \\\n0   2020/11/16 1:22:00 AM EST    Star Wars Jedi Fallen Order   \n1  2020/11/20 10:05:12 PM EST  Ori and the Will of the Wisps   \n2  2020/11/20 10:39:35 PM EST      Mafia: Definitive Edition   \n3   2020/11/25 6:19:45 PM EST                Animal Crossing   \n4   2020/11/26 4:37:58 AM EST                           DOOM   \n5   2020/12/01 4:58:43 PM EST              Ghost of Tsushima   \n6   2020/12/04 3:41:19 PM EST                          Hades   \n7   2020/12/04 5:59:44 PM EST        final fantasy 7 remake    \n8  2020/12/05 10:33:13 PM EST                          Hades   \n\n                          GOTY 2                         GOTY 3  \\\n0                          Hades              Streets of Rage 4   \n1                   Man of Medan                   Phasmophobia   \n2  Ori and The Will of the Wisps  Animal Crossing: New Horizons   \n3                Animal Crossing                Animal Crossing   \n4                      Fall Guys                  Gears Tactics   \n5   Star Wars Jedi: Fallen Order  Ori and the Will of the Wisps   \n6             Jedi: Fallen Order          The Last of Us Part 2   \n7       assassin creed Valhalla                             NaN   \n8                    AC Valhalla                            NaN   \n\n                          GOTY 4  \\\n0                Death Stranding   \n1  Animal Crossing: New Horizons   \n2   Star Wars Jedi: Fallen Order   \n3                Animal Crossing   \n4                           Jedi   \n5                          Hades   \n6  ori and the will of the wisps   \n7                            NaN   \n8                            NaN   \n\n                                     Performance 1  \\\n0                    Cal Kestis (Cameron Monaghan)   \n1                                              Ori   \n2  Captain Price from Call of Duty: Modern Warfare   \n3                                  Animal Crossing   \n4          Debra Wilson as Cere Jedi Fallen Order    \n5                             Ellie (Last of Us 2)   \n6                            Ellie from Last of Us   \n7                           final fantasy 7 remake   \n8                                              NaN   \n\n                                 Performance 2  \\\n0                       Darren Korb (Zagreus)    \n1                                     Tom Nook   \n2  Tommy Angelo from Mafia: Definitive Edition   \n3                              Animal Crossing   \n4          Elizabeth Grullon as Trilla Jedi FO   \n5            Trilla Suduri (Jedi Fallen Order)   \n6                             Hades from Hades   \n7                                          NaN   \n8                                          NaN   \n\n                                Performance 3  \\\n0                                         NaN   \n1                                       Ellie   \n2          Kamala Khan from Marvel's Avengers   \n3                             Animal Crossing   \n4  Debra Wilson as Mikayla Dorn Gears Tactics   \n5                                         NaN   \n6                        Abby from Last of Us   \n7                                         NaN   \n8                                         NaN   \n\n                              Performance 4                        Music 1  \\\n0                                       NaN    Star Wars Jedi Fallen Order   \n1                                  Isabelle  Ori and the Will of the Wisps   \n2  Bruce Banner/Hulk from Marvel's Avengers  Ori and The Will of the Wisps   \n3                           Animal Crossing                Animal Crossing   \n4                                       NaN                           DOOM   \n5                                       NaN   Ori and the Will of the Wisp   \n6               Cal from Jedi: Fallen Order                          Hades   \n7                                       NaN        final fantasy 7 remake    \n8                                       NaN                            NaN   \n\n   ...            Sports 3.1      Sports 4.1                         E 1.1  \\\n0  ...                   NaN             NaN                           NaN   \n1  ...                   NaN             NaN           Super Mario Odyssey   \n2  ...                   NaN             NaN       Spyro Reignited Trilogy   \n3  ...                   NaN             NaN                           NaN   \n4  ...                   NaN             NaN                           NaN   \n5  ...  Super Smash Ultimate  Dirt Rally 2.0  Animal Crossing New Horizons   \n6  ...                   NaN             NaN                           NaN   \n7  ...                   NaN             NaN                           NaN   \n8  ...                   NaN             NaN                           NaN   \n\n                 E 2.1                     E 3.1              E 4.1  \\\n0                  NaN                       NaN                NaN   \n1                  NaN                       NaN                NaN   \n2       Stardew Valley                 Minecraft      House Flipper   \n3                  NaN                       NaN                NaN   \n4                  NaN                       NaN                NaN   \n5  Super Mario Maker 2  Ori and The Will of Wisp  Luigi's Mansion 3   \n6                  NaN                       NaN                NaN   \n7                  NaN                       NaN                NaN   \n8                  NaN                       NaN                NaN   \n\n         Indie 1.1   Indie 2.1            Indie 3.1          Indie 4.1  \n0  My Friend Pedro  Afterparty           Sally Face  Little Misfortune  \n1              NaN         NaN                  NaN                NaN  \n2    House Flipper    Among Us      Devious Dungeon         Dead Cells  \n3              NaN         NaN                  NaN                NaN  \n4              NaN         NaN                  NaN                NaN  \n5   What the Golf?   Fall Guys  Untitled Goose Game            Carrion  \n6         Among Us         NaN                  NaN                NaN  \n7              NaN         NaN                  NaN                NaN  \n8              NaN         NaN                  NaN                NaN  \n\n[9 rows x 133 columns]"
     },
     "execution_count": 3,
     "metadata": {},
     "output_type": "execute_result"
    }
   ],
   "source": [
    "len(nominations)\r\n",
    "nominations.head(9)"
   ]
  },
  {
   "cell_type": "markdown",
   "metadata": {},
   "source": [
    "from this we actually see we have some bad data, so we need to get rid of that row"
   ]
  },
  {
   "cell_type": "code",
   "execution_count": 4,
   "metadata": {},
   "outputs": [
    {
     "data": {
      "text/plain": "Timestamp    2020/11/25 6:19:45 PM EST\nGOTY 1                 Animal Crossing\nGOTY 2                 Animal Crossing\nGOTY 3                 Animal Crossing\nGOTY 4                 Animal Crossing\n                       ...            \nE 4.1                              NaN\nIndie 1.1                          NaN\nIndie 2.1                          NaN\nIndie 3.1                          NaN\nIndie 4.1                          NaN\nName: 3, Length: 133, dtype: object"
     },
     "execution_count": 4,
     "metadata": {},
     "output_type": "execute_result"
    }
   ],
   "source": [
    "nominations.iloc[3,:] #need to remove this row and just leave one entry for Animial Crossing for GOTY....."
   ]
  },
  {
   "cell_type": "code",
   "execution_count": 5,
   "metadata": {},
   "outputs": [],
   "source": [
    "nominations.drop(3, inplace = True)"
   ]
  },
  {
   "cell_type": "markdown",
   "metadata": {},
   "source": [
    "Now I can continue with converting this large data table into more usefull smaller ones"
   ]
  },
  {
   "cell_type": "code",
   "execution_count": 6,
   "metadata": {},
   "outputs": [],
   "source": [
    "nominations.drop('Timestamp', axis = 1, inplace = True)\r\n",
    "\r\n",
    "#current year\r\n",
    "CnomGOTY = nominations.iloc[:,0:4]\r\n",
    "CnomPerf = nominations.iloc[:,4:8]\r\n",
    "CnomMusi = nominations.iloc[:,8:12]\r\n",
    "CnomArt = nominations.iloc[:,12:16]\r\n",
    "CnomNar = nominations.iloc[:,16:20]\r\n",
    "CnomCoop = nominations.iloc[:,20:24]\r\n",
    "CnomPvp = nominations.iloc[:,24:28]\r\n",
    "CnomOngo = nominations.iloc[:,28:32]\r\n",
    "CnomDLC = nominations.iloc[:,32:36]\r\n",
    "CnomOW = nominations.iloc[:,36:40]\r\n",
    "CnomAct = nominations.iloc[:,40:44]\r\n",
    "CnomAA = nominations.iloc[:,44:48]\r\n",
    "CnomStra = nominations.iloc[:,48:52]\r\n",
    "CnomRPG = nominations.iloc[:,52:56]\r\n",
    "CnomSpor = nominations.iloc[:,56:60]\r\n",
    "CnomFam = nominations.iloc[:,60:64]\r\n",
    "CnomRe = nominations.iloc[:,64:68]\r\n",
    "CnomIndi = nominations.iloc[:,68:72]\r\n",
    "CnomCont = nominations.iloc[:,72:76]\r\n",
    "#backlog\r\n",
    "QnomGOTY = nominations.iloc[:,76:80]\r\n",
    "QnomPerf = nominations.iloc[:,80:84]\r\n",
    "QnomMusi = nominations.iloc[:,84:88]\r\n",
    "QnomArt = nominations.iloc[:,88:92]\r\n",
    "QnomNar = nominations.iloc[:,92:96]\r\n",
    "QnomCoop = nominations.iloc[:,96:100]\r\n",
    "QnomOW = nominations.iloc[:,100:104]\r\n",
    "QnomAct = nominations.iloc[:,104:108]\r\n",
    "QnomAA = nominations.iloc[:,108:112]\r\n",
    "QnomStra = nominations.iloc[:,112:116]\r\n",
    "QnomRPG = nominations.iloc[:,116:120]\r\n",
    "QnomSpor = nominations.iloc[:,120:124]\r\n",
    "QnomFam = nominations.iloc[:,124:128]\r\n",
    "QnomIndi = nominations.iloc[:,128:132]\r\n"
   ]
  },
  {
   "cell_type": "markdown",
   "metadata": {},
   "source": [
    "Now we can start working all of the extra columns into one column for each category. I'm going to create a function to handle this to make things simple:"
   ]
  },
  {
   "cell_type": "code",
   "execution_count": 7,
   "metadata": {},
   "outputs": [],
   "source": [
    "def singler(nom_chunk, colname):\r\n",
    "    old1 = colname + ' 1'\r\n",
    "    old2 = colname + ' 2'\r\n",
    "    old3 = colname + ' 3'\r\n",
    "    old4 = colname + ' 4'\r\n",
    "\r\n",
    "    try:\r\n",
    "        t1 = nom_chunk[old1]\r\n",
    "        t2 = nom_chunk[old2]\r\n",
    "        t3 = nom_chunk[old3]\r\n",
    "        t4 = nom_chunk[old4]\r\n",
    "    except:\r\n",
    "        old1 = colname + ' 1.1'\r\n",
    "        old2 = colname + ' 2.1'\r\n",
    "        old3 = colname + ' 3.1'\r\n",
    "        old4 = colname + ' 4.1'\r\n",
    "        t1 = nom_chunk[old1]\r\n",
    "        t2 = nom_chunk[old2]\r\n",
    "        t3 = nom_chunk[old3]\r\n",
    "        t4 = nom_chunk[old4]\r\n",
    "        \r\n",
    "\r\n",
    "    t1 = pd.DataFrame(t1)\r\n",
    "    t2 = pd.DataFrame(t2)\r\n",
    "    t3 = pd.DataFrame(t3)\r\n",
    "    t4 = pd.DataFrame(t4)\r\n",
    "    t1.rename({old1:colname},axis = 'columns', inplace = True)\r\n",
    "    t2.rename({old2:colname},axis = 'columns', inplace = True)\r\n",
    "    t3.rename({old3:colname},axis = 'columns', inplace = True)\r\n",
    "    t4.rename({old4:colname},axis = 'columns', inplace = True)\r\n",
    "\r\n",
    "    temp = pd.concat([t1,t2,t3,t4], ignore_index=True, sort = False)\r\n",
    "    temp = temp[colname].str.lower()\r\n",
    "    temp = temp.str.replace(':','')\r\n",
    "    temp = pd.DataFrame(temp)\r\n",
    "    return temp"
   ]
  },
  {
   "cell_type": "markdown",
   "metadata": {},
   "source": [
    "Now we can run all of the mini tables into the function and get out a full list of games in a single column. However, since this will have nan values (which we don't want), we'll just drop them, and move on from there!"
   ]
  },
  {
   "cell_type": "code",
   "execution_count": 64,
   "metadata": {},
   "outputs": [],
   "source": [
    "CGOTY = singler(CnomGOTY, 'GOTY').dropna()\r\n",
    "CPerf = singler(CnomPerf, 'Performance').dropna()\r\n",
    "CMusi = singler(CnomMusi, 'Music').dropna()\r\n",
    "CArt = singler(CnomArt, 'Art').dropna()\r\n",
    "CNar = singler(CnomNar, 'Narrative').dropna()\r\n",
    "CCoop = singler(CnomCoop, 'Co-op').dropna()\r\n",
    "CPVP = singler(CnomPvp, 'Multi').dropna()\r\n",
    "COngo = singler(CnomOngo, 'Ongoing').dropna()\r\n",
    "CDLC = singler(CnomDLC, 'DLC').dropna()\r\n",
    "COW = singler(CnomOW, 'OW').dropna()\r\n",
    "CAct = singler(CnomAct, 'Action').dropna()\r\n",
    "CAA = singler(CnomAA, 'AA').dropna()\r\n",
    "CStra = singler(CnomStra, 'Strategy').dropna()\r\n",
    "CRPG = singler(CnomRPG, 'RPG').dropna()\r\n",
    "CSpor = singler(CnomSpor, 'Sports').dropna()\r\n",
    "CFam = singler(CnomFam, 'E').dropna()\r\n",
    "CRe = singler(CnomRe, 'Re').dropna()\r\n",
    "CIndi = singler(CnomIndi, 'Indie').dropna()\r\n",
    "CCont = singler(CnomCont, 'Creator').dropna()\r\n",
    "#backlog\r\n",
    "QGOTY = singler(QnomGOTY, 'GOTY').dropna()\r\n",
    "QPerf = singler(QnomPerf, 'Performance').dropna()\r\n",
    "QMusi = singler(QnomMusi, 'Music').dropna()\r\n",
    "QArt = singler(QnomArt, 'Art').dropna()\r\n",
    "QNar = singler(QnomNar, 'Narrative').dropna()\r\n",
    "QCoop = singler(QnomCoop, 'Co-op').dropna()\r\n",
    "QOW = singler(QnomOW, 'OW').dropna()\r\n",
    "QAct = singler(QnomAct, 'Action').dropna()\r\n",
    "QAA = singler(QnomAA, 'AA').dropna()\r\n",
    "QStra = singler(QnomStra, 'Strategy').dropna()\r\n",
    "QRPG = singler(QnomRPG, 'RPG').dropna()\r\n",
    "QSpor = singler(QnomSpor, 'Sports').dropna()\r\n",
    "QFam = singler(QnomFam, 'E').dropna()\r\n",
    "QIndi = singler(QnomIndi, 'Indie').dropna()\r\n",
    "\r\n"
   ]
  },
  {
   "cell_type": "markdown",
   "metadata": {},
   "source": [
    "Now that we have all these tables, we need to simplify and find similar games/characters/etc, so here we have another function to simplify the titles (and for some categories, we'll have to look at all the entries to do this -> we have to supervise this process so that it actually goes the correct way...)"
   ]
  },
  {
   "cell_type": "code",
   "execution_count": 89,
   "metadata": {},
   "outputs": [],
   "source": [
    "def simplify(text, game_dict):\r\n",
    "    fkw = ''\r\n",
    "    found = False\r\n",
    "    for kw in game_dict:\r\n",
    "        if kw in text:\r\n",
    "            found = True\r\n",
    "            break\r\n",
    "        else:\r\n",
    "            found = False\r\n",
    "    if found:\r\n",
    "        return game_dict[kw]\r\n",
    "    else:\r\n",
    "        return text"
   ]
  },
  {
   "cell_type": "markdown",
   "metadata": {},
   "source": [
    "Now that we have this, everything is much simpler! We just need to make occasional dictionaries where we have multiples of names not in the same format!\r\n",
    "We can basically just group and count, then apply this function as needed! So, without further ado, here are the nominees for the awards!\r\n",
    "\r\n",
    "---"
   ]
  },
  {
   "cell_type": "markdown",
   "metadata": {},
   "source": [
    "## Game of the Year 2020"
   ]
  },
  {
   "cell_type": "code",
   "execution_count": 97,
   "metadata": {},
   "outputs": [
    {
     "data": {
      "text/html": "<div>\n<style scoped>\n    .dataframe tbody tr th:only-of-type {\n        vertical-align: middle;\n    }\n\n    .dataframe tbody tr th {\n        vertical-align: top;\n    }\n\n    .dataframe thead th {\n        text-align: right;\n    }\n</style>\n<table border=\"1\" class=\"dataframe\">\n  <thead>\n    <tr style=\"text-align: right;\">\n      <th></th>\n      <th>nominations</th>\n    </tr>\n    <tr>\n      <th>GOTY</th>\n      <th></th>\n    </tr>\n  </thead>\n  <tbody>\n    <tr>\n      <th>star wars jedi fallen order</th>\n      <td>5</td>\n    </tr>\n    <tr>\n      <th>hades</th>\n      <td>4</td>\n    </tr>\n    <tr>\n      <th>ori and the will of the wisps</th>\n      <td>4</td>\n    </tr>\n    <tr>\n      <th>animal crossing new horizons</th>\n      <td>2</td>\n    </tr>\n    <tr>\n      <th>assassins creed valhalla</th>\n      <td>2</td>\n    </tr>\n    <tr>\n      <th>death stranding</th>\n      <td>1</td>\n    </tr>\n    <tr>\n      <th>doom</th>\n      <td>1</td>\n    </tr>\n    <tr>\n      <th>fall guys</th>\n      <td>1</td>\n    </tr>\n    <tr>\n      <th>final fantasy 7 remake</th>\n      <td>1</td>\n    </tr>\n    <tr>\n      <th>gears tactics</th>\n      <td>1</td>\n    </tr>\n    <tr>\n      <th>ghost of tsushima</th>\n      <td>1</td>\n    </tr>\n    <tr>\n      <th>mafia definitive edition</th>\n      <td>1</td>\n    </tr>\n    <tr>\n      <th>man of medan</th>\n      <td>1</td>\n    </tr>\n    <tr>\n      <th>phasmophobia</th>\n      <td>1</td>\n    </tr>\n    <tr>\n      <th>streets of rage 4</th>\n      <td>1</td>\n    </tr>\n    <tr>\n      <th>the last of us part 2</th>\n      <td>1</td>\n    </tr>\n  </tbody>\n</table>\n</div>",
      "text/plain": "                               nominations\nGOTY                                      \nstar wars jedi fallen order              5\nhades                                    4\nori and the will of the wisps            4\nanimal crossing new horizons             2\nassassins creed valhalla                 2\ndeath stranding                          1\ndoom                                     1\nfall guys                                1\nfinal fantasy 7 remake                   1\ngears tactics                            1\nghost of tsushima                        1\nmafia definitive edition                 1\nman of medan                             1\nphasmophobia                             1\nstreets of rage 4                        1\nthe last of us part 2                    1"
     },
     "execution_count": 97,
     "metadata": {},
     "output_type": "execute_result"
    }
   ],
   "source": [
    "CG = pd.DataFrame(CGOTY.copy())\r\n",
    "\r\n",
    "gameDic = {'valhalla':'assassins creed valhalla',\r\n",
    "            'new horizons':'animal crossing new horizons',\r\n",
    "            'animal crossing':'animal crossing new horizons',\r\n",
    "            'jedi':'star wars jedi fallen order',\r\n",
    "            'fallen order':'star wars jedi fallen order'}\r\n",
    "\r\n",
    "\r\n",
    "CG['GOTY'] = CG['GOTY'].apply(simplify,args = (gameDic,))\r\n",
    "CG = pd.DataFrame(CG)\r\n",
    "\r\n",
    "CGOTY1 = CG.groupby(['GOTY']).size()\r\n",
    "CGOTY1 = pd.DataFrame(CGOTY1)\r\n",
    "CGOTY1.rename({0:'nominations'},axis = 'columns', inplace = True)\r\n",
    "CGOTY1.sort_values(by=['nominations'], ascending = False)\r\n",
    "#CGOTY1.reset_index()"
   ]
  },
  {
   "cell_type": "markdown",
   "metadata": {},
   "source": [
    "so our top entries are:"
   ]
  },
  {
   "cell_type": "code",
   "execution_count": 92,
   "metadata": {},
   "outputs": [
    {
     "data": {
      "text/html": "<div>\n<style scoped>\n    .dataframe tbody tr th:only-of-type {\n        vertical-align: middle;\n    }\n\n    .dataframe tbody tr th {\n        vertical-align: top;\n    }\n\n    .dataframe thead th {\n        text-align: right;\n    }\n</style>\n<table border=\"1\" class=\"dataframe\">\n  <thead>\n    <tr style=\"text-align: right;\">\n      <th></th>\n      <th>nominations</th>\n    </tr>\n    <tr>\n      <th>GOTY</th>\n      <th></th>\n    </tr>\n  </thead>\n  <tbody>\n    <tr>\n      <th>star wars jedi fallen order</th>\n      <td>5</td>\n    </tr>\n    <tr>\n      <th>hades</th>\n      <td>4</td>\n    </tr>\n    <tr>\n      <th>ori and the will of the wisps</th>\n      <td>4</td>\n    </tr>\n    <tr>\n      <th>animal crossing new horizons</th>\n      <td>2</td>\n    </tr>\n    <tr>\n      <th>assassins creed valhalla</th>\n      <td>2</td>\n    </tr>\n  </tbody>\n</table>\n</div>",
      "text/plain": "                               nominations\nGOTY                                      \nstar wars jedi fallen order              5\nhades                                    4\nori and the will of the wisps            4\nanimal crossing new horizons             2\nassassins creed valhalla                 2"
     },
     "execution_count": 92,
     "metadata": {},
     "output_type": "execute_result"
    }
   ],
   "source": [
    "CGOTY1.sort_values(by=['nominations'], ascending = False).head(5)"
   ]
  },
  {
   "cell_type": "markdown",
   "metadata": {},
   "source": [
    "Assassins Creed Valhalla is actually disqualified becuase it doesn't qualify; Valhalla should be on the 2021 GOTY, not the 2020, as it released November 10th, 2020.\r\n",
    "\r\n",
    "Basically, now we have to tiebreak 2 of the games that tied with just 1 vote to make the final 6. To Metacritic!\r\n",
    "\r\n",
    "| Game | score |\r\n",
    "|------|-------|\r\n",
    "| death stranding | 86 |\r\n",
    "| doom eternal | 88 |\r\n",
    "| fall guys | 81 |\r\n",
    "| Final Fantasy 7 | 87 |\r\n",
    "| gears tactics | 82 |\r\n",
    "| ghost of tsushima | 83 |\r\n",
    "| mafia definitive | 79 |\r\n",
    "| man of medan | 75 |\r\n",
    "| phasmaphobia | nan |\r\n",
    "| streets of rage | 82 |\r\n",
    "| last of us part 2 | 93 |\r\n",
    "\r\n",
    "based on this list, Doom Eternal and Last of Us Part 2 join the GOTY contenders\r\n",
    " - Star Wars Jedi: Fallen Order\r\n",
    " - Hades\r\n",
    " - Ori and the Will of the Wisps\r\n",
    " - Animal Crossing New Horizons\r\n",
    " - The Last of Us Part 2\r\n",
    " - Doom Eternal\r\n",
    "\r\n",
    "\r\n",
    "---"
   ]
  },
  {
   "cell_type": "markdown",
   "metadata": {},
   "source": [
    "## Performance of the Year 2020 "
   ]
  },
  {
   "cell_type": "code",
   "execution_count": 102,
   "metadata": {},
   "outputs": [
    {
     "data": {
      "text/html": "<div>\n<style scoped>\n    .dataframe tbody tr th:only-of-type {\n        vertical-align: middle;\n    }\n\n    .dataframe tbody tr th {\n        vertical-align: top;\n    }\n\n    .dataframe thead th {\n        text-align: right;\n    }\n</style>\n<table border=\"1\" class=\"dataframe\">\n  <thead>\n    <tr style=\"text-align: right;\">\n      <th></th>\n      <th>nominations</th>\n    </tr>\n    <tr>\n      <th>Performance</th>\n      <th></th>\n    </tr>\n  </thead>\n  <tbody>\n    <tr>\n      <th>ashley johnson as ellie from the last of us part 2</th>\n      <td>3</td>\n    </tr>\n    <tr>\n      <th>cameron monaghan as cal kestis from star wars jedi fallen order</th>\n      <td>2</td>\n    </tr>\n    <tr>\n      <th>elizabeth grullon as trilla from star wars jedi fallen order</th>\n      <td>2</td>\n    </tr>\n    <tr>\n      <th>andrew bongiorno as tommy angelo from mafia definitive edition</th>\n      <td>1</td>\n    </tr>\n    <tr>\n      <th>andrew lackey as ori from ori and the will of the wisps (hopefully)</th>\n      <td>1</td>\n    </tr>\n    <tr>\n      <th>barry sloan as captain price from modern warfare</th>\n      <td>1</td>\n    </tr>\n    <tr>\n      <th>darren korb as zagreus from hades</th>\n      <td>1</td>\n    </tr>\n    <tr>\n      <th>debra wilson as cere from star wars jedi fallen order</th>\n      <td>1</td>\n    </tr>\n    <tr>\n      <th>debra wilson as mikayla dorn from gears tactics</th>\n      <td>1</td>\n    </tr>\n    <tr>\n      <th>final fantasy 7 remake</th>\n      <td>1</td>\n    </tr>\n    <tr>\n      <th>isabelle as isabelle from animal crossing new horizons</th>\n      <td>1</td>\n    </tr>\n    <tr>\n      <th>laura bailey as abby anderson from the last of us part 2</th>\n      <td>1</td>\n    </tr>\n    <tr>\n      <th>logan cunningham as lord hades from hades</th>\n      <td>1</td>\n    </tr>\n    <tr>\n      <th>sandra saad as kamala khan in marvels avengers</th>\n      <td>1</td>\n    </tr>\n    <tr>\n      <th>tom nook as tom nook from animal crossing new horizons</th>\n      <td>1</td>\n    </tr>\n    <tr>\n      <th>troy baker as bruce banner from marvels avengers</th>\n      <td>1</td>\n    </tr>\n  </tbody>\n</table>\n</div>",
      "text/plain": "                                                    nominations\nPerformance                                                    \nashley johnson as ellie from the last of us part 2            3\ncameron monaghan as cal kestis from star wars j...            2\nelizabeth grullon as trilla from star wars jedi...            2\nandrew bongiorno as tommy angelo from mafia def...            1\nandrew lackey as ori from ori and the will of t...            1\nbarry sloan as captain price from modern warfare              1\ndarren korb as zagreus from hades                             1\ndebra wilson as cere from star wars jedi fallen...            1\ndebra wilson as mikayla dorn from gears tactics               1\nfinal fantasy 7 remake                                        1\nisabelle as isabelle from animal crossing new h...            1\nlaura bailey as abby anderson from the last of ...            1\nlogan cunningham as lord hades from hades                     1\nsandra saad as kamala khan in marvels avengers                1\ntom nook as tom nook from animal crossing new h...            1\ntroy baker as bruce banner from marvels avengers              1"
     },
     "execution_count": 102,
     "metadata": {},
     "output_type": "execute_result"
    }
   ],
   "source": [
    "CP = pd.DataFrame(CPerf.copy())\r\n",
    "\r\n",
    "perfDic = {'abby':'laura bailey as abby anderson from the last of us part 2',\r\n",
    "            'ellie':'ashley johnson as ellie from the last of us part 2',\r\n",
    "            'bruce banner':'troy baker as bruce banner from marvels avengers',\r\n",
    "            'tommy angelo':'andrew bongiorno as tommy angelo from mafia definitive edition',\r\n",
    "            'tom nook':'tom nook as tom nook from animal crossing new horizons',\r\n",
    "            'ori':'andrew lackey as ori from ori and the will of the wisps (hopefully)',\r\n",
    "            'kamala khan':'sandra saad as kamala khan in marvels avengers',\r\n",
    "            'isabelle':'isabelle as isabelle from animal crossing new horizons',\r\n",
    "            'trilla':'elizabeth grullon as trilla from star wars jedi fallen order',\r\n",
    "            'mikayla':'debra wilson as mikayla dorn from gears tactics',\r\n",
    "            'cere':'debra wilson as cere from star wars jedi fallen order',\r\n",
    "            'zagreus':'darren korb as zagreus from hades',\r\n",
    "            'captain price':'barry sloan as captain price from modern warfare',\r\n",
    "            'cal':'cameron monaghan as cal kestis from star wars jedi fallen order',\r\n",
    "            'hades':'logan cunningham as lord hades from hades'}\r\n",
    "\r\n",
    "\r\n",
    "CP['Performance'] = CP['Performance'].apply(simplify,args = (perfDic,))\r\n",
    "CP = pd.DataFrame(CP)\r\n",
    "\r\n",
    "CP = CP.groupby(['Performance']).size()\r\n",
    "CP = pd.DataFrame(CP)\r\n",
    "CP.rename({0:'nominations'},axis = 'columns', inplace = True)\r\n",
    "CP.sort_values(by=['nominations'], ascending = False)\r\n",
    "#CGOTY1.reset_index()"
   ]
  },
  {
   "cell_type": "markdown",
   "metadata": {},
   "source": [
    "For this section, there isn't a good way to d a tiebreaker for all of the characters with only one vote. Thus, only the top 3 will be contenders!\r\n",
    "\r\n",
    "The contenders for Best Performance are:\r\n",
    " - Ashley Johnson as Ellie from The Last of Us Part 2\r\n",
    " - Cameron monaghan as Cal Kestis from Star Wars Jedi: Fallen Order\r\n",
    " - Elizabeth Grullon as Trilla from Star Wars Jedi: Fallen Order\r\n",
    "\r\n",
    "---"
   ]
  },
  {
   "cell_type": "markdown",
   "metadata": {},
   "source": [
    "## Best Music of the Year 2020\r\n"
   ]
  },
  {
   "cell_type": "code",
   "execution_count": 101,
   "metadata": {},
   "outputs": [
    {
     "data": {
      "text/html": "<div>\n<style scoped>\n    .dataframe tbody tr th:only-of-type {\n        vertical-align: middle;\n    }\n\n    .dataframe tbody tr th {\n        vertical-align: top;\n    }\n\n    .dataframe thead th {\n        text-align: right;\n    }\n</style>\n<table border=\"1\" class=\"dataframe\">\n  <thead>\n    <tr style=\"text-align: right;\">\n      <th></th>\n      <th>nominations</th>\n    </tr>\n    <tr>\n      <th>Music</th>\n      <th></th>\n    </tr>\n  </thead>\n  <tbody>\n    <tr>\n      <th>hades</th>\n      <td>3</td>\n    </tr>\n    <tr>\n      <th>ori and the will of the wisps</th>\n      <td>3</td>\n    </tr>\n    <tr>\n      <th>pokemon sword/shield</th>\n      <td>2</td>\n    </tr>\n    <tr>\n      <th>star wars jedi fallen order</th>\n      <td>2</td>\n    </tr>\n    <tr>\n      <th>animal crossing new horizons</th>\n      <td>1</td>\n    </tr>\n    <tr>\n      <th>call of duty modern warfare</th>\n      <td>1</td>\n    </tr>\n    <tr>\n      <th>death stranding</th>\n      <td>1</td>\n    </tr>\n    <tr>\n      <th>doom</th>\n      <td>1</td>\n    </tr>\n    <tr>\n      <th>final fantasy 7 remake</th>\n      <td>1</td>\n    </tr>\n    <tr>\n      <th>marvel's avengers</th>\n      <td>1</td>\n    </tr>\n    <tr>\n      <th>ori and the will of the wisp</th>\n      <td>1</td>\n    </tr>\n    <tr>\n      <th>streets of rage 4</th>\n      <td>1</td>\n    </tr>\n    <tr>\n      <th>vanquish</th>\n      <td>1</td>\n    </tr>\n  </tbody>\n</table>\n</div>",
      "text/plain": "                               nominations\nMusic                                     \nhades                                    3\nori and the will of the wisps            3\npokemon sword/shield                     2\nstar wars jedi fallen order              2\nanimal crossing new horizons             1\ncall of duty modern warfare              1\ndeath stranding                          1\ndoom                                     1\nfinal fantasy 7 remake                   1\nmarvel's avengers                        1\nori and the will of the wisp             1\nstreets of rage 4                        1\nvanquish                                 1"
     },
     "execution_count": 101,
     "metadata": {},
     "output_type": "execute_result"
    }
   ],
   "source": [
    "CM = pd.DataFrame(CMusi.copy())\r\n",
    "\r\n",
    "gameDic = {'valhalla':'assassins creed valhalla',\r\n",
    "            'new horizons':'animal crossing new horizons',\r\n",
    "            'animal crossing':'animal crossing new horizons',\r\n",
    "            'jedi':'star wars jedi fallen order',\r\n",
    "            'fallen order':'star wars jedi fallen order',\r\n",
    "            'pokemon':'pokemon sword/shield'}\r\n",
    "\r\n",
    "\r\n",
    "CM['Music'] = CM['Music'].apply(simplify,args = (gameDic,))\r\n",
    "CM = pd.DataFrame(CM)\r\n",
    "\r\n",
    "CM = CM.groupby(['Music']).size()\r\n",
    "CM = pd.DataFrame(CM)\r\n",
    "CM.rename({0:'nominations'},axis = 'columns', inplace = True)\r\n",
    "CM.sort_values(by=['nominations'], ascending = False)"
   ]
  },
  {
   "cell_type": "markdown",
   "metadata": {},
   "source": [
    "Similar to the last section, its not quite possible to convert something like the metacritic score to tiebreak all of the games tied at one nomination for this section. As such, only the games with multiple nominations will be contenders for this award.\r\n",
    "\r\n",
    "The Best Music of the Year contenders are:\r\n",
    " - Hades\r\n",
    " - Ori and the Will of the Wisps\r\n",
    " - Pokemon Sword/Shield\r\n",
    " - Star Wars Jedi: Fallen Order\r\n",
    "\r\n",
    "\r\n",
    "---"
   ]
  },
  {
   "cell_type": "markdown",
   "metadata": {},
   "source": [
    "## Best Art Direction 2020"
   ]
  },
  {
   "cell_type": "code",
   "execution_count": 106,
   "metadata": {},
   "outputs": [
    {
     "data": {
      "text/html": "<div>\n<style scoped>\n    .dataframe tbody tr th:only-of-type {\n        vertical-align: middle;\n    }\n\n    .dataframe tbody tr th {\n        vertical-align: top;\n    }\n\n    .dataframe thead th {\n        text-align: right;\n    }\n</style>\n<table border=\"1\" class=\"dataframe\">\n  <thead>\n    <tr style=\"text-align: right;\">\n      <th></th>\n      <th>nominations</th>\n    </tr>\n    <tr>\n      <th>Art</th>\n      <th></th>\n    </tr>\n  </thead>\n  <tbody>\n    <tr>\n      <th>hades</th>\n      <td>4</td>\n    </tr>\n    <tr>\n      <th>star wars jedi fallen order</th>\n      <td>4</td>\n    </tr>\n    <tr>\n      <th>ori and the will of the wisps</th>\n      <td>3</td>\n    </tr>\n    <tr>\n      <th>ghost of tsushima</th>\n      <td>2</td>\n    </tr>\n    <tr>\n      <th>death stranding</th>\n      <td>1</td>\n    </tr>\n    <tr>\n      <th>demon souls</th>\n      <td>1</td>\n    </tr>\n    <tr>\n      <th>doom</th>\n      <td>1</td>\n    </tr>\n    <tr>\n      <th>fall guys</th>\n      <td>1</td>\n    </tr>\n    <tr>\n      <th>final fantasy vii</th>\n      <td>1</td>\n    </tr>\n    <tr>\n      <th>maneater</th>\n      <td>1</td>\n    </tr>\n    <tr>\n      <th>marvel's avengers</th>\n      <td>1</td>\n    </tr>\n    <tr>\n      <th>ori and the will of the wisp</th>\n      <td>1</td>\n    </tr>\n    <tr>\n      <th>spiritfarer</th>\n      <td>1</td>\n    </tr>\n    <tr>\n      <th>streets of rage 4</th>\n      <td>1</td>\n    </tr>\n  </tbody>\n</table>\n</div>",
      "text/plain": "                               nominations\nArt                                       \nhades                                    4\nstar wars jedi fallen order              4\nori and the will of the wisps            3\nghost of tsushima                        2\ndeath stranding                          1\ndemon souls                              1\ndoom                                     1\nfall guys                                1\nfinal fantasy vii                        1\nmaneater                                 1\nmarvel's avengers                        1\nori and the will of the wisp             1\nspiritfarer                              1\nstreets of rage 4                        1"
     },
     "execution_count": 106,
     "metadata": {},
     "output_type": "execute_result"
    }
   ],
   "source": [
    "CA = pd.DataFrame(CArt.copy())\r\n",
    "\r\n",
    "gameDic = {'valhalla':'assassins creed valhalla',\r\n",
    "            'new horizons':'animal crossing new horizons',\r\n",
    "            'animal crossing':'animal crossing new horizons',\r\n",
    "            'jedi':'star wars jedi fallen order',\r\n",
    "            'fallen order':'star wars jedi fallen order',\r\n",
    "            'pokemon':'pokemon sword/shield',\r\n",
    "            'hades':'hades',\r\n",
    "            'streets of rage':'streets of rage 4',\r\n",
    "            'final fantasy':'final fantasy vii',\r\n",
    "            'death stranding':'death stranding'}\r\n",
    "\r\n",
    "\r\n",
    "CA['Art'] = CA['Art'].apply(simplify,args = (gameDic,))\r\n",
    "CA = pd.DataFrame(CA)\r\n",
    "\r\n",
    "CA = CA.groupby(['Art']).size()\r\n",
    "CA = pd.DataFrame(CA)\r\n",
    "CA.rename({0:'nominations'},axis = 'columns', inplace = True)\r\n",
    "CA.sort_values(by=['nominations'], ascending = False)"
   ]
  },
  {
   "cell_type": "markdown",
   "metadata": {},
   "source": [
    "Similar to the last section, its not quite possible to convert something like the metacritic score to tiebreak all of the games tied at one nomination for this section. As such, only the games with multiple nominations will be contenders for this award.\r\n",
    "\r\n",
    "The Best Art of the Year contenders are:\r\n",
    " - Hades\r\n",
    " - Star Wars Jedi: Fallen Order\r\n",
    " - Ori and the Will of the Wisps\r\n",
    " - Ghost of Tsushima\r\n",
    "\r\n",
    "\r\n",
    "---"
   ]
  },
  {
   "cell_type": "markdown",
   "metadata": {},
   "source": [
    "## Best Narrative 2020"
   ]
  },
  {
   "cell_type": "code",
   "execution_count": 108,
   "metadata": {},
   "outputs": [
    {
     "data": {
      "text/html": "<div>\n<style scoped>\n    .dataframe tbody tr th:only-of-type {\n        vertical-align: middle;\n    }\n\n    .dataframe tbody tr th {\n        vertical-align: top;\n    }\n\n    .dataframe thead th {\n        text-align: right;\n    }\n</style>\n<table border=\"1\" class=\"dataframe\">\n  <thead>\n    <tr style=\"text-align: right;\">\n      <th></th>\n      <th>nominations</th>\n    </tr>\n    <tr>\n      <th>Narrative</th>\n      <th></th>\n    </tr>\n  </thead>\n  <tbody>\n    <tr>\n      <th>ori and the will of the wisps</th>\n      <td>3</td>\n    </tr>\n    <tr>\n      <th>star wars jedi fallen order</th>\n      <td>3</td>\n    </tr>\n    <tr>\n      <th>hades</th>\n      <td>2</td>\n    </tr>\n    <tr>\n      <th>the last of us part 2</th>\n      <td>2</td>\n    </tr>\n    <tr>\n      <th>animal crossing new horizons</th>\n      <td>1</td>\n    </tr>\n    <tr>\n      <th>death stranding</th>\n      <td>1</td>\n    </tr>\n    <tr>\n      <th>final fantasy vii</th>\n      <td>1</td>\n    </tr>\n    <tr>\n      <th>gears tactics</th>\n      <td>1</td>\n    </tr>\n    <tr>\n      <th>ghost of tsushima</th>\n      <td>1</td>\n    </tr>\n    <tr>\n      <th>mafia definitive edition</th>\n      <td>1</td>\n    </tr>\n    <tr>\n      <th>man of medan</th>\n      <td>1</td>\n    </tr>\n    <tr>\n      <th>marvel's avengers</th>\n      <td>1</td>\n    </tr>\n    <tr>\n      <th>streets of rage 4</th>\n      <td>1</td>\n    </tr>\n  </tbody>\n</table>\n</div>",
      "text/plain": "                               nominations\nNarrative                                 \nori and the will of the wisps            3\nstar wars jedi fallen order              3\nhades                                    2\nthe last of us part 2                    2\nanimal crossing new horizons             1\ndeath stranding                          1\nfinal fantasy vii                        1\ngears tactics                            1\nghost of tsushima                        1\nmafia definitive edition                 1\nman of medan                             1\nmarvel's avengers                        1\nstreets of rage 4                        1"
     },
     "execution_count": 108,
     "metadata": {},
     "output_type": "execute_result"
    }
   ],
   "source": [
    "CA = pd.DataFrame(CNar.copy())\r\n",
    "\r\n",
    "gameDic = {'valhalla':'assassins creed valhalla',\r\n",
    "            'new horizons':'animal crossing new horizons',\r\n",
    "            'animal crossing':'animal crossing new horizons',\r\n",
    "            'jedi':'star wars jedi fallen order',\r\n",
    "            'fallen order':'star wars jedi fallen order',\r\n",
    "            'pokemon':'pokemon sword/shield',\r\n",
    "            'hades':'hades',\r\n",
    "            'streets of rage':'streets of rage 4',\r\n",
    "            'final fantasy':'final fantasy vii',\r\n",
    "            'death stranding':'death stranding',\r\n",
    "            'last of us':'the last of us part 2'}\r\n",
    "\r\n",
    "\r\n",
    "CA['Narrative'] = CA['Narrative'].apply(simplify,args = (gameDic,))\r\n",
    "CA = pd.DataFrame(CA)\r\n",
    "\r\n",
    "CA = CA.groupby(['Narrative']).size()\r\n",
    "CA = pd.DataFrame(CA)\r\n",
    "CA.rename({0:'nominations'},axis = 'columns', inplace = True)\r\n",
    "CA.sort_values(by=['nominations'], ascending = False)"
   ]
  },
  {
   "cell_type": "markdown",
   "metadata": {},
   "source": [
    "Best narrative is not something that can be interpreted from a score like metacritic, so once more we are only going with games that have multiple nominations.\r\n",
    "\r\n",
    "\r\n",
    "Best Narrative of 2020 contenders:\r\n",
    " - Ori and the Will of the Wisps\r\n",
    " - Star Wars Jedi: Fallen Order\r\n",
    " - Hades\r\n",
    " - The Last of Us Part 2\r\n",
    "\r\n",
    "\r\n",
    "\r\n",
    "---"
   ]
  },
  {
   "cell_type": "markdown",
   "metadata": {},
   "source": [
    "## Best Co-Op Game of 2020"
   ]
  },
  {
   "cell_type": "code",
   "execution_count": 112,
   "metadata": {},
   "outputs": [
    {
     "data": {
      "text/html": "<div>\n<style scoped>\n    .dataframe tbody tr th:only-of-type {\n        vertical-align: middle;\n    }\n\n    .dataframe tbody tr th {\n        vertical-align: top;\n    }\n\n    .dataframe thead th {\n        text-align: right;\n    }\n</style>\n<table border=\"1\" class=\"dataframe\">\n  <thead>\n    <tr style=\"text-align: right;\">\n      <th></th>\n      <th>nominations</th>\n    </tr>\n    <tr>\n      <th>Co-op</th>\n      <th></th>\n    </tr>\n  </thead>\n  <tbody>\n    <tr>\n      <th>phasmaphobia</th>\n      <td>5</td>\n    </tr>\n    <tr>\n      <th>grounded</th>\n      <td>4</td>\n    </tr>\n    <tr>\n      <th>animal crossing new horizons</th>\n      <td>3</td>\n    </tr>\n    <tr>\n      <th>fall guys</th>\n      <td>2</td>\n    </tr>\n    <tr>\n      <th>among us</th>\n      <td>1</td>\n    </tr>\n    <tr>\n      <th>fifa</th>\n      <td>1</td>\n    </tr>\n    <tr>\n      <th>journey to the savage planet</th>\n      <td>1</td>\n    </tr>\n    <tr>\n      <th>man of medan</th>\n      <td>1</td>\n    </tr>\n    <tr>\n      <th>marvel's avengers</th>\n      <td>1</td>\n    </tr>\n    <tr>\n      <th>pokemon sword/shield</th>\n      <td>1</td>\n    </tr>\n    <tr>\n      <th>star wars squadrons</th>\n      <td>1</td>\n    </tr>\n    <tr>\n      <th>streets of rage 4</th>\n      <td>1</td>\n    </tr>\n  </tbody>\n</table>\n</div>",
      "text/plain": "                              nominations\nCo-op                                    \nphasmaphobia                            5\ngrounded                                4\nanimal crossing new horizons            3\nfall guys                               2\namong us                                1\nfifa                                    1\njourney to the savage planet            1\nman of medan                            1\nmarvel's avengers                       1\npokemon sword/shield                    1\nstar wars squadrons                     1\nstreets of rage 4                       1"
     },
     "execution_count": 112,
     "metadata": {},
     "output_type": "execute_result"
    }
   ],
   "source": [
    "CA = pd.DataFrame(CCoop.copy())\r\n",
    "\r\n",
    "gameDic = {'valhalla':'assassins creed valhalla',\r\n",
    "            'new horizons':'animal crossing new horizons',\r\n",
    "            'animal crossing':'animal crossing new horizons',\r\n",
    "            'jedi':'star wars jedi fallen order',\r\n",
    "            'fallen order':'star wars jedi fallen order',\r\n",
    "            'pokemon':'pokemon sword/shield',\r\n",
    "            'hades':'hades',\r\n",
    "            'streets of rage':'streets of rage 4',\r\n",
    "            'final fantasy':'final fantasy vii',\r\n",
    "            'death stranding':'death stranding',\r\n",
    "            'last of us':'the last of us part 2',\r\n",
    "            'phasm':'phasmaphobia',\r\n",
    "            'fall':'fall guys'}\r\n",
    "\r\n",
    "\r\n",
    "CA['Co-op'] = CA['Co-op'].apply(simplify,args = (gameDic,))\r\n",
    "CA = pd.DataFrame(CA)\r\n",
    "\r\n",
    "CA = CA.groupby(['Co-op']).size()\r\n",
    "CA = pd.DataFrame(CA)\r\n",
    "CA.rename({0:'nominations'},axis = 'columns', inplace = True)\r\n",
    "CA.sort_values(by=['nominations'], ascending = False)"
   ]
  },
  {
   "cell_type": "markdown",
   "metadata": {},
   "source": [
    "Similar to the last section, its not quite possible to convert something like the metacritic score to tiebreak all of the games tied at one nomination for this section. As such, only the games with multiple nominations will be contenders for this award.\r\n",
    "\r\n",
    "Co-op Game of the Year Contenders:\r\n",
    " - Phasmaphobia\r\n",
    " - Grounded\r\n",
    " - Animal Crossing: New Horizons\r\n",
    " - Fall guys\r\n",
    "\r\n",
    "\r\n",
    "---"
   ]
  },
  {
   "cell_type": "markdown",
   "metadata": {},
   "source": [
    "## Best Multiplayer (PvP) Game of 2020"
   ]
  },
  {
   "cell_type": "code",
   "execution_count": 114,
   "metadata": {},
   "outputs": [
    {
     "data": {
      "text/html": "<div>\n<style scoped>\n    .dataframe tbody tr th:only-of-type {\n        vertical-align: middle;\n    }\n\n    .dataframe tbody tr th {\n        vertical-align: top;\n    }\n\n    .dataframe thead th {\n        text-align: right;\n    }\n</style>\n<table border=\"1\" class=\"dataframe\">\n  <thead>\n    <tr style=\"text-align: right;\">\n      <th></th>\n      <th>nominations</th>\n    </tr>\n    <tr>\n      <th>Multi</th>\n      <th></th>\n    </tr>\n  </thead>\n  <tbody>\n    <tr>\n      <th>fall guys</th>\n      <td>3</td>\n    </tr>\n    <tr>\n      <th>call of duty modern warfare</th>\n      <td>2</td>\n    </tr>\n    <tr>\n      <th>rogue company</th>\n      <td>2</td>\n    </tr>\n    <tr>\n      <th>apex</th>\n      <td>1</td>\n    </tr>\n    <tr>\n      <th>call of duty warzone</th>\n      <td>1</td>\n    </tr>\n    <tr>\n      <th>overwatch</th>\n      <td>1</td>\n    </tr>\n    <tr>\n      <th>star wars squadrons</th>\n      <td>1</td>\n    </tr>\n    <tr>\n      <th>valorant</th>\n      <td>1</td>\n    </tr>\n    <tr>\n      <th>warzone</th>\n      <td>1</td>\n    </tr>\n  </tbody>\n</table>\n</div>",
      "text/plain": "                             nominations\nMulti                                   \nfall guys                              3\ncall of duty modern warfare            2\nrogue company                          2\napex                                   1\ncall of duty warzone                   1\noverwatch                              1\nstar wars squadrons                    1\nvalorant                               1\nwarzone                                1"
     },
     "execution_count": 114,
     "metadata": {},
     "output_type": "execute_result"
    }
   ],
   "source": [
    "CA = pd.DataFrame(CPVP.copy())\r\n",
    "\r\n",
    "gameDic = {'valhalla':'assassins creed valhalla',\r\n",
    "            'new horizons':'animal crossing new horizons',\r\n",
    "            'animal crossing':'animal crossing new horizons',\r\n",
    "            'jedi':'star wars jedi fallen order',\r\n",
    "            'fallen order':'star wars jedi fallen order',\r\n",
    "            'pokemon':'pokemon sword/shield',\r\n",
    "            'hades':'hades',\r\n",
    "            'streets of rage':'streets of rage 4',\r\n",
    "            'final fantasy':'final fantasy vii',\r\n",
    "            'death stranding':'death stranding',\r\n",
    "            'last of us':'the last of us part 2',\r\n",
    "            'phasm':'phasmaphobia',\r\n",
    "            'fall':'fall guys',\r\n",
    "            'cod':'call of duty modern warfare'}\r\n",
    "\r\n",
    "\r\n",
    "CA['Multi'] = CA['Multi'].apply(simplify,args = (gameDic,))\r\n",
    "CA = pd.DataFrame(CA)\r\n",
    "\r\n",
    "CA = CA.groupby(['Multi']).size()\r\n",
    "CA = pd.DataFrame(CA)\r\n",
    "CA.rename({0:'nominations'},axis = 'columns', inplace = True)\r\n",
    "CA.sort_values(by=['nominations'], ascending = False)"
   ]
  },
  {
   "cell_type": "markdown",
   "metadata": {},
   "source": [
    "The Multiplayer (PvP) Contenders:\r\n",
    " - Fall Guys\r\n",
    " - Call of Duty: Modern Warfare\r\n",
    " - Rogue Company\r\n",
    "\r\n",
    "\r\n",
    "---"
   ]
  },
  {
   "cell_type": "markdown",
   "metadata": {},
   "source": [
    "## Best Ongoing Game in 2020"
   ]
  },
  {
   "cell_type": "code",
   "execution_count": 117,
   "metadata": {},
   "outputs": [
    {
     "data": {
      "text/html": "<div>\n<style scoped>\n    .dataframe tbody tr th:only-of-type {\n        vertical-align: middle;\n    }\n\n    .dataframe tbody tr th {\n        vertical-align: top;\n    }\n\n    .dataframe thead th {\n        text-align: right;\n    }\n</style>\n<table border=\"1\" class=\"dataframe\">\n  <thead>\n    <tr style=\"text-align: right;\">\n      <th></th>\n      <th>nominations</th>\n    </tr>\n    <tr>\n      <th>Ongoing</th>\n      <th></th>\n    </tr>\n  </thead>\n  <tbody>\n    <tr>\n      <th>fortnite</th>\n      <td>4</td>\n    </tr>\n    <tr>\n      <th>destiny 2</th>\n      <td>3</td>\n    </tr>\n    <tr>\n      <th>among us</th>\n      <td>2</td>\n    </tr>\n    <tr>\n      <th>apex legends</th>\n      <td>2</td>\n    </tr>\n    <tr>\n      <th>minecraft</th>\n      <td>2</td>\n    </tr>\n    <tr>\n      <th>animal crossing new horizons</th>\n      <td>1</td>\n    </tr>\n    <tr>\n      <th>call of duty modern warfare</th>\n      <td>1</td>\n    </tr>\n    <tr>\n      <th>grand theft auto 5 online</th>\n      <td>1</td>\n    </tr>\n    <tr>\n      <th>overwatch</th>\n      <td>1</td>\n    </tr>\n    <tr>\n      <th>rimworld</th>\n      <td>1</td>\n    </tr>\n    <tr>\n      <th>rogue company</th>\n      <td>1</td>\n    </tr>\n    <tr>\n      <th>super mario maker 2</th>\n      <td>1</td>\n    </tr>\n  </tbody>\n</table>\n</div>",
      "text/plain": "                              nominations\nOngoing                                  \nfortnite                                4\ndestiny 2                               3\namong us                                2\napex legends                            2\nminecraft                               2\nanimal crossing new horizons            1\ncall of duty modern warfare             1\ngrand theft auto 5 online               1\noverwatch                               1\nrimworld                                1\nrogue company                           1\nsuper mario maker 2                     1"
     },
     "execution_count": 117,
     "metadata": {},
     "output_type": "execute_result"
    }
   ],
   "source": [
    "CA = pd.DataFrame(COngo.copy())\r\n",
    "\r\n",
    "gameDic = {'valhalla':'assassins creed valhalla',\r\n",
    "            'new horizons':'animal crossing new horizons',\r\n",
    "            'animal crossing':'animal crossing new horizons',\r\n",
    "            'jedi':'star wars jedi fallen order',\r\n",
    "            'fallen order':'star wars jedi fallen order',\r\n",
    "            'pokemon':'pokemon sword/shield',\r\n",
    "            'hades':'hades',\r\n",
    "            'streets of rage':'streets of rage 4',\r\n",
    "            'final fantasy':'final fantasy vii',\r\n",
    "            'death stranding':'death stranding',\r\n",
    "            'last of us':'the last of us part 2',\r\n",
    "            'phasm':'phasmaphobia',\r\n",
    "            'fall':'fall guys',\r\n",
    "            'cod':'call of duty modern warfare',\r\n",
    "            'd2':'destiny 2',\r\n",
    "            'destiny':'destiny 2',\r\n",
    "            'apex':'apex legends',\r\n",
    "            'fortnight':'fortnite'\r\n",
    "            }\r\n",
    "\r\n",
    "\r\n",
    "CA['Ongoing'] = CA['Ongoing'].apply(simplify,args = (gameDic,))\r\n",
    "CA = pd.DataFrame(CA)\r\n",
    "\r\n",
    "CA = CA.groupby(['Ongoing']).size()\r\n",
    "CA = pd.DataFrame(CA)\r\n",
    "CA.rename({0:'nominations'},axis = 'columns', inplace = True)\r\n",
    "CA.sort_values(by=['nominations'], ascending = False)"
   ]
  },
  {
   "cell_type": "markdown",
   "metadata": {},
   "source": [
    "The Ongoing Game of the Year Contenders:\r\n",
    " - Destiny 2\r\n",
    " - Fortnite\r\n",
    " - Among Us\r\n",
    " - Apex Legends\r\n",
    " - Minecraft\r\n",
    "  \r\n",
    "---"
   ]
  },
  {
   "cell_type": "markdown",
   "metadata": {},
   "source": [
    "## Best DLC in 2020"
   ]
  },
  {
   "cell_type": "code",
   "execution_count": 118,
   "metadata": {},
   "outputs": [
    {
     "data": {
      "text/html": "<div>\n<style scoped>\n    .dataframe tbody tr th:only-of-type {\n        vertical-align: middle;\n    }\n\n    .dataframe tbody tr th {\n        vertical-align: top;\n    }\n\n    .dataframe thead th {\n        text-align: right;\n    }\n</style>\n<table border=\"1\" class=\"dataframe\">\n  <thead>\n    <tr style=\"text-align: right;\">\n      <th></th>\n      <th>nominations</th>\n    </tr>\n    <tr>\n      <th>DLC</th>\n      <th></th>\n    </tr>\n  </thead>\n  <tbody>\n    <tr>\n      <th>control awe</th>\n      <td>1</td>\n    </tr>\n    <tr>\n      <th>house flipper garden flipper dlc</th>\n      <td>1</td>\n    </tr>\n    <tr>\n      <th>island saver dinosaur island</th>\n      <td>1</td>\n    </tr>\n    <tr>\n      <th>kingdom hearts 3 re mind</th>\n      <td>1</td>\n    </tr>\n    <tr>\n      <th>minecraft</th>\n      <td>1</td>\n    </tr>\n    <tr>\n      <th>pokemon sword/shield</th>\n      <td>1</td>\n    </tr>\n    <tr>\n      <th>raft</th>\n      <td>1</td>\n    </tr>\n    <tr>\n      <th>super smash bros dlc fighters</th>\n      <td>1</td>\n    </tr>\n  </tbody>\n</table>\n</div>",
      "text/plain": "                                  nominations\nDLC                                          \ncontrol awe                                 1\nhouse flipper garden flipper dlc            1\nisland saver dinosaur island                1\nkingdom hearts 3 re mind                    1\nminecraft                                   1\npokemon sword/shield                        1\nraft                                        1\nsuper smash bros dlc fighters               1"
     },
     "execution_count": 118,
     "metadata": {},
     "output_type": "execute_result"
    }
   ],
   "source": [
    "CA = pd.DataFrame(CDLC.copy())\r\n",
    "\r\n",
    "gameDic = {'valhalla':'assassins creed valhalla',\r\n",
    "            'new horizons':'animal crossing new horizons',\r\n",
    "            'animal crossing':'animal crossing new horizons',\r\n",
    "            'jedi':'star wars jedi fallen order',\r\n",
    "            'fallen order':'star wars jedi fallen order',\r\n",
    "            'pokemon':'pokemon sword/shield',\r\n",
    "            'hades':'hades',\r\n",
    "            'streets of rage':'streets of rage 4',\r\n",
    "            'final fantasy':'final fantasy vii',\r\n",
    "            'death stranding':'death stranding',\r\n",
    "            'last of us':'the last of us part 2',\r\n",
    "            'phasm':'phasmaphobia',\r\n",
    "            'fall':'fall guys',\r\n",
    "            'cod':'call of duty modern warfare',\r\n",
    "            'd2':'destiny 2',\r\n",
    "            'destiny':'destiny 2',\r\n",
    "            'apex':'apex legends',\r\n",
    "            'fortnight':'fortnite'\r\n",
    "            }\r\n",
    "\r\n",
    "\r\n",
    "CA['DLC'] = CA['DLC'].apply(simplify,args = (gameDic,))\r\n",
    "CA = pd.DataFrame(CA)\r\n",
    "\r\n",
    "CA = CA.groupby(['DLC']).size()\r\n",
    "CA = pd.DataFrame(CA)\r\n",
    "CA.rename({0:'nominations'},axis = 'columns', inplace = True)\r\n",
    "CA.sort_values(by=['nominations'], ascending = False)"
   ]
  },
  {
   "cell_type": "markdown",
   "metadata": {},
   "source": [
    "Since I'm a total slacker, and there are no sets of multiple votes, all games nominated from this section will be contenders\r\n",
    "\r\n",
    "Contenders for DLC of the Year:\r\n",
    " - Control AWE\r\n",
    " - House Flipper Garden Flipper DLC\r\n",
    " - Island Saver Dinosaur Island\r\n",
    " - Kingdom Hearts 3 ReMind\r\n",
    " - Minecraft\r\n",
    " - Pokemon Sword/Shield\r\n",
    " - Raft\r\n",
    " - Super Smash Bros\r\n",
    "\r\n",
    "---"
   ]
  },
  {
   "cell_type": "markdown",
   "metadata": {},
   "source": [
    "## Best Open World Game of 2020"
   ]
  },
  {
   "cell_type": "code",
   "execution_count": 119,
   "metadata": {},
   "outputs": [
    {
     "data": {
      "text/html": "<div>\n<style scoped>\n    .dataframe tbody tr th:only-of-type {\n        vertical-align: middle;\n    }\n\n    .dataframe tbody tr th {\n        vertical-align: top;\n    }\n\n    .dataframe thead th {\n        text-align: right;\n    }\n</style>\n<table border=\"1\" class=\"dataframe\">\n  <thead>\n    <tr style=\"text-align: right;\">\n      <th></th>\n      <th>nominations</th>\n    </tr>\n    <tr>\n      <th>OW</th>\n      <th></th>\n    </tr>\n  </thead>\n  <tbody>\n    <tr>\n      <th>death stranding</th>\n      <td>2</td>\n    </tr>\n    <tr>\n      <th>pokemon sword/shield</th>\n      <td>2</td>\n    </tr>\n    <tr>\n      <th>final fantasy vii</th>\n      <td>1</td>\n    </tr>\n    <tr>\n      <th>ghost of tsushima</th>\n      <td>1</td>\n    </tr>\n    <tr>\n      <th>hzd</th>\n      <td>1</td>\n    </tr>\n    <tr>\n      <th>maneater</th>\n      <td>1</td>\n    </tr>\n    <tr>\n      <th>star wars jedi fallen order</th>\n      <td>1</td>\n    </tr>\n    <tr>\n      <th>watch dogs legion</th>\n      <td>1</td>\n    </tr>\n    <tr>\n      <th>xenoblade chronicles definitive edition</th>\n      <td>1</td>\n    </tr>\n  </tbody>\n</table>\n</div>",
      "text/plain": "                                         nominations\nOW                                                  \ndeath stranding                                    2\npokemon sword/shield                               2\nfinal fantasy vii                                  1\nghost of tsushima                                  1\nhzd                                                1\nmaneater                                           1\nstar wars jedi fallen order                        1\nwatch dogs legion                                  1\nxenoblade chronicles definitive edition            1"
     },
     "execution_count": 119,
     "metadata": {},
     "output_type": "execute_result"
    }
   ],
   "source": [
    "CA = pd.DataFrame(COW.copy())\r\n",
    "\r\n",
    "gameDic = {'valhalla':'assassins creed valhalla',\r\n",
    "            'new horizons':'animal crossing new horizons',\r\n",
    "            'animal crossing':'animal crossing new horizons',\r\n",
    "            'jedi':'star wars jedi fallen order',\r\n",
    "            'fallen order':'star wars jedi fallen order',\r\n",
    "            'pokemon':'pokemon sword/shield',\r\n",
    "            'hades':'hades',\r\n",
    "            'streets of rage':'streets of rage 4',\r\n",
    "            'final fantasy':'final fantasy vii',\r\n",
    "            'death stranding':'death stranding',\r\n",
    "            'last of us':'the last of us part 2',\r\n",
    "            'phasm':'phasmaphobia',\r\n",
    "            'fall':'fall guys',\r\n",
    "            'cod':'call of duty modern warfare',\r\n",
    "            'd2':'destiny 2',\r\n",
    "            'destiny':'destiny 2',\r\n",
    "            'apex':'apex legends',\r\n",
    "            'fortnight':'fortnite'\r\n",
    "            }\r\n",
    "\r\n",
    "\r\n",
    "CA['OW'] = CA['OW'].apply(simplify,args = (gameDic,))\r\n",
    "CA = pd.DataFrame(CA)\r\n",
    "\r\n",
    "CA = CA.groupby(['OW']).size()\r\n",
    "CA = pd.DataFrame(CA)\r\n",
    "CA.rename({0:'nominations'},axis = 'columns', inplace = True)\r\n",
    "CA.sort_values(by=['nominations'], ascending = False)"
   ]
  },
  {
   "cell_type": "markdown",
   "metadata": {},
   "source": [
    "Open World contenders\r\n",
    " - Death Stranding\r\n",
    " - Pokemon Sword/Shield\r\n",
    "\r\n",
    "\r\n",
    "---"
   ]
  },
  {
   "cell_type": "markdown",
   "metadata": {},
   "source": [
    "## Best Action Game of 2020"
   ]
  },
  {
   "cell_type": "code",
   "execution_count": 120,
   "metadata": {},
   "outputs": [
    {
     "data": {
      "text/html": "<div>\n<style scoped>\n    .dataframe tbody tr th:only-of-type {\n        vertical-align: middle;\n    }\n\n    .dataframe tbody tr th {\n        vertical-align: top;\n    }\n\n    .dataframe thead th {\n        text-align: right;\n    }\n</style>\n<table border=\"1\" class=\"dataframe\">\n  <thead>\n    <tr style=\"text-align: right;\">\n      <th></th>\n      <th>nominations</th>\n    </tr>\n    <tr>\n      <th>Action</th>\n      <th></th>\n    </tr>\n  </thead>\n  <tbody>\n    <tr>\n      <th>doom eternal</th>\n      <td>2</td>\n    </tr>\n    <tr>\n      <th>hades</th>\n      <td>2</td>\n    </tr>\n    <tr>\n      <th>maneater</th>\n      <td>2</td>\n    </tr>\n    <tr>\n      <th>call of duty modern warfare</th>\n      <td>1</td>\n    </tr>\n    <tr>\n      <th>doom</th>\n      <td>1</td>\n    </tr>\n    <tr>\n      <th>ghost of tsushima</th>\n      <td>1</td>\n    </tr>\n    <tr>\n      <th>half-life alyx</th>\n      <td>1</td>\n    </tr>\n    <tr>\n      <th>marvel's avengers</th>\n      <td>1</td>\n    </tr>\n    <tr>\n      <th>nioh 2</th>\n      <td>1</td>\n    </tr>\n    <tr>\n      <th>star wars jedi fallen order</th>\n      <td>1</td>\n    </tr>\n    <tr>\n      <th>streets of rage 4</th>\n      <td>1</td>\n    </tr>\n  </tbody>\n</table>\n</div>",
      "text/plain": "                             nominations\nAction                                  \ndoom eternal                           2\nhades                                  2\nmaneater                               2\ncall of duty modern warfare            1\ndoom                                   1\nghost of tsushima                      1\nhalf-life alyx                         1\nmarvel's avengers                      1\nnioh 2                                 1\nstar wars jedi fallen order            1\nstreets of rage 4                      1"
     },
     "execution_count": 120,
     "metadata": {},
     "output_type": "execute_result"
    }
   ],
   "source": [
    "CA = pd.DataFrame(CAct.copy())\r\n",
    "\r\n",
    "gameDic = {'valhalla':'assassins creed valhalla',\r\n",
    "            'new horizons':'animal crossing new horizons',\r\n",
    "            'animal crossing':'animal crossing new horizons',\r\n",
    "            'jedi':'star wars jedi fallen order',\r\n",
    "            'fallen order':'star wars jedi fallen order',\r\n",
    "            'pokemon':'pokemon sword/shield',\r\n",
    "            'hades':'hades',\r\n",
    "            'streets of rage':'streets of rage 4',\r\n",
    "            'final fantasy':'final fantasy vii',\r\n",
    "            'death stranding':'death stranding',\r\n",
    "            'last of us':'the last of us part 2',\r\n",
    "            'phasm':'phasmaphobia',\r\n",
    "            'fall':'fall guys',\r\n",
    "            'cod':'call of duty modern warfare',\r\n",
    "            'd2':'destiny 2',\r\n",
    "            'destiny':'destiny 2',\r\n",
    "            'apex':'apex legends',\r\n",
    "            'fortnight':'fortnite'\r\n",
    "            }\r\n",
    "\r\n",
    "\r\n",
    "CA['Action'] = CA['Action'].apply(simplify,args = (gameDic,))\r\n",
    "CA = pd.DataFrame(CA)\r\n",
    "\r\n",
    "CA = CA.groupby(['Action']).size()\r\n",
    "CA = pd.DataFrame(CA)\r\n",
    "CA.rename({0:'nominations'},axis = 'columns', inplace = True)\r\n",
    "CA.sort_values(by=['nominations'], ascending = False)"
   ]
  },
  {
   "cell_type": "markdown",
   "metadata": {},
   "source": [
    "Action Game of the Year Contenders:\r\n",
    " - Doom Eternal\r\n",
    " - Hades\r\n",
    " - Maneater\r\n",
    "\r\n",
    "\r\n",
    "---"
   ]
  },
  {
   "cell_type": "markdown",
   "metadata": {},
   "source": [
    "## Best Action Adventure Game of 2020"
   ]
  },
  {
   "cell_type": "code",
   "execution_count": 123,
   "metadata": {},
   "outputs": [
    {
     "data": {
      "text/html": "<div>\n<style scoped>\n    .dataframe tbody tr th:only-of-type {\n        vertical-align: middle;\n    }\n\n    .dataframe tbody tr th {\n        vertical-align: top;\n    }\n\n    .dataframe thead th {\n        text-align: right;\n    }\n</style>\n<table border=\"1\" class=\"dataframe\">\n  <thead>\n    <tr style=\"text-align: right;\">\n      <th></th>\n      <th>nominations</th>\n    </tr>\n    <tr>\n      <th>AA</th>\n      <th></th>\n    </tr>\n  </thead>\n  <tbody>\n    <tr>\n      <th>star wars jedi fallen order</th>\n      <td>4</td>\n    </tr>\n    <tr>\n      <th>ori and the will of the wisps</th>\n      <td>2</td>\n    </tr>\n    <tr>\n      <th>destroy all humans</th>\n      <td>1</td>\n    </tr>\n    <tr>\n      <th>ghost of tsushima</th>\n      <td>1</td>\n    </tr>\n    <tr>\n      <th>half-life alyx</th>\n      <td>1</td>\n    </tr>\n    <tr>\n      <th>maneater</th>\n      <td>1</td>\n    </tr>\n    <tr>\n      <th>marvel's avengers</th>\n      <td>1</td>\n    </tr>\n    <tr>\n      <th>the last of us part 2</th>\n      <td>1</td>\n    </tr>\n  </tbody>\n</table>\n</div>",
      "text/plain": "                               nominations\nAA                                        \nstar wars jedi fallen order              4\nori and the will of the wisps            2\ndestroy all humans                       1\nghost of tsushima                        1\nhalf-life alyx                           1\nmaneater                                 1\nmarvel's avengers                        1\nthe last of us part 2                    1"
     },
     "execution_count": 123,
     "metadata": {},
     "output_type": "execute_result"
    }
   ],
   "source": [
    "CA = pd.DataFrame(CAA.copy())\r\n",
    "\r\n",
    "gameDic = {'valhalla':'assassins creed valhalla',\r\n",
    "            'new horizons':'animal crossing new horizons',\r\n",
    "            'animal crossing':'animal crossing new horizons',\r\n",
    "            'jedi':'star wars jedi fallen order',\r\n",
    "            'fallen order':'star wars jedi fallen order',\r\n",
    "            'pokemon':'pokemon sword/shield',\r\n",
    "            'hades':'hades',\r\n",
    "            'streets of rage':'streets of rage 4',\r\n",
    "            'final fantasy':'final fantasy vii',\r\n",
    "            'death stranding':'death stranding',\r\n",
    "            'last of us':'the last of us part 2',\r\n",
    "            'phasm':'phasmaphobia',\r\n",
    "            'fall':'fall guys',\r\n",
    "            'cod':'call of duty modern warfare',\r\n",
    "            'd2':'destiny 2',\r\n",
    "            'destiny':'destiny 2',\r\n",
    "            'apex':'apex legends',\r\n",
    "            'fortnight':'fortnite',\r\n",
    "            'ori':'ori and the will of the wisps'\r\n",
    "            }\r\n",
    "\r\n",
    "\r\n",
    "CA['AA'] = CA['AA'].apply(simplify,args = (gameDic,))\r\n",
    "CA = pd.DataFrame(CA)\r\n",
    "\r\n",
    "CA = CA.groupby(['AA']).size()\r\n",
    "CA = pd.DataFrame(CA)\r\n",
    "CA.rename({0:'nominations'},axis = 'columns', inplace = True)\r\n",
    "CA.sort_values(by=['nominations'], ascending = False)"
   ]
  },
  {
   "cell_type": "markdown",
   "metadata": {},
   "source": [
    "Action Adventure Contenders:\r\n",
    " - Star Wars Jedi: Fallen Order\r\n",
    " - Ori and the Will of the Wisps\r\n",
    "\r\n",
    "\r\n",
    "---"
   ]
  },
  {
   "cell_type": "markdown",
   "metadata": {},
   "source": [
    "## Best Strategy Game of 2020"
   ]
  },
  {
   "cell_type": "code",
   "execution_count": 125,
   "metadata": {},
   "outputs": [
    {
     "data": {
      "text/html": "<div>\n<style scoped>\n    .dataframe tbody tr th:only-of-type {\n        vertical-align: middle;\n    }\n\n    .dataframe tbody tr th {\n        vertical-align: top;\n    }\n\n    .dataframe thead th {\n        text-align: right;\n    }\n</style>\n<table border=\"1\" class=\"dataframe\">\n  <thead>\n    <tr style=\"text-align: right;\">\n      <th></th>\n      <th>nominations</th>\n    </tr>\n    <tr>\n      <th>Strategy</th>\n      <th></th>\n    </tr>\n  </thead>\n  <tbody>\n    <tr>\n      <th>gears tactics</th>\n      <td>3</td>\n    </tr>\n    <tr>\n      <th>Microsoft Flight Simulator</th>\n      <td>2</td>\n    </tr>\n    <tr>\n      <th>crusader kings lll</th>\n      <td>1</td>\n    </tr>\n    <tr>\n      <th>xcom 2</th>\n      <td>1</td>\n    </tr>\n  </tbody>\n</table>\n</div>",
      "text/plain": "                            nominations\nStrategy                               \ngears tactics                         3\nMicrosoft Flight Simulator            2\ncrusader kings lll                    1\nxcom 2                                1"
     },
     "execution_count": 125,
     "metadata": {},
     "output_type": "execute_result"
    }
   ],
   "source": [
    "CA = pd.DataFrame(CStra.copy())\r\n",
    "\r\n",
    "gameDic = {'valhalla':'assassins creed valhalla',\r\n",
    "            'new horizons':'animal crossing new horizons',\r\n",
    "            'animal crossing':'animal crossing new horizons',\r\n",
    "            'jedi':'star wars jedi fallen order',\r\n",
    "            'fallen order':'star wars jedi fallen order',\r\n",
    "            'pokemon':'pokemon sword/shield',\r\n",
    "            'hades':'hades',\r\n",
    "            'streets of rage':'streets of rage 4',\r\n",
    "            'final fantasy':'final fantasy vii',\r\n",
    "            'death stranding':'death stranding',\r\n",
    "            'last of us':'the last of us part 2',\r\n",
    "            'phasm':'phasmaphobia',\r\n",
    "            'fall':'fall guys',\r\n",
    "            'cod':'call of duty modern warfare',\r\n",
    "            'd2':'destiny 2',\r\n",
    "            'destiny':'destiny 2',\r\n",
    "            'apex':'apex legends',\r\n",
    "            'fortnight':'fortnite',\r\n",
    "            'ori':'ori and the will of the wisps',\r\n",
    "            'flight sim':'Microsoft Flight Simulator'\r\n",
    "            }\r\n",
    "\r\n",
    "\r\n",
    "CA['Strategy'] = CA['Strategy'].apply(simplify,args = (gameDic,))\r\n",
    "CA = pd.DataFrame(CA)\r\n",
    "\r\n",
    "CA = CA.groupby(['Strategy']).size()\r\n",
    "CA = pd.DataFrame(CA)\r\n",
    "CA.rename({0:'nominations'},axis = 'columns', inplace = True)\r\n",
    "CA.sort_values(by=['nominations'], ascending = False)"
   ]
  },
  {
   "cell_type": "markdown",
   "metadata": {},
   "source": [
    "Strategy Contenders:\r\n",
    " - Gears Tactics\r\n",
    " - Microsoft Flight Simulator\r\n",
    "\r\n",
    "\r\n",
    "---"
   ]
  },
  {
   "cell_type": "markdown",
   "metadata": {},
   "source": [
    "## Best RPG Game of 2020"
   ]
  },
  {
   "cell_type": "code",
   "execution_count": 126,
   "metadata": {},
   "outputs": [
    {
     "data": {
      "text/html": "<div>\n<style scoped>\n    .dataframe tbody tr th:only-of-type {\n        vertical-align: middle;\n    }\n\n    .dataframe tbody tr th {\n        vertical-align: top;\n    }\n\n    .dataframe thead th {\n        text-align: right;\n    }\n</style>\n<table border=\"1\" class=\"dataframe\">\n  <thead>\n    <tr style=\"text-align: right;\">\n      <th></th>\n      <th>nominations</th>\n    </tr>\n    <tr>\n      <th>RPG</th>\n      <th></th>\n    </tr>\n  </thead>\n  <tbody>\n    <tr>\n      <th>final fantasy vii</th>\n      <td>1</td>\n    </tr>\n    <tr>\n      <th>genshin impact</th>\n      <td>1</td>\n    </tr>\n    <tr>\n      <th>maneater</th>\n      <td>1</td>\n    </tr>\n    <tr>\n      <th>marvel's avengers</th>\n      <td>1</td>\n    </tr>\n    <tr>\n      <th>minecraft dungeons</th>\n      <td>1</td>\n    </tr>\n    <tr>\n      <th>pokemon sword/shield</th>\n      <td>1</td>\n    </tr>\n    <tr>\n      <th>star wars jedi fallen order</th>\n      <td>1</td>\n    </tr>\n    <tr>\n      <th>wasteland 3</th>\n      <td>1</td>\n    </tr>\n    <tr>\n      <th>yakuza like a dragon</th>\n      <td>1</td>\n    </tr>\n  </tbody>\n</table>\n</div>",
      "text/plain": "                             nominations\nRPG                                     \nfinal fantasy vii                      1\ngenshin impact                         1\nmaneater                               1\nmarvel's avengers                      1\nminecraft dungeons                     1\npokemon sword/shield                   1\nstar wars jedi fallen order            1\nwasteland 3                            1\nyakuza like a dragon                   1"
     },
     "execution_count": 126,
     "metadata": {},
     "output_type": "execute_result"
    }
   ],
   "source": [
    "CA = pd.DataFrame(CRPG.copy())\r\n",
    "\r\n",
    "gameDic = {'valhalla':'assassins creed valhalla',\r\n",
    "            'new horizons':'animal crossing new horizons',\r\n",
    "            'animal crossing':'animal crossing new horizons',\r\n",
    "            'jedi':'star wars jedi fallen order',\r\n",
    "            'fallen order':'star wars jedi fallen order',\r\n",
    "            'pokemon':'pokemon sword/shield',\r\n",
    "            'hades':'hades',\r\n",
    "            'streets of rage':'streets of rage 4',\r\n",
    "            'final fantasy':'final fantasy vii',\r\n",
    "            'death stranding':'death stranding',\r\n",
    "            'last of us':'the last of us part 2',\r\n",
    "            'phasm':'phasmaphobia',\r\n",
    "            'fall':'fall guys',\r\n",
    "            'cod':'call of duty modern warfare',\r\n",
    "            'd2':'destiny 2',\r\n",
    "            'destiny':'destiny 2',\r\n",
    "            'apex':'apex legends',\r\n",
    "            'fortnight':'fortnite',\r\n",
    "            'ori':'ori and the will of the wisps',\r\n",
    "            'flight sim':'Microsoft Flight Simulator'\r\n",
    "            }\r\n",
    "\r\n",
    "\r\n",
    "CA['RPG'] = CA['RPG'].apply(simplify,args = (gameDic,))\r\n",
    "CA = pd.DataFrame(CA)\r\n",
    "\r\n",
    "CA = CA.groupby(['RPG']).size()\r\n",
    "CA = pd.DataFrame(CA)\r\n",
    "CA.rename({0:'nominations'},axis = 'columns', inplace = True)\r\n",
    "CA.sort_values(by=['nominations'], ascending = False)"
   ]
  },
  {
   "cell_type": "markdown",
   "metadata": {},
   "source": [
    "RPG Contenders:\r\n",
    " - final fantasy vii\r\n",
    " - genshin impact\r\n",
    " - maneater\r\n",
    " - marvel's avengers\r\n",
    " - minecraft dungeons\r\n",
    " - pokemon sword/shield\r\n",
    " - star wars jedi fallen order\r\n",
    " - wasteland 3\r\n",
    " - yakuza like a dragon\r\n",
    "\r\n",
    "\r\n",
    "---"
   ]
  },
  {
   "cell_type": "markdown",
   "metadata": {},
   "source": [
    "## Best Sports Game of 2020"
   ]
  },
  {
   "cell_type": "code",
   "execution_count": 128,
   "metadata": {},
   "outputs": [
    {
     "data": {
      "text/html": "<div>\n<style scoped>\n    .dataframe tbody tr th:only-of-type {\n        vertical-align: middle;\n    }\n\n    .dataframe tbody tr th {\n        vertical-align: top;\n    }\n\n    .dataframe thead th {\n        text-align: right;\n    }\n</style>\n<table border=\"1\" class=\"dataframe\">\n  <thead>\n    <tr style=\"text-align: right;\">\n      <th></th>\n      <th>nominations</th>\n    </tr>\n    <tr>\n      <th>Sports</th>\n      <th></th>\n    </tr>\n  </thead>\n  <tbody>\n    <tr>\n      <th>fifa 21</th>\n      <td>2</td>\n    </tr>\n    <tr>\n      <th>dirt 5</th>\n      <td>1</td>\n    </tr>\n    <tr>\n      <th>madden nfl 21</th>\n      <td>1</td>\n    </tr>\n    <tr>\n      <th>tony hawk pro skater 1+2</th>\n      <td>1</td>\n    </tr>\n  </tbody>\n</table>\n</div>",
      "text/plain": "                          nominations\nSports                               \nfifa 21                             2\ndirt 5                              1\nmadden nfl 21                       1\ntony hawk pro skater 1+2            1"
     },
     "execution_count": 128,
     "metadata": {},
     "output_type": "execute_result"
    }
   ],
   "source": [
    "CA = pd.DataFrame(CSpor.copy())\r\n",
    "\r\n",
    "gameDic = {'valhalla':'assassins creed valhalla',\r\n",
    "            'new horizons':'animal crossing new horizons',\r\n",
    "            'animal crossing':'animal crossing new horizons',\r\n",
    "            'jedi':'star wars jedi fallen order',\r\n",
    "            'fallen order':'star wars jedi fallen order',\r\n",
    "            'pokemon':'pokemon sword/shield',\r\n",
    "            'hades':'hades',\r\n",
    "            'streets of rage':'streets of rage 4',\r\n",
    "            'final fantasy':'final fantasy vii',\r\n",
    "            'death stranding':'death stranding',\r\n",
    "            'last of us':'the last of us part 2',\r\n",
    "            'phasm':'phasmaphobia',\r\n",
    "            'fall':'fall guys',\r\n",
    "            'cod':'call of duty modern warfare',\r\n",
    "            'd2':'destiny 2',\r\n",
    "            'destiny':'destiny 2',\r\n",
    "            'apex':'apex legends',\r\n",
    "            'fortnight':'fortnite',\r\n",
    "            'ori':'ori and the will of the wisps',\r\n",
    "            'flight sim':'Microsoft Flight Simulator',\r\n",
    "            'fifa':'fifa 21'\r\n",
    "            }\r\n",
    "\r\n",
    "\r\n",
    "CA['Sports'] = CA['Sports'].apply(simplify,args = (gameDic,))\r\n",
    "CA = pd.DataFrame(CA)\r\n",
    "\r\n",
    "CA = CA.groupby(['Sports']).size()\r\n",
    "CA = pd.DataFrame(CA)\r\n",
    "CA.rename({0:'nominations'},axis = 'columns', inplace = True)\r\n",
    "CA.sort_values(by=['nominations'], ascending = False)"
   ]
  },
  {
   "cell_type": "markdown",
   "metadata": {},
   "source": [
    "Sports Contenders:\r\n",
    " - FIFA 21\r\n",
    " - Dirt 5\r\n",
    " - Madden NFL 21\r\n",
    " - Tony Hawk Pro Skater 1+2\r\n",
    "\r\n",
    "\r\n",
    "---"
   ]
  },
  {
   "cell_type": "markdown",
   "metadata": {},
   "source": [
    "## Best Family/E10+ Game of 2020"
   ]
  },
  {
   "cell_type": "code",
   "execution_count": 130,
   "metadata": {},
   "outputs": [
    {
     "data": {
      "text/html": "<div>\n<style scoped>\n    .dataframe tbody tr th:only-of-type {\n        vertical-align: middle;\n    }\n\n    .dataframe tbody tr th {\n        vertical-align: top;\n    }\n\n    .dataframe thead th {\n        text-align: right;\n    }\n</style>\n<table border=\"1\" class=\"dataframe\">\n  <thead>\n    <tr style=\"text-align: right;\">\n      <th></th>\n      <th>nominations</th>\n    </tr>\n    <tr>\n      <th>E</th>\n      <th></th>\n    </tr>\n  </thead>\n  <tbody>\n    <tr>\n      <th>animal crossing new horizons</th>\n      <td>3</td>\n    </tr>\n    <tr>\n      <th>fall guys</th>\n      <td>2</td>\n    </tr>\n    <tr>\n      <th>ori and the will of the wisps</th>\n      <td>2</td>\n    </tr>\n    <tr>\n      <th>crash bandicoot 4 it's about time</th>\n      <td>1</td>\n    </tr>\n    <tr>\n      <th>minecraft dungeons</th>\n      <td>1</td>\n    </tr>\n    <tr>\n      <th>pokemon sword/shield</th>\n      <td>1</td>\n    </tr>\n  </tbody>\n</table>\n</div>",
      "text/plain": "                                   nominations\nE                                             \nanimal crossing new horizons                 3\nfall guys                                    2\nori and the will of the wisps                2\ncrash bandicoot 4 it's about time            1\nminecraft dungeons                           1\npokemon sword/shield                         1"
     },
     "execution_count": 130,
     "metadata": {},
     "output_type": "execute_result"
    }
   ],
   "source": [
    "CA = pd.DataFrame(CFam.copy())\r\n",
    "\r\n",
    "gameDic = {'valhalla':'assassins creed valhalla',\r\n",
    "            'new horizons':'animal crossing new horizons',\r\n",
    "            'animal crossing':'animal crossing new horizons',\r\n",
    "            'jedi':'star wars jedi fallen order',\r\n",
    "            'fallen order':'star wars jedi fallen order',\r\n",
    "            'pokemon':'pokemon sword/shield',\r\n",
    "            'hades':'hades',\r\n",
    "            'streets of rage':'streets of rage 4',\r\n",
    "            'final fantasy':'final fantasy vii',\r\n",
    "            'death stranding':'death stranding',\r\n",
    "            'last of us':'the last of us part 2',\r\n",
    "            'phasm':'phasmaphobia',\r\n",
    "            'fall':'fall guys',\r\n",
    "            'cod':'call of duty modern warfare',\r\n",
    "            'd2':'destiny 2',\r\n",
    "            'destiny':'destiny 2',\r\n",
    "            'apex':'apex legends',\r\n",
    "            'fortnight':'fortnite',\r\n",
    "            'ori':'ori and the will of the wisps',\r\n",
    "            'flight sim':'Microsoft Flight Simulator',\r\n",
    "            'fifa':'fifa 21'\r\n",
    "            }\r\n",
    "\r\n",
    "\r\n",
    "CA['E'] = CA['E'].apply(simplify,args = (gameDic,))\r\n",
    "CA = pd.DataFrame(CA)\r\n",
    "\r\n",
    "CA = CA.groupby(['E']).size()\r\n",
    "CA = pd.DataFrame(CA)\r\n",
    "CA.rename({0:'nominations'},axis = 'columns', inplace = True)\r\n",
    "CA.sort_values(by=['nominations'], ascending = False)"
   ]
  },
  {
   "cell_type": "markdown",
   "metadata": {},
   "source": [
    "Family/E10+ Game Contenders\r\n",
    " - Animal Crossing: New Horizons\r\n",
    " - Fall Guys\r\n",
    " - Ori and the Will of the Wisp\r\n",
    "\r\n",
    "\r\n",
    "---"
   ]
  },
  {
   "cell_type": "markdown",
   "metadata": {},
   "source": [
    "## Best Remake/Remaster of 2020"
   ]
  },
  {
   "cell_type": "code",
   "execution_count": 133,
   "metadata": {},
   "outputs": [
    {
     "data": {
      "text/html": "<div>\n<style scoped>\n    .dataframe tbody tr th:only-of-type {\n        vertical-align: middle;\n    }\n\n    .dataframe tbody tr th {\n        vertical-align: top;\n    }\n\n    .dataframe thead th {\n        text-align: right;\n    }\n</style>\n<table border=\"1\" class=\"dataframe\">\n  <thead>\n    <tr style=\"text-align: right;\">\n      <th></th>\n      <th>nominations</th>\n    </tr>\n    <tr>\n      <th>Re</th>\n      <th></th>\n    </tr>\n  </thead>\n  <tbody>\n    <tr>\n      <th>destroy all humans</th>\n      <td>3</td>\n    </tr>\n    <tr>\n      <th>final fantasy vii</th>\n      <td>3</td>\n    </tr>\n    <tr>\n      <th>kingdoms of amalur re-reckoning</th>\n      <td>2</td>\n    </tr>\n    <tr>\n      <th>mafia 2</th>\n      <td>2</td>\n    </tr>\n    <tr>\n      <th>resident evil 3</th>\n      <td>2</td>\n    </tr>\n    <tr>\n      <th>demon souls</th>\n      <td>1</td>\n    </tr>\n    <tr>\n      <th>mafia definitive edition</th>\n      <td>1</td>\n    </tr>\n    <tr>\n      <th>pikmin 3 deluxe</th>\n      <td>1</td>\n    </tr>\n    <tr>\n      <th>super mario 3d all-stars</th>\n      <td>1</td>\n    </tr>\n  </tbody>\n</table>\n</div>",
      "text/plain": "                                 nominations\nRe                                          \ndestroy all humans                         3\nfinal fantasy vii                          3\nkingdoms of amalur re-reckoning            2\nmafia 2                                    2\nresident evil 3                            2\ndemon souls                                1\nmafia definitive edition                   1\npikmin 3 deluxe                            1\nsuper mario 3d all-stars                   1"
     },
     "execution_count": 133,
     "metadata": {},
     "output_type": "execute_result"
    }
   ],
   "source": [
    "CA = pd.DataFrame(CRe.copy())\r\n",
    "\r\n",
    "gameDic = {'valhalla':'assassins creed valhalla',\r\n",
    "            'new horizons':'animal crossing new horizons',\r\n",
    "            'animal crossing':'animal crossing new horizons',\r\n",
    "            'jedi':'star wars jedi fallen order',\r\n",
    "            'fallen order':'star wars jedi fallen order',\r\n",
    "            'pokemon':'pokemon sword/shield',\r\n",
    "            'hades':'hades',\r\n",
    "            'streets of rage':'streets of rage 4',\r\n",
    "            'final fantasy':'final fantasy vii',\r\n",
    "            'death stranding':'death stranding',\r\n",
    "            'last of us':'the last of us part 2',\r\n",
    "            'phasm':'phasmaphobia',\r\n",
    "            'fall':'fall guys',\r\n",
    "            'cod':'call of duty modern warfare',\r\n",
    "            'd2':'destiny 2',\r\n",
    "            'destiny':'destiny 2',\r\n",
    "            'apex':'apex legends',\r\n",
    "            'fortnight':'fortnite',\r\n",
    "            'ori':'ori and the will of the wisps',\r\n",
    "            'flight sim':'Microsoft Flight Simulator',\r\n",
    "            'fifa':'fifa 21',\r\n",
    "            'ff7':'final fantasy vii',\r\n",
    "            'amalur':'kingdoms of amalur re-reckoning',\r\n",
    "            're3':'resident evil 3',\r\n",
    "            'mafia ii':'mafia 2',\r\n",
    "            'mafia 2':'mafia 2'\r\n",
    "            }\r\n",
    "\r\n",
    "\r\n",
    "CA['Re'] = CA['Re'].apply(simplify,args = (gameDic,))\r\n",
    "CA = pd.DataFrame(CA)\r\n",
    "\r\n",
    "CA = CA.groupby(['Re']).size()\r\n",
    "CA = pd.DataFrame(CA)\r\n",
    "CA.rename({0:'nominations'},axis = 'columns', inplace = True)\r\n",
    "CA.sort_values(by=['nominations'], ascending = False)"
   ]
  },
  {
   "cell_type": "markdown",
   "metadata": {},
   "source": [
    "Remake/Remaster contenders\r\n",
    " - Destroy All Humans\r\n",
    " - Final Fantasy VII\r\n",
    " - Kingdoms of Amalur Re-Reckoning\r\n",
    " - Mafia 2\r\n",
    " - Resident Evil 3\r\n",
    "\r\n",
    "\r\n",
    "---"
   ]
  },
  {
   "cell_type": "markdown",
   "metadata": {},
   "source": [
    "## Best Game by an Indie Game Studio of 2020"
   ]
  },
  {
   "cell_type": "code",
   "execution_count": 135,
   "metadata": {},
   "outputs": [
    {
     "data": {
      "text/html": "<div>\n<style scoped>\n    .dataframe tbody tr th:only-of-type {\n        vertical-align: middle;\n    }\n\n    .dataframe tbody tr th {\n        vertical-align: top;\n    }\n\n    .dataframe thead th {\n        text-align: right;\n    }\n</style>\n<table border=\"1\" class=\"dataframe\">\n  <thead>\n    <tr style=\"text-align: right;\">\n      <th></th>\n      <th>nominations</th>\n    </tr>\n    <tr>\n      <th>Indie</th>\n      <th></th>\n    </tr>\n  </thead>\n  <tbody>\n    <tr>\n      <th>fall guys</th>\n      <td>5</td>\n    </tr>\n    <tr>\n      <th>hades</th>\n      <td>3</td>\n    </tr>\n    <tr>\n      <th>carrion 2</th>\n      <td>2</td>\n    </tr>\n    <tr>\n      <th>phasmaphobia</th>\n      <td>2</td>\n    </tr>\n    <tr>\n      <th>among us</th>\n      <td>1</td>\n    </tr>\n    <tr>\n      <th>spelunky 2</th>\n      <td>1</td>\n    </tr>\n    <tr>\n      <th>spiritfarer</th>\n      <td>1</td>\n    </tr>\n    <tr>\n      <th>streets of rage 4</th>\n      <td>1</td>\n    </tr>\n  </tbody>\n</table>\n</div>",
      "text/plain": "                   nominations\nIndie                         \nfall guys                    5\nhades                        3\ncarrion 2                    2\nphasmaphobia                 2\namong us                     1\nspelunky 2                   1\nspiritfarer                  1\nstreets of rage 4            1"
     },
     "execution_count": 135,
     "metadata": {},
     "output_type": "execute_result"
    }
   ],
   "source": [
    "CA = pd.DataFrame(CIndi.copy())\r\n",
    "\r\n",
    "gameDic = {'valhalla':'assassins creed valhalla',\r\n",
    "            'new horizons':'animal crossing new horizons',\r\n",
    "            'animal crossing':'animal crossing new horizons',\r\n",
    "            'jedi':'star wars jedi fallen order',\r\n",
    "            'fallen order':'star wars jedi fallen order',\r\n",
    "            'pokemon':'pokemon sword/shield',\r\n",
    "            'hades':'hades',\r\n",
    "            'streets of rage':'streets of rage 4',\r\n",
    "            'final fantasy':'final fantasy vii',\r\n",
    "            'death stranding':'death stranding',\r\n",
    "            'last of us':'the last of us part 2',\r\n",
    "            'phasm':'phasmaphobia',\r\n",
    "            'fall':'fall guys',\r\n",
    "            'cod':'call of duty modern warfare',\r\n",
    "            'd2':'destiny 2',\r\n",
    "            'destiny':'destiny 2',\r\n",
    "            'apex':'apex legends',\r\n",
    "            'fortnight':'fortnite',\r\n",
    "            'ori':'ori and the will of the wisps',\r\n",
    "            'flight sim':'Microsoft Flight Simulator',\r\n",
    "            'fifa':'fifa 21',\r\n",
    "            'ff7':'final fantasy vii',\r\n",
    "            'amalur':'kingdoms of amalur re-reckoning',\r\n",
    "            're3':'resident evil 3',\r\n",
    "            'mafia ii':'mafia 2',\r\n",
    "            'mafia 2':'mafia 2',\r\n",
    "            'carr':'carrion 2'\r\n",
    "            }\r\n",
    "\r\n",
    "\r\n",
    "CA['Indie'] = CA['Indie'].apply(simplify,args = (gameDic,))\r\n",
    "CA = pd.DataFrame(CA)\r\n",
    "\r\n",
    "CA = CA.groupby(['Indie']).size()\r\n",
    "CA = pd.DataFrame(CA)\r\n",
    "CA.rename({0:'nominations'},axis = 'columns', inplace = True)\r\n",
    "CA.sort_values(by=['nominations'], ascending = False)"
   ]
  },
  {
   "cell_type": "markdown",
   "metadata": {},
   "source": [
    "Best Game by an Indie Game Studio Contenders:\r\n",
    " - Fall Guys\r\n",
    " - Hades\r\n",
    " - Carrion 2\r\n",
    " - Phasmaphobia\r\n",
    "\r\n",
    "\r\n",
    "---"
   ]
  },
  {
   "cell_type": "markdown",
   "metadata": {},
   "source": [
    "## Content Creator of the Year"
   ]
  },
  {
   "cell_type": "code",
   "execution_count": 147,
   "metadata": {},
   "outputs": [
    {
     "data": {
      "text/html": "<div>\n<style scoped>\n    .dataframe tbody tr th:only-of-type {\n        vertical-align: middle;\n    }\n\n    .dataframe tbody tr th {\n        vertical-align: top;\n    }\n\n    .dataframe thead th {\n        text-align: right;\n    }\n</style>\n<table border=\"1\" class=\"dataframe\">\n  <thead>\n    <tr style=\"text-align: right;\">\n      <th></th>\n      <th>nominations</th>\n    </tr>\n    <tr>\n      <th>Creator</th>\n      <th></th>\n    </tr>\n  </thead>\n  <tbody>\n    <tr>\n      <th>unus annus (by markiplier and crankgameplays)</th>\n      <td>2</td>\n    </tr>\n    <tr>\n      <th>timthetatman</th>\n      <td>2</td>\n    </tr>\n    <tr>\n      <th>drlupo</th>\n      <td>2</td>\n    </tr>\n    <tr>\n      <th>anthony_kongphan</th>\n      <td>2</td>\n    </tr>\n    <tr>\n      <th>acie</th>\n      <td>1</td>\n    </tr>\n    <tr>\n      <th>loserfruit</th>\n      <td>1</td>\n    </tr>\n    <tr>\n      <th>valkyrae</th>\n      <td>1</td>\n    </tr>\n    <tr>\n      <th>parttimetriggered</th>\n      <td>1</td>\n    </tr>\n    <tr>\n      <th>middleagedstream</th>\n      <td>1</td>\n    </tr>\n    <tr>\n      <th>huskerrs</th>\n      <td>1</td>\n    </tr>\n    <tr>\n      <th>jacksepticeye</th>\n      <td>1</td>\n    </tr>\n    <tr>\n      <th>exp</th>\n      <td>1</td>\n    </tr>\n    <tr>\n      <th>corpse</th>\n      <td>1</td>\n    </tr>\n    <tr>\n      <th>cohh</th>\n      <td>1</td>\n    </tr>\n    <tr>\n      <th>bloodydrongo</th>\n      <td>1</td>\n    </tr>\n    <tr>\n      <th>bleu</th>\n      <td>1</td>\n    </tr>\n    <tr>\n      <th>yetiup</th>\n      <td>1</td>\n    </tr>\n  </tbody>\n</table>\n</div>",
      "text/plain": "                                               nominations\nCreator                                                   \nunus annus (by markiplier and crankgameplays)            2\ntimthetatman                                             2\ndrlupo                                                   2\nanthony_kongphan                                         2\nacie                                                     1\nloserfruit                                               1\nvalkyrae                                                 1\nparttimetriggered                                        1\nmiddleagedstream                                         1\nhuskerrs                                                 1\njacksepticeye                                            1\nexp                                                      1\ncorpse                                                   1\ncohh                                                     1\nbloodydrongo                                             1\nbleu                                                     1\nyetiup                                                   1"
     },
     "execution_count": 147,
     "metadata": {},
     "output_type": "execute_result"
    }
   ],
   "source": [
    "CA = pd.DataFrame(CCont.copy())\r\n",
    "\r\n",
    "creaDic = {'unus annus':'unus annus (by markiplier and crankgameplays)',\r\n",
    "            'anthony':'anthony_kongphan'\r\n",
    "            }\r\n",
    "\r\n",
    "\r\n",
    "CA['Creator'] = CA['Creator'].apply(simplify,args = (creaDic,))\r\n",
    "CA = pd.DataFrame(CA)\r\n",
    "\r\n",
    "CA = CA.groupby(['Creator']).size()\r\n",
    "CA = pd.DataFrame(CA)\r\n",
    "CA.rename({0:'nominations'},axis = 'columns', inplace = True)\r\n",
    "CA.sort_values(by=['nominations'], ascending = False)"
   ]
  },
  {
   "cell_type": "markdown",
   "metadata": {},
   "source": [
    "Content Creator of the Year Contenders:\r\n",
    " - Unus Annus by Markiplier and CrankGamePlays\r\n",
    " - TimTheTatman\r\n",
    " - DrLupo\r\n",
    " - Anthony_Kongphan\r\n",
    "\r\n",
    "\r\n",
    "---"
   ]
  },
  {
   "cell_type": "markdown",
   "metadata": {},
   "source": [
    "## THE QUINQUO!! Games of 2020"
   ]
  },
  {
   "cell_type": "markdown",
   "metadata": {},
   "source": [
    "### The Quinquo Game of the Year 2020"
   ]
  },
  {
   "cell_type": "code",
   "execution_count": 156,
   "metadata": {},
   "outputs": [
    {
     "data": {
      "text/html": "<div>\n<style scoped>\n    .dataframe tbody tr th:only-of-type {\n        vertical-align: middle;\n    }\n\n    .dataframe tbody tr th {\n        vertical-align: top;\n    }\n\n    .dataframe thead th {\n        text-align: right;\n    }\n</style>\n<table border=\"1\" class=\"dataframe\">\n  <thead>\n    <tr style=\"text-align: right;\">\n      <th></th>\n      <th>nominations</th>\n    </tr>\n    <tr>\n      <th>GOTY</th>\n      <th></th>\n    </tr>\n  </thead>\n  <tbody>\n    <tr>\n      <th>marvels spider-man</th>\n      <td>3</td>\n    </tr>\n    <tr>\n      <th>the last of us part 1</th>\n      <td>2</td>\n    </tr>\n    <tr>\n      <th>gears 5</th>\n      <td>2</td>\n    </tr>\n    <tr>\n      <th>little misfortune</th>\n      <td>1</td>\n    </tr>\n    <tr>\n      <th>super mario maker 2</th>\n      <td>1</td>\n    </tr>\n    <tr>\n      <th>sherlock holmes the devil's daughter</th>\n      <td>1</td>\n    </tr>\n    <tr>\n      <th>sekiro shadows die twice</th>\n      <td>1</td>\n    </tr>\n    <tr>\n      <th>ori and the will of the wisps</th>\n      <td>1</td>\n    </tr>\n    <tr>\n      <th>nier automata</th>\n      <td>1</td>\n    </tr>\n    <tr>\n      <th>a plague tale innocence</th>\n      <td>1</td>\n    </tr>\n    <tr>\n      <th>a way out</th>\n      <td>1</td>\n    </tr>\n    <tr>\n      <th>god of war</th>\n      <td>1</td>\n    </tr>\n    <tr>\n      <th>ghost of tsushima</th>\n      <td>1</td>\n    </tr>\n    <tr>\n      <th>far cry 5</th>\n      <td>1</td>\n    </tr>\n    <tr>\n      <th>control</th>\n      <td>1</td>\n    </tr>\n    <tr>\n      <th>captain toad treasure tracker</th>\n      <td>1</td>\n    </tr>\n    <tr>\n      <th>assassins creed odyssey</th>\n      <td>1</td>\n    </tr>\n    <tr>\n      <th>hellblade</th>\n      <td>1</td>\n    </tr>\n  </tbody>\n</table>\n</div>",
      "text/plain": "                                      nominations\nGOTY                                             \nmarvels spider-man                              3\nthe last of us part 1                           2\ngears 5                                         2\nlittle misfortune                               1\nsuper mario maker 2                             1\nsherlock holmes the devil's daughter            1\nsekiro shadows die twice                        1\nori and the will of the wisps                   1\nnier automata                                   1\na plague tale innocence                         1\na way out                                       1\ngod of war                                      1\nghost of tsushima                               1\nfar cry 5                                       1\ncontrol                                         1\ncaptain toad treasure tracker                   1\nassassins creed odyssey                         1\nhellblade                                       1"
     },
     "execution_count": 156,
     "metadata": {},
     "output_type": "execute_result"
    }
   ],
   "source": [
    "CA = pd.DataFrame(QGOTY.copy())\r\n",
    "\r\n",
    "quinDic = {'valhalla':'assassins creed valhalla',\r\n",
    "            'new horizons':'animal crossing new horizons',\r\n",
    "            'animal crossing':'animal crossing new horizons',\r\n",
    "            'jedi':'star wars jedi fallen order',\r\n",
    "            'fallen order':'star wars jedi fallen order',\r\n",
    "            'pokemon':'pokemon sword/shield',\r\n",
    "            'hades':'hades',\r\n",
    "            'streets of rage':'streets of rage 4',\r\n",
    "            'final fantasy':'final fantasy vii',\r\n",
    "            'death stranding':'death stranding',\r\n",
    "            'last of us':'the last of us part 1',\r\n",
    "            'phasm':'phasmaphobia',\r\n",
    "            'fall':'fall guys',\r\n",
    "            'cod':'call of duty modern warfare',\r\n",
    "            'd2':'destiny 2',\r\n",
    "            'destiny':'destiny 2',\r\n",
    "            'apex':'apex legends',\r\n",
    "            'fortnight':'fortnite',\r\n",
    "            'ori':'ori and the will of the wisps',\r\n",
    "            'flight sim':'Microsoft Flight Simulator',\r\n",
    "            'fifa':'fifa 21',\r\n",
    "            'ff7':'final fantasy vii',\r\n",
    "            'amalur':'kingdoms of amalur re-reckoning',\r\n",
    "            're3':'resident evil 3',\r\n",
    "            'mafia ii':'mafia 2',\r\n",
    "            'mafia 2':'mafia 2',\r\n",
    "            'carr':'carrion 2',\r\n",
    "            'spider':'marvels spider-man',\r\n",
    "            'gears 5':'gears 5'\r\n",
    "\r\n",
    "            }\r\n",
    "\r\n",
    "\r\n",
    "CA['GOTY'] = CA['GOTY'].apply(simplify,args = (quinDic,))\r\n",
    "CA = pd.DataFrame(CA)\r\n",
    "\r\n",
    "CA = CA.groupby(['GOTY']).size()\r\n",
    "CA = pd.DataFrame(CA)\r\n",
    "CA.rename({0:'nominations'},axis = 'columns', inplace = True)\r\n",
    "CA.sort_values(by=['nominations'], ascending = False)"
   ]
  },
  {
   "cell_type": "markdown",
   "metadata": {},
   "source": [
    "\r\n",
    "Quinquo GOTY Contenders:\r\n",
    " - Marvel's Spider-man\r\n",
    " - The Last of Us Part 1\r\n",
    " - Gears 5\r\n",
    "\r\n",
    "---"
   ]
  },
  {
   "cell_type": "markdown",
   "metadata": {},
   "source": [
    "### The Quinquo Performance of the Year 2020"
   ]
  },
  {
   "cell_type": "code",
   "execution_count": 161,
   "metadata": {},
   "outputs": [
    {
     "data": {
      "text/html": "<div>\n<style scoped>\n    .dataframe tbody tr th:only-of-type {\n        vertical-align: middle;\n    }\n\n    .dataframe tbody tr th {\n        vertical-align: top;\n    }\n\n    .dataframe thead th {\n        text-align: right;\n    }\n</style>\n<table border=\"1\" class=\"dataframe\">\n  <thead>\n    <tr style=\"text-align: right;\">\n      <th></th>\n      <th>nominations</th>\n    </tr>\n    <tr>\n      <th>Performance</th>\n      <th></th>\n    </tr>\n  </thead>\n  <tbody>\n    <tr>\n      <th>ashley johnson as ellie from the last of us part 1</th>\n      <td>3</td>\n    </tr>\n    <tr>\n      <th>laura bailey as kait diaz from gears 5</th>\n      <td>3</td>\n    </tr>\n    <tr>\n      <th>andrew lackey as ori from ori and the blind forest</th>\n      <td>2</td>\n    </tr>\n    <tr>\n      <th>troy baker as joel from the last of us part 1</th>\n      <td>2</td>\n    </tr>\n    <tr>\n      <th>2b from nier automata</th>\n      <td>1</td>\n    </tr>\n    <tr>\n      <th>lara croft from shadow of the tomb raider</th>\n      <td>1</td>\n    </tr>\n    <tr>\n      <th>senua from hellblade senua's sacrifice</th>\n      <td>1</td>\n    </tr>\n    <tr>\n      <th>mj - spiderman</th>\n      <td>1</td>\n    </tr>\n    <tr>\n      <th>misfortune ramirez hernandez (natalia martinsson)</th>\n      <td>1</td>\n    </tr>\n    <tr>\n      <th>joesph seed (greg bryk)</th>\n      <td>1</td>\n    </tr>\n    <tr>\n      <th>kassandra from ac odyssey</th>\n      <td>1</td>\n    </tr>\n    <tr>\n      <th>amicia - plague tale</th>\n      <td>1</td>\n    </tr>\n    <tr>\n      <th>jesse (control)</th>\n      <td>1</td>\n    </tr>\n    <tr>\n      <th>jeremy davies as baldur gow</th>\n      <td>1</td>\n    </tr>\n    <tr>\n      <th>elizabeth grullon as trilla from star wars jedi fallen order</th>\n      <td>1</td>\n    </tr>\n    <tr>\n      <th>dr. otto octavius from spider-man</th>\n      <td>1</td>\n    </tr>\n    <tr>\n      <th>yuri lowenthal (spider-man)</th>\n      <td>1</td>\n    </tr>\n  </tbody>\n</table>\n</div>",
      "text/plain": "                                                    nominations\nPerformance                                                    \nashley johnson as ellie from the last of us part 1            3\nlaura bailey as kait diaz from gears 5                        3\nandrew lackey as ori from ori and the blind forest            2\ntroy baker as joel from the last of us part 1                 2\n2b from nier automata                                         1\nlara croft from shadow of the tomb raider                     1\nsenua from hellblade senua's sacrifice                        1\nmj - spiderman                                                1\nmisfortune ramirez hernandez (natalia martinsson)             1\njoesph seed (greg bryk)                                       1\nkassandra from ac odyssey                                     1\namicia - plague tale                                          1\njesse (control)                                               1\njeremy davies as baldur gow                                   1\nelizabeth grullon as trilla from star wars jedi...            1\ndr. otto octavius from spider-man                             1\nyuri lowenthal (spider-man)                                   1"
     },
     "execution_count": 161,
     "metadata": {},
     "output_type": "execute_result"
    }
   ],
   "source": [
    "CA = pd.DataFrame(QPerf.copy())\r\n",
    "\r\n",
    "qperfDic = {'abby':'laura bailey as abby anderson from the last of us part 2',\r\n",
    "            'ellie':'ashley johnson as ellie from the last of us part 1',\r\n",
    "            'bruce banner':'troy baker as bruce banner from marvels avengers',\r\n",
    "            'tommy angelo':'andrew bongiorno as tommy angelo from mafia definitive edition',\r\n",
    "            'tom nook':'tom nook as tom nook from animal crossing new horizons',\r\n",
    "            'ori':'andrew lackey as ori from ori and the blind forest',\r\n",
    "            'kamala khan':'sandra saad as kamala khan in marvels avengers',\r\n",
    "            'isabelle':'isabelle as isabelle from animal crossing new horizons',\r\n",
    "            'trilla':'elizabeth grullon as trilla from star wars jedi fallen order',\r\n",
    "            'mikayla':'debra wilson as mikayla dorn from gears tactics',\r\n",
    "            'cere':'debra wilson as cere from star wars jedi fallen order',\r\n",
    "            'zagreus':'darren korb as zagreus from hades',\r\n",
    "            'captain price':'barry sloan as captain price from modern warfare',\r\n",
    "            'cal':'cameron monaghan as cal kestis from star wars jedi fallen order',\r\n",
    "            'hades':'logan cunningham as lord hades from hades',\r\n",
    "            'kait':'laura bailey as kait diaz from gears 5',\r\n",
    "            'joel':'troy baker as joel from the last of us part 1'}\r\n",
    "\r\n",
    "\r\n",
    "CA['Performance'] = CA['Performance'].apply(simplify,args = (qperfDic,))\r\n",
    "CA = pd.DataFrame(CA)\r\n",
    "\r\n",
    "CA = CA.groupby(['Performance']).size()\r\n",
    "CA = pd.DataFrame(CA)\r\n",
    "CA.rename({0:'nominations'},axis = 'columns', inplace = True)\r\n",
    "CA.sort_values(by=['nominations'], ascending = False)"
   ]
  },
  {
   "cell_type": "markdown",
   "metadata": {},
   "source": [
    "The Quinquo Performance contenders:\r\n",
    " - Ashley Johnson as Ellie from The Last of Us Part 1\r\n",
    " - Laura Bailey as Kait Diaz from Gears 5\r\n",
    " - Andrew Lackey as Ori from Ori and the Blind Forest\r\n",
    " - Troy Baker as Joel from The Last of Us Part 1\r\n",
    "\r\n",
    "\r\n",
    "---"
   ]
  },
  {
   "cell_type": "markdown",
   "metadata": {},
   "source": [
    "### The Quinquo Best Music of 2020"
   ]
  },
  {
   "cell_type": "code",
   "execution_count": 163,
   "metadata": {},
   "outputs": [
    {
     "data": {
      "text/html": "<div>\n<style scoped>\n    .dataframe tbody tr th:only-of-type {\n        vertical-align: middle;\n    }\n\n    .dataframe tbody tr th {\n        vertical-align: top;\n    }\n\n    .dataframe thead th {\n        text-align: right;\n    }\n</style>\n<table border=\"1\" class=\"dataframe\">\n  <thead>\n    <tr style=\"text-align: right;\">\n      <th></th>\n      <th>nominations</th>\n    </tr>\n    <tr>\n      <th>Music</th>\n      <th></th>\n    </tr>\n  </thead>\n  <tbody>\n    <tr>\n      <th>ori and the blind forest</th>\n      <td>3</td>\n    </tr>\n    <tr>\n      <th>marvels spider-man</th>\n      <td>2</td>\n    </tr>\n    <tr>\n      <th>a plague tale innocence</th>\n      <td>1</td>\n    </tr>\n    <tr>\n      <th>ac odyssey</th>\n      <td>1</td>\n    </tr>\n    <tr>\n      <th>animal crossing new horizons</th>\n      <td>1</td>\n    </tr>\n    <tr>\n      <th>destiny 2</th>\n      <td>1</td>\n    </tr>\n    <tr>\n      <th>devil may cry 5</th>\n      <td>1</td>\n    </tr>\n    <tr>\n      <th>gears 5</th>\n      <td>1</td>\n    </tr>\n    <tr>\n      <th>god of war</th>\n      <td>1</td>\n    </tr>\n    <tr>\n      <th>hades</th>\n      <td>1</td>\n    </tr>\n    <tr>\n      <th>hellblade</th>\n      <td>1</td>\n    </tr>\n    <tr>\n      <th>hellblade senua's sacrifice</th>\n      <td>1</td>\n    </tr>\n    <tr>\n      <th>metro exodus</th>\n      <td>1</td>\n    </tr>\n    <tr>\n      <th>nier automata</th>\n      <td>1</td>\n    </tr>\n    <tr>\n      <th>super smash bros ultimate</th>\n      <td>1</td>\n    </tr>\n  </tbody>\n</table>\n</div>",
      "text/plain": "                              nominations\nMusic                                    \nori and the blind forest                3\nmarvels spider-man                      2\na plague tale innocence                 1\nac odyssey                              1\nanimal crossing new horizons            1\ndestiny 2                               1\ndevil may cry 5                         1\ngears 5                                 1\ngod of war                              1\nhades                                   1\nhellblade                               1\nhellblade senua's sacrifice             1\nmetro exodus                            1\nnier automata                           1\nsuper smash bros ultimate               1"
     },
     "execution_count": 163,
     "metadata": {},
     "output_type": "execute_result"
    }
   ],
   "source": [
    "CA = pd.DataFrame(QMusi.copy())\r\n",
    "\r\n",
    "quinDic = {'valhalla':'assassins creed valhalla',\r\n",
    "            'new horizons':'animal crossing new horizons',\r\n",
    "            'animal crossing':'animal crossing new horizons',\r\n",
    "            'jedi':'star wars jedi fallen order',\r\n",
    "            'fallen order':'star wars jedi fallen order',\r\n",
    "            'pokemon':'pokemon sword/shield',\r\n",
    "            'hades':'hades',\r\n",
    "            'streets of rage':'streets of rage 4',\r\n",
    "            'final fantasy':'final fantasy vii',\r\n",
    "            'death stranding':'death stranding',\r\n",
    "            'last of us':'the last of us part 1',\r\n",
    "            'phasm':'phasmaphobia',\r\n",
    "            'fall':'fall guys',\r\n",
    "            'cod':'call of duty modern warfare',\r\n",
    "            'd2':'destiny 2',\r\n",
    "            'destiny':'destiny 2',\r\n",
    "            'apex':'apex legends',\r\n",
    "            'fortnight':'fortnite',\r\n",
    "            'ori':'ori and the blind forest',\r\n",
    "            'flight sim':'Microsoft Flight Simulator',\r\n",
    "            'fifa':'fifa 20',\r\n",
    "            'ff7':'final fantasy vii',\r\n",
    "            'amalur':'kingdoms of amalur re-reckoning',\r\n",
    "            're3':'resident evil 3',\r\n",
    "            'mafia ii':'mafia 2',\r\n",
    "            'mafia 2':'mafia 2',\r\n",
    "            'carr':'carrion 2',\r\n",
    "            'spider':'marvels spider-man',\r\n",
    "            'gears 5':'gears 5'\r\n",
    "\r\n",
    "            }\r\n",
    "\r\n",
    "\r\n",
    "CA['Music'] = CA['Music'].apply(simplify,args = (quinDic,))\r\n",
    "CA = pd.DataFrame(CA)\r\n",
    "\r\n",
    "CA = CA.groupby(['Music']).size()\r\n",
    "CA = pd.DataFrame(CA)\r\n",
    "CA.rename({0:'nominations'},axis = 'columns', inplace = True)\r\n",
    "CA.sort_values(by=['nominations'], ascending = False)"
   ]
  },
  {
   "cell_type": "markdown",
   "metadata": {},
   "source": [
    "Best Quinquo Music contenders:\r\n",
    " - Ori and the Blind Forest\r\n",
    " - Marvel's Spider-man\r\n",
    "\r\n",
    "\r\n",
    "---"
   ]
  },
  {
   "cell_type": "markdown",
   "metadata": {},
   "source": [
    "### The Quinquo Best Art of 2020"
   ]
  },
  {
   "cell_type": "code",
   "execution_count": 164,
   "metadata": {},
   "outputs": [
    {
     "data": {
      "text/html": "<div>\n<style scoped>\n    .dataframe tbody tr th:only-of-type {\n        vertical-align: middle;\n    }\n\n    .dataframe tbody tr th {\n        vertical-align: top;\n    }\n\n    .dataframe thead th {\n        text-align: right;\n    }\n</style>\n<table border=\"1\" class=\"dataframe\">\n  <thead>\n    <tr style=\"text-align: right;\">\n      <th></th>\n      <th>nominations</th>\n    </tr>\n    <tr>\n      <th>Art</th>\n      <th></th>\n    </tr>\n  </thead>\n  <tbody>\n    <tr>\n      <th>ori and the blind forest</th>\n      <td>3</td>\n    </tr>\n    <tr>\n      <th>marvels spider-man</th>\n      <td>2</td>\n    </tr>\n    <tr>\n      <th>ac odyssey</th>\n      <td>1</td>\n    </tr>\n    <tr>\n      <th>sekiro shadows die twice</th>\n      <td>1</td>\n    </tr>\n    <tr>\n      <th>sea of solitude</th>\n      <td>1</td>\n    </tr>\n    <tr>\n      <th>no man's sky</th>\n      <td>1</td>\n    </tr>\n    <tr>\n      <th>nier automata</th>\n      <td>1</td>\n    </tr>\n    <tr>\n      <th>natalia martinsson (little misfortune)</th>\n      <td>1</td>\n    </tr>\n    <tr>\n      <th>legend of zelda links awakening</th>\n      <td>1</td>\n    </tr>\n    <tr>\n      <th>dead cells</th>\n      <td>1</td>\n    </tr>\n    <tr>\n      <th>jean alexis doyan (far cry 5)</th>\n      <td>1</td>\n    </tr>\n    <tr>\n      <th>hellblade</th>\n      <td>1</td>\n    </tr>\n    <tr>\n      <th>god of war</th>\n      <td>1</td>\n    </tr>\n    <tr>\n      <th>ghost of tsushima</th>\n      <td>1</td>\n    </tr>\n    <tr>\n      <th>gears 5</th>\n      <td>1</td>\n    </tr>\n    <tr>\n      <th>death stranding</th>\n      <td>1</td>\n    </tr>\n    <tr>\n      <th>yuri adachi daiki nishioka keisuke okubo (captain toad treasure tracker)</th>\n      <td>1</td>\n    </tr>\n  </tbody>\n</table>\n</div>",
      "text/plain": "                                                    nominations\nArt                                                            \nori and the blind forest                                      3\nmarvels spider-man                                            2\nac odyssey                                                    1\nsekiro shadows die twice                                      1\nsea of solitude                                               1\nno man's sky                                                  1\nnier automata                                                 1\nnatalia martinsson (little misfortune)                        1\nlegend of zelda links awakening                               1\ndead cells                                                    1\njean alexis doyan (far cry 5)                                 1\nhellblade                                                     1\ngod of war                                                    1\nghost of tsushima                                             1\ngears 5                                                       1\ndeath stranding                                               1\nyuri adachi daiki nishioka keisuke okubo (capta...            1"
     },
     "execution_count": 164,
     "metadata": {},
     "output_type": "execute_result"
    }
   ],
   "source": [
    "CA = pd.DataFrame(QArt.copy())\r\n",
    "\r\n",
    "quinDic = {'valhalla':'assassins creed valhalla',\r\n",
    "            'new horizons':'animal crossing new horizons',\r\n",
    "            'animal crossing':'animal crossing new horizons',\r\n",
    "            'jedi':'star wars jedi fallen order',\r\n",
    "            'fallen order':'star wars jedi fallen order',\r\n",
    "            'pokemon':'pokemon sword/shield',\r\n",
    "            'hades':'hades',\r\n",
    "            'streets of rage':'streets of rage 4',\r\n",
    "            'final fantasy':'final fantasy vii',\r\n",
    "            'death stranding':'death stranding',\r\n",
    "            'last of us':'the last of us part 1',\r\n",
    "            'phasm':'phasmaphobia',\r\n",
    "            'fall':'fall guys',\r\n",
    "            'cod':'call of duty modern warfare',\r\n",
    "            'd2':'destiny 2',\r\n",
    "            'destiny':'destiny 2',\r\n",
    "            'apex':'apex legends',\r\n",
    "            'fortnight':'fortnite',\r\n",
    "            'ori':'ori and the blind forest',\r\n",
    "            'flight sim':'Microsoft Flight Simulator',\r\n",
    "            'fifa':'fifa 20',\r\n",
    "            'ff7':'final fantasy vii',\r\n",
    "            'amalur':'kingdoms of amalur re-reckoning',\r\n",
    "            're3':'resident evil 3',\r\n",
    "            'mafia ii':'mafia 2',\r\n",
    "            'mafia 2':'mafia 2',\r\n",
    "            'carr':'carrion 2',\r\n",
    "            'spider':'marvels spider-man',\r\n",
    "            'gears 5':'gears 5'\r\n",
    "\r\n",
    "            }\r\n",
    "\r\n",
    "\r\n",
    "CA['Art'] = CA['Art'].apply(simplify,args = (quinDic,))\r\n",
    "CA = pd.DataFrame(CA)\r\n",
    "\r\n",
    "CA = CA.groupby(['Art']).size()\r\n",
    "CA = pd.DataFrame(CA)\r\n",
    "CA.rename({0:'nominations'},axis = 'columns', inplace = True)\r\n",
    "CA.sort_values(by=['nominations'], ascending = False)"
   ]
  },
  {
   "cell_type": "markdown",
   "metadata": {},
   "source": [
    "Best Quinquo Art contenders:\r\n",
    " - Ori and the Blind Forest\r\n",
    " - Marvel's Spider-man\r\n",
    "\r\n",
    "\r\n",
    "---"
   ]
  },
  {
   "cell_type": "markdown",
   "metadata": {},
   "source": [
    "### The Quinquo Best Narrative Game of 2020"
   ]
  },
  {
   "cell_type": "code",
   "execution_count": 168,
   "metadata": {},
   "outputs": [
    {
     "data": {
      "text/html": "<div>\n<style scoped>\n    .dataframe tbody tr th:only-of-type {\n        vertical-align: middle;\n    }\n\n    .dataframe tbody tr th {\n        vertical-align: top;\n    }\n\n    .dataframe thead th {\n        text-align: right;\n    }\n</style>\n<table border=\"1\" class=\"dataframe\">\n  <thead>\n    <tr style=\"text-align: right;\">\n      <th></th>\n      <th>nominations</th>\n    </tr>\n    <tr>\n      <th>Narrative</th>\n      <th></th>\n    </tr>\n  </thead>\n  <tbody>\n    <tr>\n      <th>ori and the blind forest</th>\n      <td>3</td>\n    </tr>\n    <tr>\n      <th>hellblade senuas sacrifice</th>\n      <td>2</td>\n    </tr>\n    <tr>\n      <th>the last of us part 1</th>\n      <td>2</td>\n    </tr>\n    <tr>\n      <th>control</th>\n      <td>1</td>\n    </tr>\n    <tr>\n      <th>far cry 5</th>\n      <td>1</td>\n    </tr>\n    <tr>\n      <th>far cry new dawn</th>\n      <td>1</td>\n    </tr>\n    <tr>\n      <th>gears 5</th>\n      <td>1</td>\n    </tr>\n    <tr>\n      <th>ghost of tsushima</th>\n      <td>1</td>\n    </tr>\n    <tr>\n      <th>ac odyssey</th>\n      <td>1</td>\n    </tr>\n    <tr>\n      <th>little misfortune</th>\n      <td>1</td>\n    </tr>\n    <tr>\n      <th>marvels spider-man</th>\n      <td>1</td>\n    </tr>\n    <tr>\n      <th>metro exodus</th>\n      <td>1</td>\n    </tr>\n    <tr>\n      <th>nier automata</th>\n      <td>1</td>\n    </tr>\n    <tr>\n      <th>afterparty</th>\n      <td>1</td>\n    </tr>\n    <tr>\n      <th>sekiro shadows die twice</th>\n      <td>1</td>\n    </tr>\n    <tr>\n      <th>star wars jedi fallen order</th>\n      <td>1</td>\n    </tr>\n    <tr>\n      <th>a plague tale</th>\n      <td>1</td>\n    </tr>\n  </tbody>\n</table>\n</div>",
      "text/plain": "                             nominations\nNarrative                               \nori and the blind forest               3\nhellblade senuas sacrifice             2\nthe last of us part 1                  2\ncontrol                                1\nfar cry 5                              1\nfar cry new dawn                       1\ngears 5                                1\nghost of tsushima                      1\nac odyssey                             1\nlittle misfortune                      1\nmarvels spider-man                     1\nmetro exodus                           1\nnier automata                          1\nafterparty                             1\nsekiro shadows die twice               1\nstar wars jedi fallen order            1\na plague tale                          1"
     },
     "execution_count": 168,
     "metadata": {},
     "output_type": "execute_result"
    }
   ],
   "source": [
    "CA = pd.DataFrame(QNar.copy())\r\n",
    "\r\n",
    "quinDic = {'valhalla':'assassins creed valhalla',\r\n",
    "            'new horizons':'animal crossing new horizons',\r\n",
    "            'animal crossing':'animal crossing new horizons',\r\n",
    "            'jedi':'star wars jedi fallen order',\r\n",
    "            'fallen order':'star wars jedi fallen order',\r\n",
    "            'pokemon':'pokemon sword/shield',\r\n",
    "            'hades':'hades',\r\n",
    "            'streets of rage':'streets of rage 4',\r\n",
    "            'final fantasy':'final fantasy vii',\r\n",
    "            'death stranding':'death stranding',\r\n",
    "            'last of us':'the last of us part 1',\r\n",
    "            'phasm':'phasmaphobia',\r\n",
    "            'fall':'fall guys',\r\n",
    "            'cod':'call of duty modern warfare',\r\n",
    "            'd2':'destiny 2',\r\n",
    "            'destiny':'destiny 2',\r\n",
    "            'apex':'apex legends',\r\n",
    "            'fortnight':'fortnite',\r\n",
    "            'ori':'ori and the blind forest',\r\n",
    "            'flight sim':'Microsoft Flight Simulator',\r\n",
    "            'fifa':'fifa 20',\r\n",
    "            'ff7':'final fantasy vii',\r\n",
    "            'amalur':'kingdoms of amalur re-reckoning',\r\n",
    "            're3':'resident evil 3',\r\n",
    "            'mafia ii':'mafia 2',\r\n",
    "            'mafia 2':'mafia 2',\r\n",
    "            'carr':'carrion 2',\r\n",
    "            'spider':'marvels spider-man',\r\n",
    "            'gears 5':'gears 5',\r\n",
    "            'hellblade':'hellblade senuas sacrifice'\r\n",
    "\r\n",
    "            }\r\n",
    "\r\n",
    "\r\n",
    "CA['Narrative'] = CA['Narrative'].apply(simplify,args = (quinDic,))\r\n",
    "CA = pd.DataFrame(CA)\r\n",
    "\r\n",
    "CA = CA.groupby(['Narrative']).size()\r\n",
    "CA = pd.DataFrame(CA)\r\n",
    "CA.rename({0:'nominations'},axis = 'columns', inplace = True)\r\n",
    "CA.sort_values(by=['nominations'], ascending = False)"
   ]
  },
  {
   "cell_type": "markdown",
   "metadata": {},
   "source": [
    "Best Quinquo Narrative contenders:\r\n",
    " - Ori and the Blind Forest\r\n",
    " - Hellblade: Senua's Sacrifice\r\n",
    " - The Last of Us Part 1\r\n",
    "\r\n",
    "\r\n",
    "---"
   ]
  },
  {
   "cell_type": "markdown",
   "metadata": {},
   "source": [
    "### The Quinquo Best Co-op Game of 2020"
   ]
  },
  {
   "cell_type": "code",
   "execution_count": 170,
   "metadata": {},
   "outputs": [
    {
     "data": {
      "text/html": "<div>\n<style scoped>\n    .dataframe tbody tr th:only-of-type {\n        vertical-align: middle;\n    }\n\n    .dataframe tbody tr th {\n        vertical-align: top;\n    }\n\n    .dataframe thead th {\n        text-align: right;\n    }\n</style>\n<table border=\"1\" class=\"dataframe\">\n  <thead>\n    <tr style=\"text-align: right;\">\n      <th></th>\n      <th>nominations</th>\n    </tr>\n    <tr>\n      <th>Co-op</th>\n      <th></th>\n    </tr>\n  </thead>\n  <tbody>\n    <tr>\n      <th>gears 5</th>\n      <td>3</td>\n    </tr>\n    <tr>\n      <th>animal crossing new horizons</th>\n      <td>1</td>\n    </tr>\n    <tr>\n      <th>destiny 2</th>\n      <td>1</td>\n    </tr>\n    <tr>\n      <th>killing floor 2</th>\n      <td>1</td>\n    </tr>\n    <tr>\n      <th>minecraft</th>\n      <td>1</td>\n    </tr>\n    <tr>\n      <th>phasmaphobia</th>\n      <td>1</td>\n    </tr>\n    <tr>\n      <th>star wars squadrons</th>\n      <td>1</td>\n    </tr>\n    <tr>\n      <th>stardew valley</th>\n      <td>1</td>\n    </tr>\n    <tr>\n      <th>world war z</th>\n      <td>1</td>\n    </tr>\n  </tbody>\n</table>\n</div>",
      "text/plain": "                              nominations\nCo-op                                    \ngears 5                                 3\nanimal crossing new horizons            1\ndestiny 2                               1\nkilling floor 2                         1\nminecraft                               1\nphasmaphobia                            1\nstar wars squadrons                     1\nstardew valley                          1\nworld war z                             1"
     },
     "execution_count": 170,
     "metadata": {},
     "output_type": "execute_result"
    }
   ],
   "source": [
    "CA = pd.DataFrame(QCoop.copy())\r\n",
    "\r\n",
    "quinDic = {'valhalla':'assassins creed valhalla',\r\n",
    "            'new horizons':'animal crossing new horizons',\r\n",
    "            'animal crossing':'animal crossing new horizons',\r\n",
    "            'jedi':'star wars jedi fallen order',\r\n",
    "            'fallen order':'star wars jedi fallen order',\r\n",
    "            'pokemon':'pokemon sword/shield',\r\n",
    "            'hades':'hades',\r\n",
    "            'streets of rage':'streets of rage 4',\r\n",
    "            'final fantasy':'final fantasy vii',\r\n",
    "            'death stranding':'death stranding',\r\n",
    "            'last of us':'the last of us part 1',\r\n",
    "            'phasm':'phasmaphobia',\r\n",
    "            'fall':'fall guys',\r\n",
    "            'cod':'call of duty modern warfare',\r\n",
    "            'd2':'destiny 2',\r\n",
    "            'destiny':'destiny 2',\r\n",
    "            'apex':'apex legends',\r\n",
    "            'fortnight':'fortnite',\r\n",
    "            'ori':'ori and the blind forest',\r\n",
    "            'flight sim':'Microsoft Flight Simulator',\r\n",
    "            'fifa':'fifa 20',\r\n",
    "            'ff7':'final fantasy vii',\r\n",
    "            'amalur':'kingdoms of amalur re-reckoning',\r\n",
    "            're3':'resident evil 3',\r\n",
    "            'mafia ii':'mafia 2',\r\n",
    "            'mafia 2':'mafia 2',\r\n",
    "            'carr':'carrion 2',\r\n",
    "            'spider':'marvels spider-man',\r\n",
    "            'gears 5':'gears 5',\r\n",
    "            'hellblade':'hellblade senuas sacrifice'\r\n",
    "\r\n",
    "            }\r\n",
    "\r\n",
    "\r\n",
    "CA['Co-op'] = CA['Co-op'].apply(simplify,args = (quinDic,))\r\n",
    "CA = pd.DataFrame(CA)\r\n",
    "\r\n",
    "CA = CA.groupby(['Co-op']).size()\r\n",
    "CA = pd.DataFrame(CA)\r\n",
    "CA.rename({0:'nominations'},axis = 'columns', inplace = True)\r\n",
    "CA.sort_values(by=['nominations'], ascending = False)"
   ]
  },
  {
   "cell_type": "markdown",
   "metadata": {},
   "source": [
    "As Gears 5 is the only game to recieve multiple nominations in this category, it has won.\r\n",
    "\r\n",
    "Quinquo Best Co-op Game Contenders:\r\n",
    " - Gears 5\r\n",
    "\r\n",
    "\r\n",
    "---"
   ]
  },
  {
   "cell_type": "markdown",
   "metadata": {},
   "source": [
    "### The Quinquo Best Open World Game of 2020"
   ]
  },
  {
   "cell_type": "code",
   "execution_count": 173,
   "metadata": {},
   "outputs": [
    {
     "data": {
      "text/html": "<div>\n<style scoped>\n    .dataframe tbody tr th:only-of-type {\n        vertical-align: middle;\n    }\n\n    .dataframe tbody tr th {\n        vertical-align: top;\n    }\n\n    .dataframe thead th {\n        text-align: right;\n    }\n</style>\n<table border=\"1\" class=\"dataframe\">\n  <thead>\n    <tr style=\"text-align: right;\">\n      <th></th>\n      <th>nominations</th>\n    </tr>\n    <tr>\n      <th>OW</th>\n      <th></th>\n    </tr>\n  </thead>\n  <tbody>\n    <tr>\n      <th>assassins creed odyssey</th>\n      <td>2</td>\n    </tr>\n    <tr>\n      <th>fall guys</th>\n      <td>2</td>\n    </tr>\n    <tr>\n      <th>marvels spider-man</th>\n      <td>2</td>\n    </tr>\n    <tr>\n      <th>ori and the blind forest</th>\n      <td>2</td>\n    </tr>\n    <tr>\n      <th>death stranding</th>\n      <td>1</td>\n    </tr>\n    <tr>\n      <th>far cry 5</th>\n      <td>1</td>\n    </tr>\n    <tr>\n      <th>ghost of tsushima</th>\n      <td>1</td>\n    </tr>\n    <tr>\n      <th>nier automata</th>\n      <td>1</td>\n    </tr>\n    <tr>\n      <th>no man's sky</th>\n      <td>1</td>\n    </tr>\n    <tr>\n      <th>sekiro shadows die twice</th>\n      <td>1</td>\n    </tr>\n    <tr>\n      <th>skyrim</th>\n      <td>1</td>\n    </tr>\n    <tr>\n      <th>xenoblade chronicles definitive edition</th>\n      <td>1</td>\n    </tr>\n  </tbody>\n</table>\n</div>",
      "text/plain": "                                         nominations\nOW                                                  \nassassins creed odyssey                            2\nfall guys                                          2\nmarvels spider-man                                 2\nori and the blind forest                           2\ndeath stranding                                    1\nfar cry 5                                          1\nghost of tsushima                                  1\nnier automata                                      1\nno man's sky                                       1\nsekiro shadows die twice                           1\nskyrim                                             1\nxenoblade chronicles definitive edition            1"
     },
     "execution_count": 173,
     "metadata": {},
     "output_type": "execute_result"
    }
   ],
   "source": [
    "CA = pd.DataFrame(QOW.copy())\r\n",
    "\r\n",
    "quinDic = {'valhalla':'assassins creed valhalla',\r\n",
    "            'new horizons':'animal crossing new horizons',\r\n",
    "            'animal crossing':'animal crossing new horizons',\r\n",
    "            'jedi':'star wars jedi fallen order',\r\n",
    "            'fallen order':'star wars jedi fallen order',\r\n",
    "            'pokemon':'pokemon sword/shield',\r\n",
    "            'hades':'hades',\r\n",
    "            'streets of rage':'streets of rage 4',\r\n",
    "            'final fantasy':'final fantasy vii',\r\n",
    "            'death stranding':'death stranding',\r\n",
    "            'last of us':'the last of us part 1',\r\n",
    "            'phasm':'phasmaphobia',\r\n",
    "            'fall':'fall guys',\r\n",
    "            'cod':'call of duty modern warfare',\r\n",
    "            'd2':'destiny 2',\r\n",
    "            'destiny':'destiny 2',\r\n",
    "            'apex':'apex legends',\r\n",
    "            'fortnight':'fortnite',\r\n",
    "            'ori':'ori and the blind forest',\r\n",
    "            'flight sim':'Microsoft Flight Simulator',\r\n",
    "            'fifa':'fifa 20',\r\n",
    "            'ff7':'final fantasy vii',\r\n",
    "            'amalur':'kingdoms of amalur re-reckoning',\r\n",
    "            're3':'resident evil 3',\r\n",
    "            'mafia ii':'mafia 2',\r\n",
    "            'mafia 2':'mafia 2',\r\n",
    "            'carr':'carrion 2',\r\n",
    "            'spider':'marvels spider-man',\r\n",
    "            'gears 5':'gears 5',\r\n",
    "            'hellblade':'hellblade senuas sacrifice',\r\n",
    "            'odyssey':'assassins creed odyssey'\r\n",
    "            }\r\n",
    "\r\n",
    "\r\n",
    "CA['OW'] = CA['OW'].apply(simplify,args = (quinDic,))\r\n",
    "CA = pd.DataFrame(CA)\r\n",
    "\r\n",
    "CA = CA.groupby(['OW']).size()\r\n",
    "CA = pd.DataFrame(CA)\r\n",
    "CA.rename({0:'nominations'},axis = 'columns', inplace = True)\r\n",
    "CA.sort_values(by=['nominations'], ascending = False)"
   ]
  },
  {
   "cell_type": "markdown",
   "metadata": {},
   "source": [
    "As Fall Guys is not a Open World Game, and also came out in the past year, it is disqualified from this category\r\n",
    "\r\n",
    "Quinquo Open World Game Contenders:\r\n",
    " - Assassins Creed Odyssey\r\n",
    " - Marvel's Spier-Man\r\n",
    " - Ori and the Blind Forest\r\n",
    "\r\n",
    "\r\n",
    "---"
   ]
  },
  {
   "cell_type": "markdown",
   "metadata": {},
   "source": [
    "### The Quinquo Best Action Game of 2020"
   ]
  },
  {
   "cell_type": "code",
   "execution_count": 174,
   "metadata": {},
   "outputs": [
    {
     "data": {
      "text/html": "<div>\n<style scoped>\n    .dataframe tbody tr th:only-of-type {\n        vertical-align: middle;\n    }\n\n    .dataframe tbody tr th {\n        vertical-align: top;\n    }\n\n    .dataframe thead th {\n        text-align: right;\n    }\n</style>\n<table border=\"1\" class=\"dataframe\">\n  <thead>\n    <tr style=\"text-align: right;\">\n      <th></th>\n      <th>nominations</th>\n    </tr>\n    <tr>\n      <th>Action</th>\n      <th></th>\n    </tr>\n  </thead>\n  <tbody>\n    <tr>\n      <th>gears 5</th>\n      <td>2</td>\n    </tr>\n    <tr>\n      <th>apex legends</th>\n      <td>1</td>\n    </tr>\n    <tr>\n      <th>bulletstorm full clip edition</th>\n      <td>1</td>\n    </tr>\n    <tr>\n      <th>doom eternal</th>\n      <td>1</td>\n    </tr>\n    <tr>\n      <th>marvels spider-man</th>\n      <td>1</td>\n    </tr>\n    <tr>\n      <th>metro exodus</th>\n      <td>1</td>\n    </tr>\n    <tr>\n      <th>my friend pedro</th>\n      <td>1</td>\n    </tr>\n    <tr>\n      <th>rage 2</th>\n      <td>1</td>\n    </tr>\n    <tr>\n      <th>streets of rage 4</th>\n      <td>1</td>\n    </tr>\n  </tbody>\n</table>\n</div>",
      "text/plain": "                               nominations\nAction                                    \ngears 5                                  2\napex legends                             1\nbulletstorm full clip edition            1\ndoom eternal                             1\nmarvels spider-man                       1\nmetro exodus                             1\nmy friend pedro                          1\nrage 2                                   1\nstreets of rage 4                        1"
     },
     "execution_count": 174,
     "metadata": {},
     "output_type": "execute_result"
    }
   ],
   "source": [
    "CA = pd.DataFrame(QAct.copy())\r\n",
    "\r\n",
    "quinDic = {'valhalla':'assassins creed valhalla',\r\n",
    "            'new horizons':'animal crossing new horizons',\r\n",
    "            'animal crossing':'animal crossing new horizons',\r\n",
    "            'jedi':'star wars jedi fallen order',\r\n",
    "            'fallen order':'star wars jedi fallen order',\r\n",
    "            'pokemon':'pokemon sword/shield',\r\n",
    "            'hades':'hades',\r\n",
    "            'streets of rage':'streets of rage 4',\r\n",
    "            'final fantasy':'final fantasy vii',\r\n",
    "            'death stranding':'death stranding',\r\n",
    "            'last of us':'the last of us part 1',\r\n",
    "            'phasm':'phasmaphobia',\r\n",
    "            'fall':'fall guys',\r\n",
    "            'cod':'call of duty modern warfare',\r\n",
    "            'd2':'destiny 2',\r\n",
    "            'destiny':'destiny 2',\r\n",
    "            'apex':'apex legends',\r\n",
    "            'fortnight':'fortnite',\r\n",
    "            'ori':'ori and the blind forest',\r\n",
    "            'flight sim':'Microsoft Flight Simulator',\r\n",
    "            'fifa':'fifa 20',\r\n",
    "            'ff7':'final fantasy vii',\r\n",
    "            'amalur':'kingdoms of amalur re-reckoning',\r\n",
    "            're3':'resident evil 3',\r\n",
    "            'mafia ii':'mafia 2',\r\n",
    "            'mafia 2':'mafia 2',\r\n",
    "            'carr':'carrion 2',\r\n",
    "            'spider':'marvels spider-man',\r\n",
    "            'gears 5':'gears 5',\r\n",
    "            'hellblade':'hellblade senuas sacrifice',\r\n",
    "            'odyssey':'assassins creed odyssey'\r\n",
    "            }\r\n",
    "\r\n",
    "\r\n",
    "CA['Action'] = CA['Action'].apply(simplify,args = (quinDic,))\r\n",
    "CA = pd.DataFrame(CA)\r\n",
    "\r\n",
    "CA = CA.groupby(['Action']).size()\r\n",
    "CA = pd.DataFrame(CA)\r\n",
    "CA.rename({0:'nominations'},axis = 'columns', inplace = True)\r\n",
    "CA.sort_values(by=['nominations'], ascending = False)"
   ]
  },
  {
   "cell_type": "markdown",
   "metadata": {},
   "source": [
    "As Gears 5 is the only game to recieve multiple nominations in this category, it has won.\r\n",
    "\r\n",
    "Quinquo Best Action Game Contenders:\r\n",
    " - Gears 5\r\n",
    "\r\n",
    "\r\n",
    "---"
   ]
  },
  {
   "cell_type": "markdown",
   "metadata": {},
   "source": [
    "### The Quinquo Best Action Adventure Game of 2020"
   ]
  },
  {
   "cell_type": "code",
   "execution_count": 177,
   "metadata": {},
   "outputs": [
    {
     "data": {
      "text/html": "<div>\n<style scoped>\n    .dataframe tbody tr th:only-of-type {\n        vertical-align: middle;\n    }\n\n    .dataframe tbody tr th {\n        vertical-align: top;\n    }\n\n    .dataframe thead th {\n        text-align: right;\n    }\n</style>\n<table border=\"1\" class=\"dataframe\">\n  <thead>\n    <tr style=\"text-align: right;\">\n      <th></th>\n      <th>nominations</th>\n    </tr>\n    <tr>\n      <th>AA</th>\n      <th></th>\n    </tr>\n  </thead>\n  <tbody>\n    <tr>\n      <th>assassins creed odyssey</th>\n      <td>2</td>\n    </tr>\n    <tr>\n      <th>ori and the blind forest</th>\n      <td>2</td>\n    </tr>\n    <tr>\n      <th>control</th>\n      <td>1</td>\n    </tr>\n    <tr>\n      <th>gears 5</th>\n      <td>1</td>\n    </tr>\n    <tr>\n      <th>ghost of tsushima</th>\n      <td>1</td>\n    </tr>\n    <tr>\n      <th>god of war</th>\n      <td>1</td>\n    </tr>\n    <tr>\n      <th>metro exodus</th>\n      <td>1</td>\n    </tr>\n    <tr>\n      <th>nier automata</th>\n      <td>1</td>\n    </tr>\n    <tr>\n      <th>rage 2</th>\n      <td>1</td>\n    </tr>\n    <tr>\n      <th>sekiro shadows die twice</th>\n      <td>1</td>\n    </tr>\n    <tr>\n      <th>the last of us part 1</th>\n      <td>1</td>\n    </tr>\n  </tbody>\n</table>\n</div>",
      "text/plain": "                          nominations\nAA                                   \nassassins creed odyssey             2\nori and the blind forest            2\ncontrol                             1\ngears 5                             1\nghost of tsushima                   1\ngod of war                          1\nmetro exodus                        1\nnier automata                       1\nrage 2                              1\nsekiro shadows die twice            1\nthe last of us part 1               1"
     },
     "execution_count": 177,
     "metadata": {},
     "output_type": "execute_result"
    }
   ],
   "source": [
    "CA = pd.DataFrame(QAA.copy())\r\n",
    "\r\n",
    "quinDic = {'valhalla':'assassins creed valhalla',\r\n",
    "            'new horizons':'animal crossing new horizons',\r\n",
    "            'animal crossing':'animal crossing new horizons',\r\n",
    "            'jedi':'star wars jedi fallen order',\r\n",
    "            'fallen order':'star wars jedi fallen order',\r\n",
    "            'pokemon':'pokemon sword/shield',\r\n",
    "            'hades':'hades',\r\n",
    "            'streets of rage':'streets of rage 4',\r\n",
    "            'final fantasy':'final fantasy vii',\r\n",
    "            'death stranding':'death stranding',\r\n",
    "            'last of us':'the last of us part 1',\r\n",
    "            'phasm':'phasmaphobia',\r\n",
    "            'fall':'fall guys',\r\n",
    "            'cod':'call of duty modern warfare',\r\n",
    "            'd2':'destiny 2',\r\n",
    "            'destiny':'destiny 2',\r\n",
    "            'apex':'apex legends',\r\n",
    "            'fortnight':'fortnite',\r\n",
    "            'ori':'ori and the blind forest',\r\n",
    "            'flight sim':'Microsoft Flight Simulator',\r\n",
    "            'fifa':'fifa 20',\r\n",
    "            'ff7':'final fantasy vii',\r\n",
    "            'amalur':'kingdoms of amalur re-reckoning',\r\n",
    "            're3':'resident evil 3',\r\n",
    "            'mafia ii':'mafia 2',\r\n",
    "            'mafia 2':'mafia 2',\r\n",
    "            'carr':'carrion 2',\r\n",
    "            'spider':'marvels spider-man',\r\n",
    "            'gears 5':'gears 5',\r\n",
    "            'hellblade':'hellblade senuas sacrifice',\r\n",
    "            'odyssey':'assassins creed odyssey',\r\n",
    "            'gow':'god of war'\r\n",
    "            }\r\n",
    "\r\n",
    "\r\n",
    "CA['AA'] = CA['AA'].apply(simplify,args = (quinDic,))\r\n",
    "CA = pd.DataFrame(CA)\r\n",
    "\r\n",
    "CA = CA.groupby(['AA']).size()\r\n",
    "CA = pd.DataFrame(CA)\r\n",
    "CA.rename({0:'nominations'},axis = 'columns', inplace = True)\r\n",
    "CA.sort_values(by=['nominations'], ascending = False)"
   ]
  },
  {
   "cell_type": "markdown",
   "metadata": {},
   "source": [
    "Quinquo Action Adventure Contenders:\r\n",
    " - Assassins Creed Odyssey\r\n",
    " - Ori and the Blind Forest\r\n",
    "\r\n",
    "\r\n",
    "---"
   ]
  },
  {
   "cell_type": "code",
   "execution_count": 178,
   "metadata": {},
   "outputs": [
    {
     "data": {
      "text/html": "<div>\n<style scoped>\n    .dataframe tbody tr th:only-of-type {\n        vertical-align: middle;\n    }\n\n    .dataframe tbody tr th {\n        vertical-align: top;\n    }\n\n    .dataframe thead th {\n        text-align: right;\n    }\n</style>\n<table border=\"1\" class=\"dataframe\">\n  <thead>\n    <tr style=\"text-align: right;\">\n      <th></th>\n      <th>nominations</th>\n    </tr>\n    <tr>\n      <th>Sports</th>\n      <th></th>\n    </tr>\n  </thead>\n  <tbody>\n    <tr>\n      <th>fifa 20</th>\n      <td>2</td>\n    </tr>\n    <tr>\n      <th>dirt rally 2.0</th>\n      <td>1</td>\n    </tr>\n    <tr>\n      <th>mortal kombat 11</th>\n      <td>1</td>\n    </tr>\n    <tr>\n      <th>super smash ultimate</th>\n      <td>1</td>\n    </tr>\n  </tbody>\n</table>\n</div>",
      "text/plain": "                      nominations\nSports                           \nfifa 20                         2\ndirt rally 2.0                  1\nmortal kombat 11                1\nsuper smash ultimate            1"
     },
     "execution_count": 178,
     "metadata": {},
     "output_type": "execute_result"
    }
   ],
   "source": [
    "CA = pd.DataFrame(QSpor.copy())\r\n",
    "\r\n",
    "quinDic = {'valhalla':'assassins creed valhalla',\r\n",
    "            'new horizons':'animal crossing new horizons',\r\n",
    "            'animal crossing':'animal crossing new horizons',\r\n",
    "            'jedi':'star wars jedi fallen order',\r\n",
    "            'fallen order':'star wars jedi fallen order',\r\n",
    "            'pokemon':'pokemon sword/shield',\r\n",
    "            'hades':'hades',\r\n",
    "            'streets of rage':'streets of rage 4',\r\n",
    "            'final fantasy':'final fantasy vii',\r\n",
    "            'death stranding':'death stranding',\r\n",
    "            'last of us':'the last of us part 1',\r\n",
    "            'phasm':'phasmaphobia',\r\n",
    "            'fall':'fall guys',\r\n",
    "            'cod':'call of duty modern warfare',\r\n",
    "            'd2':'destiny 2',\r\n",
    "            'destiny':'destiny 2',\r\n",
    "            'apex':'apex legends',\r\n",
    "            'fortnight':'fortnite',\r\n",
    "            'ori':'ori and the blind forest',\r\n",
    "            'flight sim':'Microsoft Flight Simulator',\r\n",
    "            'fifa':'fifa 20',\r\n",
    "            'ff7':'final fantasy vii',\r\n",
    "            'amalur':'kingdoms of amalur re-reckoning',\r\n",
    "            're3':'resident evil 3',\r\n",
    "            'mafia ii':'mafia 2',\r\n",
    "            'mafia 2':'mafia 2',\r\n",
    "            'carr':'carrion 2',\r\n",
    "            'spider':'marvels spider-man',\r\n",
    "            'gears 5':'gears 5',\r\n",
    "            'hellblade':'hellblade senuas sacrifice',\r\n",
    "            'odyssey':'assassins creed odyssey'\r\n",
    "            }\r\n",
    "\r\n",
    "\r\n",
    "CA['Sports'] = CA['Sports'].apply(simplify,args = (quinDic,))\r\n",
    "CA = pd.DataFrame(CA)\r\n",
    "\r\n",
    "CA = CA.groupby(['Sports']).size()\r\n",
    "CA = pd.DataFrame(CA)\r\n",
    "CA.rename({0:'nominations'},axis = 'columns', inplace = True)\r\n",
    "CA.sort_values(by=['nominations'], ascending = False)"
   ]
  },
  {
   "cell_type": "markdown",
   "metadata": {},
   "source": [
    "As FIFA 20 is the only nomination with multiple votes, it has won this category.\r\n",
    "\r\n",
    "Quinquo Sports Contenders:\r\n",
    " - FIFA 20\r\n",
    "\r\n",
    "\r\n",
    "---"
   ]
  },
  {
   "cell_type": "markdown",
   "metadata": {},
   "source": [
    "### The Quinquo Best Strategy Game of 2020"
   ]
  },
  {
   "cell_type": "code",
   "execution_count": 179,
   "metadata": {},
   "outputs": [
    {
     "data": {
      "text/html": "<div>\n<style scoped>\n    .dataframe tbody tr th:only-of-type {\n        vertical-align: middle;\n    }\n\n    .dataframe tbody tr th {\n        vertical-align: top;\n    }\n\n    .dataframe thead th {\n        text-align: right;\n    }\n</style>\n<table border=\"1\" class=\"dataframe\">\n  <thead>\n    <tr style=\"text-align: right;\">\n      <th></th>\n      <th>nominations</th>\n    </tr>\n    <tr>\n      <th>Strategy</th>\n      <th></th>\n    </tr>\n  </thead>\n  <tbody>\n    <tr>\n      <th>Microsoft Flight Simulator</th>\n      <td>1</td>\n    </tr>\n    <tr>\n      <th>crusader kings iii</th>\n      <td>1</td>\n    </tr>\n    <tr>\n      <th>fire emblems three houses</th>\n      <td>1</td>\n    </tr>\n    <tr>\n      <th>gears tactics</th>\n      <td>1</td>\n    </tr>\n    <tr>\n      <th>rimworld</th>\n      <td>1</td>\n    </tr>\n    <tr>\n      <th>sins of a solar empire</th>\n      <td>1</td>\n    </tr>\n  </tbody>\n</table>\n</div>",
      "text/plain": "                            nominations\nStrategy                               \nMicrosoft Flight Simulator            1\ncrusader kings iii                    1\nfire emblems three houses             1\ngears tactics                         1\nrimworld                              1\nsins of a solar empire                1"
     },
     "execution_count": 179,
     "metadata": {},
     "output_type": "execute_result"
    }
   ],
   "source": [
    "CA = pd.DataFrame(QStra.copy())\r\n",
    "\r\n",
    "quinDic = {'valhalla':'assassins creed valhalla',\r\n",
    "            'new horizons':'animal crossing new horizons',\r\n",
    "            'animal crossing':'animal crossing new horizons',\r\n",
    "            'jedi':'star wars jedi fallen order',\r\n",
    "            'fallen order':'star wars jedi fallen order',\r\n",
    "            'pokemon':'pokemon sword/shield',\r\n",
    "            'hades':'hades',\r\n",
    "            'streets of rage':'streets of rage 4',\r\n",
    "            'final fantasy':'final fantasy vii',\r\n",
    "            'death stranding':'death stranding',\r\n",
    "            'last of us':'the last of us part 1',\r\n",
    "            'phasm':'phasmaphobia',\r\n",
    "            'fall':'fall guys',\r\n",
    "            'cod':'call of duty modern warfare',\r\n",
    "            'd2':'destiny 2',\r\n",
    "            'destiny':'destiny 2',\r\n",
    "            'apex':'apex legends',\r\n",
    "            'fortnight':'fortnite',\r\n",
    "            'ori':'ori and the blind forest',\r\n",
    "            'flight sim':'Microsoft Flight Simulator',\r\n",
    "            'fifa':'fifa 20',\r\n",
    "            'ff7':'final fantasy vii',\r\n",
    "            'amalur':'kingdoms of amalur re-reckoning',\r\n",
    "            're3':'resident evil 3',\r\n",
    "            'mafia ii':'mafia 2',\r\n",
    "            'mafia 2':'mafia 2',\r\n",
    "            'carr':'carrion 2',\r\n",
    "            'spider':'marvels spider-man',\r\n",
    "            'gears 5':'gears 5',\r\n",
    "            'hellblade':'hellblade senuas sacrifice',\r\n",
    "            'odyssey':'assassins creed odyssey'\r\n",
    "            }\r\n",
    "\r\n",
    "\r\n",
    "CA['Strategy'] = CA['Strategy'].apply(simplify,args = (quinDic,))\r\n",
    "CA = pd.DataFrame(CA)\r\n",
    "\r\n",
    "CA = CA.groupby(['Strategy']).size()\r\n",
    "CA = pd.DataFrame(CA)\r\n",
    "CA.rename({0:'nominations'},axis = 'columns', inplace = True)\r\n",
    "CA.sort_values(by=['nominations'], ascending = False)"
   ]
  },
  {
   "cell_type": "markdown",
   "metadata": {},
   "source": [
    "Quinquo Strategy Game Contenders:\r\n",
    " - Microsoft Flight Simulator\r\n",
    " - Crusader Kings 3\r\n",
    " - Fire Emblems 3 Houses\r\n",
    " - Gears Tactics\r\n",
    " - Rimworld\r\n",
    " - Sins of a Solar Empire\r\n",
    "\r\n",
    "\r\n",
    "---"
   ]
  },
  {
   "cell_type": "markdown",
   "metadata": {},
   "source": [
    "### The Quinquo Best RPG Game of 2020"
   ]
  },
  {
   "cell_type": "markdown",
   "metadata": {},
   "source": [
    "### The Quinquo Best Sports Game of 2020"
   ]
  },
  {
   "cell_type": "code",
   "execution_count": 178,
   "metadata": {},
   "outputs": [
    {
     "data": {
      "text/html": "<div>\n<style scoped>\n    .dataframe tbody tr th:only-of-type {\n        vertical-align: middle;\n    }\n\n    .dataframe tbody tr th {\n        vertical-align: top;\n    }\n\n    .dataframe thead th {\n        text-align: right;\n    }\n</style>\n<table border=\"1\" class=\"dataframe\">\n  <thead>\n    <tr style=\"text-align: right;\">\n      <th></th>\n      <th>nominations</th>\n    </tr>\n    <tr>\n      <th>Sports</th>\n      <th></th>\n    </tr>\n  </thead>\n  <tbody>\n    <tr>\n      <th>fifa 20</th>\n      <td>2</td>\n    </tr>\n    <tr>\n      <th>dirt rally 2.0</th>\n      <td>1</td>\n    </tr>\n    <tr>\n      <th>mortal kombat 11</th>\n      <td>1</td>\n    </tr>\n    <tr>\n      <th>super smash ultimate</th>\n      <td>1</td>\n    </tr>\n  </tbody>\n</table>\n</div>",
      "text/plain": "                      nominations\nSports                           \nfifa 20                         2\ndirt rally 2.0                  1\nmortal kombat 11                1\nsuper smash ultimate            1"
     },
     "execution_count": 178,
     "metadata": {},
     "output_type": "execute_result"
    }
   ],
   "source": [
    "CA = pd.DataFrame(QSpor.copy())\r\n",
    "\r\n",
    "quinDic = {'valhalla':'assassins creed valhalla',\r\n",
    "            'new horizons':'animal crossing new horizons',\r\n",
    "            'animal crossing':'animal crossing new horizons',\r\n",
    "            'jedi':'star wars jedi fallen order',\r\n",
    "            'fallen order':'star wars jedi fallen order',\r\n",
    "            'pokemon':'pokemon sword/shield',\r\n",
    "            'hades':'hades',\r\n",
    "            'streets of rage':'streets of rage 4',\r\n",
    "            'final fantasy':'final fantasy vii',\r\n",
    "            'death stranding':'death stranding',\r\n",
    "            'last of us':'the last of us part 1',\r\n",
    "            'phasm':'phasmaphobia',\r\n",
    "            'fall':'fall guys',\r\n",
    "            'cod':'call of duty modern warfare',\r\n",
    "            'd2':'destiny 2',\r\n",
    "            'destiny':'destiny 2',\r\n",
    "            'apex':'apex legends',\r\n",
    "            'fortnight':'fortnite',\r\n",
    "            'ori':'ori and the blind forest',\r\n",
    "            'flight sim':'Microsoft Flight Simulator',\r\n",
    "            'fifa':'fifa 20',\r\n",
    "            'ff7':'final fantasy vii',\r\n",
    "            'amalur':'kingdoms of amalur re-reckoning',\r\n",
    "            're3':'resident evil 3',\r\n",
    "            'mafia ii':'mafia 2',\r\n",
    "            'mafia 2':'mafia 2',\r\n",
    "            'carr':'carrion 2',\r\n",
    "            'spider':'marvels spider-man',\r\n",
    "            'gears 5':'gears 5',\r\n",
    "            'hellblade':'hellblade senuas sacrifice',\r\n",
    "            'odyssey':'assassins creed odyssey'\r\n",
    "            }\r\n",
    "\r\n",
    "\r\n",
    "CA['Sports'] = CA['Sports'].apply(simplify,args = (quinDic,))\r\n",
    "CA = pd.DataFrame(CA)\r\n",
    "\r\n",
    "CA = CA.groupby(['Sports']).size()\r\n",
    "CA = pd.DataFrame(CA)\r\n",
    "CA.rename({0:'nominations'},axis = 'columns', inplace = True)\r\n",
    "CA.sort_values(by=['nominations'], ascending = False)"
   ]
  },
  {
   "cell_type": "markdown",
   "metadata": {},
   "source": [
    "Kingdom Hearts 3 is the only game to win multiple nominations in this category, so it has won.\r\n",
    "\r\n",
    "Quinquo RPG contenders:\r\n",
    " - Kingdom Hearts 3\r\n",
    "\r\n",
    "\r\n",
    "---"
   ]
  },
  {
   "cell_type": "markdown",
   "metadata": {},
   "source": [
    "### The Quinquo Best Family/E10+ Game of 2020"
   ]
  },
  {
   "cell_type": "code",
   "execution_count": 182,
   "metadata": {},
   "outputs": [
    {
     "data": {
      "text/html": "<div>\n<style scoped>\n    .dataframe tbody tr th:only-of-type {\n        vertical-align: middle;\n    }\n\n    .dataframe tbody tr th {\n        vertical-align: top;\n    }\n\n    .dataframe thead th {\n        text-align: right;\n    }\n</style>\n<table border=\"1\" class=\"dataframe\">\n  <thead>\n    <tr style=\"text-align: right;\">\n      <th></th>\n      <th>nominations</th>\n    </tr>\n    <tr>\n      <th>E</th>\n      <th></th>\n    </tr>\n  </thead>\n  <tbody>\n    <tr>\n      <th>animal crossing new horizons</th>\n      <td>1</td>\n    </tr>\n    <tr>\n      <th>assassins creed odyssey</th>\n      <td>1</td>\n    </tr>\n    <tr>\n      <th>house flipper</th>\n      <td>1</td>\n    </tr>\n    <tr>\n      <th>luigi's mansion 3</th>\n      <td>1</td>\n    </tr>\n    <tr>\n      <th>minecraft</th>\n      <td>1</td>\n    </tr>\n    <tr>\n      <th>ori and the blind forest</th>\n      <td>1</td>\n    </tr>\n    <tr>\n      <th>spyro reignited trilogy</th>\n      <td>1</td>\n    </tr>\n    <tr>\n      <th>stardew valley</th>\n      <td>1</td>\n    </tr>\n    <tr>\n      <th>super mario maker 2</th>\n      <td>1</td>\n    </tr>\n  </tbody>\n</table>\n</div>",
      "text/plain": "                              nominations\nE                                        \nanimal crossing new horizons            1\nassassins creed odyssey                 1\nhouse flipper                           1\nluigi's mansion 3                       1\nminecraft                               1\nori and the blind forest                1\nspyro reignited trilogy                 1\nstardew valley                          1\nsuper mario maker 2                     1"
     },
     "execution_count": 182,
     "metadata": {},
     "output_type": "execute_result"
    }
   ],
   "source": [
    "CA = pd.DataFrame(QFam.copy())\r\n",
    "\r\n",
    "quinDic = {'valhalla':'assassins creed valhalla',\r\n",
    "            'new horizons':'animal crossing new horizons',\r\n",
    "            'animal crossing':'animal crossing new horizons',\r\n",
    "            'jedi':'star wars jedi fallen order',\r\n",
    "            'fallen order':'star wars jedi fallen order',\r\n",
    "            'pokemon':'pokemon sword/shield',\r\n",
    "            'hades':'hades',\r\n",
    "            'streets of rage':'streets of rage 4',\r\n",
    "            'final fantasy':'final fantasy vii',\r\n",
    "            'death stranding':'death stranding',\r\n",
    "            'last of us':'the last of us part 1',\r\n",
    "            'phasm':'phasmaphobia',\r\n",
    "            'fall':'fall guys',\r\n",
    "            'cod':'call of duty modern warfare',\r\n",
    "            'd2':'destiny 2',\r\n",
    "            'destiny':'destiny 2',\r\n",
    "            'apex':'apex legends',\r\n",
    "            'fortnight':'fortnite',\r\n",
    "            'ori':'ori and the blind forest',\r\n",
    "            'flight sim':'Microsoft Flight Simulator',\r\n",
    "            'fifa':'fifa 20',\r\n",
    "            'ff7':'final fantasy vii',\r\n",
    "            'amalur':'kingdoms of amalur re-reckoning',\r\n",
    "            're3':'resident evil 3',\r\n",
    "            'mafia ii':'mafia 2',\r\n",
    "            'mafia 2':'mafia 2',\r\n",
    "            'carr':'carrion 2',\r\n",
    "            'spider':'marvels spider-man',\r\n",
    "            'gears 5':'gears 5',\r\n",
    "            'hellblade':'hellblade senuas sacrifice',\r\n",
    "            'odyssey':'assassins creed odyssey'\r\n",
    "            }\r\n",
    "\r\n",
    "\r\n",
    "CA['E'] = CA['E'].apply(simplify,args = (quinDic,))\r\n",
    "CA = pd.DataFrame(CA)\r\n",
    "\r\n",
    "CA = CA.groupby(['E']).size()\r\n",
    "CA = pd.DataFrame(CA)\r\n",
    "CA.rename({0:'nominations'},axis = 'columns', inplace = True)\r\n",
    "CA.sort_values(by=['nominations'], ascending = False)"
   ]
  },
  {
   "cell_type": "markdown",
   "metadata": {},
   "source": [
    "Assassins Creed Odyssey is rated M. So it is disqualified. Animal Crossing ame out this year, so is disqualified. \r\n",
    "\r\n",
    "Quinquo Family/E10+ contenders:\r\n",
    " - House Flipper\r\n",
    " - Luigi's Mansion 3\r\n",
    " - Minecraft\r\n",
    " - Ori and the Blind Forest\r\n",
    " - Spyro Reignited\r\n",
    " - Stardew Valley\r\n",
    " - Super Mario Maker 2\r\n",
    "\r\n",
    "\r\n",
    "---"
   ]
  },
  {
   "cell_type": "markdown",
   "metadata": {},
   "source": [
    "### The Quinquo Best Game Deveoloped by an Indie Studio of 2020"
   ]
  },
  {
   "cell_type": "code",
   "execution_count": 183,
   "metadata": {},
   "outputs": [
    {
     "data": {
      "text/html": "<div>\n<style scoped>\n    .dataframe tbody tr th:only-of-type {\n        vertical-align: middle;\n    }\n\n    .dataframe tbody tr th {\n        vertical-align: top;\n    }\n\n    .dataframe thead th {\n        text-align: right;\n    }\n</style>\n<table border=\"1\" class=\"dataframe\">\n  <thead>\n    <tr style=\"text-align: right;\">\n      <th></th>\n      <th>nominations</th>\n    </tr>\n    <tr>\n      <th>Indie</th>\n      <th></th>\n    </tr>\n  </thead>\n  <tbody>\n    <tr>\n      <th>among us</th>\n      <td>2</td>\n    </tr>\n    <tr>\n      <th>afterparty</th>\n      <td>1</td>\n    </tr>\n    <tr>\n      <th>carrion 2</th>\n      <td>1</td>\n    </tr>\n    <tr>\n      <th>dead cells</th>\n      <td>1</td>\n    </tr>\n    <tr>\n      <th>devious dungeon</th>\n      <td>1</td>\n    </tr>\n    <tr>\n      <th>fall guys</th>\n      <td>1</td>\n    </tr>\n    <tr>\n      <th>house flipper</th>\n      <td>1</td>\n    </tr>\n    <tr>\n      <th>little misfortune</th>\n      <td>1</td>\n    </tr>\n    <tr>\n      <th>my friend pedro</th>\n      <td>1</td>\n    </tr>\n    <tr>\n      <th>sally face</th>\n      <td>1</td>\n    </tr>\n    <tr>\n      <th>untitled goose game</th>\n      <td>1</td>\n    </tr>\n    <tr>\n      <th>what the golf?</th>\n      <td>1</td>\n    </tr>\n  </tbody>\n</table>\n</div>",
      "text/plain": "                     nominations\nIndie                           \namong us                       2\nafterparty                     1\ncarrion 2                      1\ndead cells                     1\ndevious dungeon                1\nfall guys                      1\nhouse flipper                  1\nlittle misfortune              1\nmy friend pedro                1\nsally face                     1\nuntitled goose game            1\nwhat the golf?                 1"
     },
     "execution_count": 183,
     "metadata": {},
     "output_type": "execute_result"
    }
   ],
   "source": [
    "CA = pd.DataFrame(QIndi.copy())\r\n",
    "\r\n",
    "quinDic = {'valhalla':'assassins creed valhalla',\r\n",
    "            'new horizons':'animal crossing new horizons',\r\n",
    "            'animal crossing':'animal crossing new horizons',\r\n",
    "            'jedi':'star wars jedi fallen order',\r\n",
    "            'fallen order':'star wars jedi fallen order',\r\n",
    "            'pokemon':'pokemon sword/shield',\r\n",
    "            'hades':'hades',\r\n",
    "            'streets of rage':'streets of rage 4',\r\n",
    "            'final fantasy':'final fantasy vii',\r\n",
    "            'death stranding':'death stranding',\r\n",
    "            'last of us':'the last of us part 1',\r\n",
    "            'phasm':'phasmaphobia',\r\n",
    "            'fall':'fall guys',\r\n",
    "            'cod':'call of duty modern warfare',\r\n",
    "            'd2':'destiny 2',\r\n",
    "            'destiny':'destiny 2',\r\n",
    "            'apex':'apex legends',\r\n",
    "            'fortnight':'fortnite',\r\n",
    "            'ori':'ori and the blind forest',\r\n",
    "            'flight sim':'Microsoft Flight Simulator',\r\n",
    "            'fifa':'fifa 20',\r\n",
    "            'ff7':'final fantasy vii',\r\n",
    "            'amalur':'kingdoms of amalur re-reckoning',\r\n",
    "            're3':'resident evil 3',\r\n",
    "            'mafia ii':'mafia 2',\r\n",
    "            'mafia 2':'mafia 2',\r\n",
    "            'carr':'carrion 2',\r\n",
    "            'spider':'marvels spider-man',\r\n",
    "            'gears 5':'gears 5',\r\n",
    "            'hellblade':'hellblade senuas sacrifice',\r\n",
    "            'odyssey':'assassins creed odyssey'\r\n",
    "            }\r\n",
    "\r\n",
    "\r\n",
    "CA['Indie'] = CA['Indie'].apply(simplify,args = (quinDic,))\r\n",
    "CA = pd.DataFrame(CA)\r\n",
    "\r\n",
    "CA = CA.groupby(['Indie']).size()\r\n",
    "CA = pd.DataFrame(CA)\r\n",
    "CA.rename({0:'nominations'},axis = 'columns', inplace = True)\r\n",
    "CA.sort_values(by=['nominations'], ascending = False)"
   ]
  },
  {
   "cell_type": "markdown",
   "metadata": {},
   "source": [
    "Since it is the only game with multiple nominations, Among Us is the winner of this category\r\n",
    "\r\n",
    "Quinquo Game Developed by an Indie Studio contender:\r\n",
    " - Among Us\r\n",
    "\r\n",
    "\r\n",
    "---"
   ]
  },
  {
   "cell_type": "markdown",
   "metadata": {},
   "source": [
    "## Conclusion\r\n",
    "\r\n",
    "And that's it for this year guys! Those are the nominees, get ready to vote for your favorites!"
   ]
  }
 ],
 "metadata": {
  "kernelspec": {
   "display_name": "Python 3.8.6 32-bit",
   "metadata": {
    "interpreter": {
     "hash": "7a542ca580817fc4dd55327026e074e2fa0cd470fc5dee9350c2d8b13822db8d"
    }
   },
   "name": "python3"
  },
  "language_info": {
   "codemirror_mode": {
    "name": "ipython",
    "version": 3
   },
   "file_extension": ".py",
   "mimetype": "text/x-python",
   "name": "python",
   "nbconvert_exporter": "python",
   "pygments_lexer": "ipython3",
   "version": "3.8.6"
  },
  "orig_nbformat": 2
 },
 "nbformat": 4,
 "nbformat_minor": 2
}